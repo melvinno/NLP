{
 "cells": [
  {
   "cell_type": "markdown",
   "metadata": {},
   "source": [
    "## Assignments for Week-02"
   ]
  },
  {
   "cell_type": "markdown",
   "metadata": {},
   "source": [
    "In this course, we learnt what's the search problem and what's the machine leanring. In this assignment, we need you do some more practice."
   ]
  },
  {
   "cell_type": "markdown",
   "metadata": {},
   "source": [
    "### 1. Re-code the house price machine learning\n",
    "\n",
    "###### 1. Random Choose Method to get optimal *k* and *b*\n",
    "###### 2.Supervised Direction to get optimal *k* and *b*\n",
    "###### 3.Gradient Descent to get optimal *k* and *b*\n",
    "###### 4. Try different Loss function and learning rate. \n",
    "\n",
    "For example, you can change the loss function: $Loss = \\frac{1}{n} sum({y_i - \\hat{y_i}})^2$ to $Loss = \\frac{1}{n} sum(|{y_i - \\hat{y_i}}|)$\n",
    "\n",
    "And you can change the learning rate and observe the performance."
   ]
  },
  {
   "cell_type": "markdown",
   "metadata": {},
   "source": [
    "![](https://timgsa.baidu.com/timg?image&quality=80&size=b9999_10000&sec=1562414412237&di=8377c38d7b50c6f8d45b92ccc78dc1e7&imgtype=0&src=http%3A%2F%2Fmmbiz.qpic.cn%2Fmmbiz_jpg%2FlSyiavfm6wPgQDuDYa42IMgSkLOcPJU91RbkMibGy7VHLrhhNVLibTYk1iaLcmXKTdHc4icTDVia59QFXwqpW8cLflaw%2F640%3Fwx_fmt%3Djpeg)"
   ]
  },
  {
   "cell_type": "code",
   "execution_count": 1,
   "metadata": {},
   "outputs": [],
   "source": [
    "from sklearn.datasets import load_boston"
   ]
  },
  {
   "cell_type": "code",
   "execution_count": 2,
   "metadata": {},
   "outputs": [],
   "source": [
    "data = load_boston()"
   ]
  },
  {
   "cell_type": "code",
   "execution_count": 3,
   "metadata": {},
   "outputs": [],
   "source": [
    "X, y = data['data'], data['target']"
   ]
  },
  {
   "cell_type": "code",
   "execution_count": 4,
   "metadata": {},
   "outputs": [
    {
     "data": {
      "text/plain": [
       "array([6.575, 6.421, 7.185, 6.998, 7.147, 6.43 , 6.012, 6.172, 5.631,\n",
       "       6.004, 6.377, 6.009, 5.889, 5.949, 6.096, 5.834, 5.935, 5.99 ,\n",
       "       5.456, 5.727, 5.57 , 5.965, 6.142, 5.813, 5.924, 5.599, 5.813,\n",
       "       6.047, 6.495, 6.674, 5.713, 6.072, 5.95 , 5.701, 6.096, 5.933,\n",
       "       5.841, 5.85 , 5.966, 6.595, 7.024, 6.77 , 6.169, 6.211, 6.069,\n",
       "       5.682, 5.786, 6.03 , 5.399, 5.602, 5.963, 6.115, 6.511, 5.998,\n",
       "       5.888, 7.249, 6.383, 6.816, 6.145, 5.927, 5.741, 5.966, 6.456,\n",
       "       6.762, 7.104, 6.29 , 5.787, 5.878, 5.594, 5.885, 6.417, 5.961,\n",
       "       6.065, 6.245, 6.273, 6.286, 6.279, 6.14 , 6.232, 5.874, 6.727,\n",
       "       6.619, 6.302, 6.167, 6.389, 6.63 , 6.015, 6.121, 7.007, 7.079,\n",
       "       6.417, 6.405, 6.442, 6.211, 6.249, 6.625, 6.163, 8.069, 7.82 ,\n",
       "       7.416, 6.727, 6.781, 6.405, 6.137, 6.167, 5.851, 5.836, 6.127,\n",
       "       6.474, 6.229, 6.195, 6.715, 5.913, 6.092, 6.254, 5.928, 6.176,\n",
       "       6.021, 5.872, 5.731, 5.87 , 6.004, 5.961, 5.856, 5.879, 5.986,\n",
       "       5.613, 5.693, 6.431, 5.637, 6.458, 6.326, 6.372, 5.822, 5.757,\n",
       "       6.335, 5.942, 6.454, 5.857, 6.151, 6.174, 5.019, 5.403, 5.468,\n",
       "       4.903, 6.13 , 5.628, 4.926, 5.186, 5.597, 6.122, 5.404, 5.012,\n",
       "       5.709, 6.129, 6.152, 5.272, 6.943, 6.066, 6.51 , 6.25 , 7.489,\n",
       "       7.802, 8.375, 5.854, 6.101, 7.929, 5.877, 6.319, 6.402, 5.875,\n",
       "       5.88 , 5.572, 6.416, 5.859, 6.546, 6.02 , 6.315, 6.86 , 6.98 ,\n",
       "       7.765, 6.144, 7.155, 6.563, 5.604, 6.153, 7.831, 6.782, 6.556,\n",
       "       7.185, 6.951, 6.739, 7.178, 6.8  , 6.604, 7.875, 7.287, 7.107,\n",
       "       7.274, 6.975, 7.135, 6.162, 7.61 , 7.853, 8.034, 5.891, 6.326,\n",
       "       5.783, 6.064, 5.344, 5.96 , 5.404, 5.807, 6.375, 5.412, 6.182,\n",
       "       5.888, 6.642, 5.951, 6.373, 6.951, 6.164, 6.879, 6.618, 8.266,\n",
       "       8.725, 8.04 , 7.163, 7.686, 6.552, 5.981, 7.412, 8.337, 8.247,\n",
       "       6.726, 6.086, 6.631, 7.358, 6.481, 6.606, 6.897, 6.095, 6.358,\n",
       "       6.393, 5.593, 5.605, 6.108, 6.226, 6.433, 6.718, 6.487, 6.438,\n",
       "       6.957, 8.259, 6.108, 5.876, 7.454, 8.704, 7.333, 6.842, 7.203,\n",
       "       7.52 , 8.398, 7.327, 7.206, 5.56 , 7.014, 8.297, 7.47 , 5.92 ,\n",
       "       5.856, 6.24 , 6.538, 7.691, 6.758, 6.854, 7.267, 6.826, 6.482,\n",
       "       6.812, 7.82 , 6.968, 7.645, 7.923, 7.088, 6.453, 6.23 , 6.209,\n",
       "       6.315, 6.565, 6.861, 7.148, 6.63 , 6.127, 6.009, 6.678, 6.549,\n",
       "       5.79 , 6.345, 7.041, 6.871, 6.59 , 6.495, 6.982, 7.236, 6.616,\n",
       "       7.42 , 6.849, 6.635, 5.972, 4.973, 6.122, 6.023, 6.266, 6.567,\n",
       "       5.705, 5.914, 5.782, 6.382, 6.113, 6.426, 6.376, 6.041, 5.708,\n",
       "       6.415, 6.431, 6.312, 6.083, 5.868, 6.333, 6.144, 5.706, 6.031,\n",
       "       6.316, 6.31 , 6.037, 5.869, 5.895, 6.059, 5.985, 5.968, 7.241,\n",
       "       6.54 , 6.696, 6.874, 6.014, 5.898, 6.516, 6.635, 6.939, 6.49 ,\n",
       "       6.579, 5.884, 6.728, 5.663, 5.936, 6.212, 6.395, 6.127, 6.112,\n",
       "       6.398, 6.251, 5.362, 5.803, 8.78 , 3.561, 4.963, 3.863, 4.97 ,\n",
       "       6.683, 7.016, 6.216, 5.875, 4.906, 4.138, 7.313, 6.649, 6.794,\n",
       "       6.38 , 6.223, 6.968, 6.545, 5.536, 5.52 , 4.368, 5.277, 4.652,\n",
       "       5.   , 4.88 , 5.39 , 5.713, 6.051, 5.036, 6.193, 5.887, 6.471,\n",
       "       6.405, 5.747, 5.453, 5.852, 5.987, 6.343, 6.404, 5.349, 5.531,\n",
       "       5.683, 4.138, 5.608, 5.617, 6.852, 5.757, 6.657, 4.628, 5.155,\n",
       "       4.519, 6.434, 6.782, 5.304, 5.957, 6.824, 6.411, 6.006, 5.648,\n",
       "       6.103, 5.565, 5.896, 5.837, 6.202, 6.193, 6.38 , 6.348, 6.833,\n",
       "       6.425, 6.436, 6.208, 6.629, 6.461, 6.152, 5.935, 5.627, 5.818,\n",
       "       6.406, 6.219, 6.485, 5.854, 6.459, 6.341, 6.251, 6.185, 6.417,\n",
       "       6.749, 6.655, 6.297, 7.393, 6.728, 6.525, 5.976, 5.936, 6.301,\n",
       "       6.081, 6.701, 6.376, 6.317, 6.513, 6.209, 5.759, 5.952, 6.003,\n",
       "       5.926, 5.713, 6.167, 6.229, 6.437, 6.98 , 5.427, 6.162, 6.484,\n",
       "       5.304, 6.185, 6.229, 6.242, 6.75 , 7.061, 5.762, 5.871, 6.312,\n",
       "       6.114, 5.905, 5.454, 5.414, 5.093, 5.983, 5.983, 5.707, 5.926,\n",
       "       5.67 , 5.39 , 5.794, 6.019, 5.569, 6.027, 6.593, 6.12 , 6.976,\n",
       "       6.794, 6.03 ])"
      ]
     },
     "execution_count": 4,
     "metadata": {},
     "output_type": "execute_result"
    }
   ],
   "source": [
    "X[:, 5]"
   ]
  },
  {
   "cell_type": "code",
   "execution_count": 5,
   "metadata": {},
   "outputs": [
    {
     "data": {
      "text/plain": [
       "{'data': array([[6.3200e-03, 1.8000e+01, 2.3100e+00, ..., 1.5300e+01, 3.9690e+02,\n",
       "         4.9800e+00],\n",
       "        [2.7310e-02, 0.0000e+00, 7.0700e+00, ..., 1.7800e+01, 3.9690e+02,\n",
       "         9.1400e+00],\n",
       "        [2.7290e-02, 0.0000e+00, 7.0700e+00, ..., 1.7800e+01, 3.9283e+02,\n",
       "         4.0300e+00],\n",
       "        ...,\n",
       "        [6.0760e-02, 0.0000e+00, 1.1930e+01, ..., 2.1000e+01, 3.9690e+02,\n",
       "         5.6400e+00],\n",
       "        [1.0959e-01, 0.0000e+00, 1.1930e+01, ..., 2.1000e+01, 3.9345e+02,\n",
       "         6.4800e+00],\n",
       "        [4.7410e-02, 0.0000e+00, 1.1930e+01, ..., 2.1000e+01, 3.9690e+02,\n",
       "         7.8800e+00]]),\n",
       " 'target': array([24. , 21.6, 34.7, 33.4, 36.2, 28.7, 22.9, 27.1, 16.5, 18.9, 15. ,\n",
       "        18.9, 21.7, 20.4, 18.2, 19.9, 23.1, 17.5, 20.2, 18.2, 13.6, 19.6,\n",
       "        15.2, 14.5, 15.6, 13.9, 16.6, 14.8, 18.4, 21. , 12.7, 14.5, 13.2,\n",
       "        13.1, 13.5, 18.9, 20. , 21. , 24.7, 30.8, 34.9, 26.6, 25.3, 24.7,\n",
       "        21.2, 19.3, 20. , 16.6, 14.4, 19.4, 19.7, 20.5, 25. , 23.4, 18.9,\n",
       "        35.4, 24.7, 31.6, 23.3, 19.6, 18.7, 16. , 22.2, 25. , 33. , 23.5,\n",
       "        19.4, 22. , 17.4, 20.9, 24.2, 21.7, 22.8, 23.4, 24.1, 21.4, 20. ,\n",
       "        20.8, 21.2, 20.3, 28. , 23.9, 24.8, 22.9, 23.9, 26.6, 22.5, 22.2,\n",
       "        23.6, 28.7, 22.6, 22. , 22.9, 25. , 20.6, 28.4, 21.4, 38.7, 43.8,\n",
       "        33.2, 27.5, 26.5, 18.6, 19.3, 20.1, 19.5, 19.5, 20.4, 19.8, 19.4,\n",
       "        21.7, 22.8, 18.8, 18.7, 18.5, 18.3, 21.2, 19.2, 20.4, 19.3, 22. ,\n",
       "        20.3, 20.5, 17.3, 18.8, 21.4, 15.7, 16.2, 18. , 14.3, 19.2, 19.6,\n",
       "        23. , 18.4, 15.6, 18.1, 17.4, 17.1, 13.3, 17.8, 14. , 14.4, 13.4,\n",
       "        15.6, 11.8, 13.8, 15.6, 14.6, 17.8, 15.4, 21.5, 19.6, 15.3, 19.4,\n",
       "        17. , 15.6, 13.1, 41.3, 24.3, 23.3, 27. , 50. , 50. , 50. , 22.7,\n",
       "        25. , 50. , 23.8, 23.8, 22.3, 17.4, 19.1, 23.1, 23.6, 22.6, 29.4,\n",
       "        23.2, 24.6, 29.9, 37.2, 39.8, 36.2, 37.9, 32.5, 26.4, 29.6, 50. ,\n",
       "        32. , 29.8, 34.9, 37. , 30.5, 36.4, 31.1, 29.1, 50. , 33.3, 30.3,\n",
       "        34.6, 34.9, 32.9, 24.1, 42.3, 48.5, 50. , 22.6, 24.4, 22.5, 24.4,\n",
       "        20. , 21.7, 19.3, 22.4, 28.1, 23.7, 25. , 23.3, 28.7, 21.5, 23. ,\n",
       "        26.7, 21.7, 27.5, 30.1, 44.8, 50. , 37.6, 31.6, 46.7, 31.5, 24.3,\n",
       "        31.7, 41.7, 48.3, 29. , 24. , 25.1, 31.5, 23.7, 23.3, 22. , 20.1,\n",
       "        22.2, 23.7, 17.6, 18.5, 24.3, 20.5, 24.5, 26.2, 24.4, 24.8, 29.6,\n",
       "        42.8, 21.9, 20.9, 44. , 50. , 36. , 30.1, 33.8, 43.1, 48.8, 31. ,\n",
       "        36.5, 22.8, 30.7, 50. , 43.5, 20.7, 21.1, 25.2, 24.4, 35.2, 32.4,\n",
       "        32. , 33.2, 33.1, 29.1, 35.1, 45.4, 35.4, 46. , 50. , 32.2, 22. ,\n",
       "        20.1, 23.2, 22.3, 24.8, 28.5, 37.3, 27.9, 23.9, 21.7, 28.6, 27.1,\n",
       "        20.3, 22.5, 29. , 24.8, 22. , 26.4, 33.1, 36.1, 28.4, 33.4, 28.2,\n",
       "        22.8, 20.3, 16.1, 22.1, 19.4, 21.6, 23.8, 16.2, 17.8, 19.8, 23.1,\n",
       "        21. , 23.8, 23.1, 20.4, 18.5, 25. , 24.6, 23. , 22.2, 19.3, 22.6,\n",
       "        19.8, 17.1, 19.4, 22.2, 20.7, 21.1, 19.5, 18.5, 20.6, 19. , 18.7,\n",
       "        32.7, 16.5, 23.9, 31.2, 17.5, 17.2, 23.1, 24.5, 26.6, 22.9, 24.1,\n",
       "        18.6, 30.1, 18.2, 20.6, 17.8, 21.7, 22.7, 22.6, 25. , 19.9, 20.8,\n",
       "        16.8, 21.9, 27.5, 21.9, 23.1, 50. , 50. , 50. , 50. , 50. , 13.8,\n",
       "        13.8, 15. , 13.9, 13.3, 13.1, 10.2, 10.4, 10.9, 11.3, 12.3,  8.8,\n",
       "         7.2, 10.5,  7.4, 10.2, 11.5, 15.1, 23.2,  9.7, 13.8, 12.7, 13.1,\n",
       "        12.5,  8.5,  5. ,  6.3,  5.6,  7.2, 12.1,  8.3,  8.5,  5. , 11.9,\n",
       "        27.9, 17.2, 27.5, 15. , 17.2, 17.9, 16.3,  7. ,  7.2,  7.5, 10.4,\n",
       "         8.8,  8.4, 16.7, 14.2, 20.8, 13.4, 11.7,  8.3, 10.2, 10.9, 11. ,\n",
       "         9.5, 14.5, 14.1, 16.1, 14.3, 11.7, 13.4,  9.6,  8.7,  8.4, 12.8,\n",
       "        10.5, 17.1, 18.4, 15.4, 10.8, 11.8, 14.9, 12.6, 14.1, 13. , 13.4,\n",
       "        15.2, 16.1, 17.8, 14.9, 14.1, 12.7, 13.5, 14.9, 20. , 16.4, 17.7,\n",
       "        19.5, 20.2, 21.4, 19.9, 19. , 19.1, 19.1, 20.1, 19.9, 19.6, 23.2,\n",
       "        29.8, 13.8, 13.3, 16.7, 12. , 14.6, 21.4, 23. , 23.7, 25. , 21.8,\n",
       "        20.6, 21.2, 19.1, 20.6, 15.2,  7. ,  8.1, 13.6, 20.1, 21.8, 24.5,\n",
       "        23.1, 19.7, 18.3, 21.2, 17.5, 16.8, 22.4, 20.6, 23.9, 22. , 11.9]),\n",
       " 'feature_names': array(['CRIM', 'ZN', 'INDUS', 'CHAS', 'NOX', 'RM', 'AGE', 'DIS', 'RAD',\n",
       "        'TAX', 'PTRATIO', 'B', 'LSTAT'], dtype='<U7'),\n",
       " 'DESCR': \".. _boston_dataset:\\n\\nBoston house prices dataset\\n---------------------------\\n\\n**Data Set Characteristics:**  \\n\\n    :Number of Instances: 506 \\n\\n    :Number of Attributes: 13 numeric/categorical predictive. Median Value (attribute 14) is usually the target.\\n\\n    :Attribute Information (in order):\\n        - CRIM     per capita crime rate by town\\n        - ZN       proportion of residential land zoned for lots over 25,000 sq.ft.\\n        - INDUS    proportion of non-retail business acres per town\\n        - CHAS     Charles River dummy variable (= 1 if tract bounds river; 0 otherwise)\\n        - NOX      nitric oxides concentration (parts per 10 million)\\n        - RM       average number of rooms per dwelling\\n        - AGE      proportion of owner-occupied units built prior to 1940\\n        - DIS      weighted distances to five Boston employment centres\\n        - RAD      index of accessibility to radial highways\\n        - TAX      full-value property-tax rate per $10,000\\n        - PTRATIO  pupil-teacher ratio by town\\n        - B        1000(Bk - 0.63)^2 where Bk is the proportion of blacks by town\\n        - LSTAT    % lower status of the population\\n        - MEDV     Median value of owner-occupied homes in $1000's\\n\\n    :Missing Attribute Values: None\\n\\n    :Creator: Harrison, D. and Rubinfeld, D.L.\\n\\nThis is a copy of UCI ML housing dataset.\\nhttps://archive.ics.uci.edu/ml/machine-learning-databases/housing/\\n\\n\\nThis dataset was taken from the StatLib library which is maintained at Carnegie Mellon University.\\n\\nThe Boston house-price data of Harrison, D. and Rubinfeld, D.L. 'Hedonic\\nprices and the demand for clean air', J. Environ. Economics & Management,\\nvol.5, 81-102, 1978.   Used in Belsley, Kuh & Welsch, 'Regression diagnostics\\n...', Wiley, 1980.   N.B. Various transformations are used in the table on\\npages 244-261 of the latter.\\n\\nThe Boston house-price data has been used in many machine learning papers that address regression\\nproblems.   \\n     \\n.. topic:: References\\n\\n   - Belsley, Kuh & Welsch, 'Regression diagnostics: Identifying Influential Data and Sources of Collinearity', Wiley, 1980. 244-261.\\n   - Quinlan,R. (1993). Combining Instance-Based and Model-Based Learning. In Proceedings on the Tenth International Conference of Machine Learning, 236-243, University of Massachusetts, Amherst. Morgan Kaufmann.\\n\",\n",
       " 'filename': '/usr/local/anaconda3/lib/python3.7/site-packages/sklearn/datasets/data/boston_house_prices.csv'}"
      ]
     },
     "execution_count": 5,
     "metadata": {},
     "output_type": "execute_result"
    }
   ],
   "source": [
    "data"
   ]
  },
  {
   "cell_type": "code",
   "execution_count": 6,
   "metadata": {},
   "outputs": [
    {
     "data": {
      "text/plain": [
       "\".. _boston_dataset:\\n\\nBoston house prices dataset\\n---------------------------\\n\\n**Data Set Characteristics:**  \\n\\n    :Number of Instances: 506 \\n\\n    :Number of Attributes: 13 numeric/categorical predictive. Median Value (attribute 14) is usually the target.\\n\\n    :Attribute Information (in order):\\n        - CRIM     per capita crime rate by town\\n        - ZN       proportion of residential land zoned for lots over 25,000 sq.ft.\\n        - INDUS    proportion of non-retail business acres per town\\n        - CHAS     Charles River dummy variable (= 1 if tract bounds river; 0 otherwise)\\n        - NOX      nitric oxides concentration (parts per 10 million)\\n        - RM       average number of rooms per dwelling\\n        - AGE      proportion of owner-occupied units built prior to 1940\\n        - DIS      weighted distances to five Boston employment centres\\n        - RAD      index of accessibility to radial highways\\n        - TAX      full-value property-tax rate per $10,000\\n        - PTRATIO  pupil-teacher ratio by town\\n        - B        1000(Bk - 0.63)^2 where Bk is the proportion of blacks by town\\n        - LSTAT    % lower status of the population\\n        - MEDV     Median value of owner-occupied homes in $1000's\\n\\n    :Missing Attribute Values: None\\n\\n    :Creator: Harrison, D. and Rubinfeld, D.L.\\n\\nThis is a copy of UCI ML housing dataset.\\nhttps://archive.ics.uci.edu/ml/machine-learning-databases/housing/\\n\\n\\nThis dataset was taken from the StatLib library which is maintained at Carnegie Mellon University.\\n\\nThe Boston house-price data of Harrison, D. and Rubinfeld, D.L. 'Hedonic\\nprices and the demand for clean air', J. Environ. Economics & Management,\\nvol.5, 81-102, 1978.   Used in Belsley, Kuh & Welsch, 'Regression diagnostics\\n...', Wiley, 1980.   N.B. Various transformations are used in the table on\\npages 244-261 of the latter.\\n\\nThe Boston house-price data has been used in many machine learning papers that address regression\\nproblems.   \\n     \\n.. topic:: References\\n\\n   - Belsley, Kuh & Welsch, 'Regression diagnostics: Identifying Influential Data and Sources of Collinearity', Wiley, 1980. 244-261.\\n   - Quinlan,R. (1993). Combining Instance-Based and Model-Based Learning. In Proceedings on the Tenth International Conference of Machine Learning, 236-243, University of Massachusetts, Amherst. Morgan Kaufmann.\\n\""
      ]
     },
     "execution_count": 6,
     "metadata": {},
     "output_type": "execute_result"
    }
   ],
   "source": [
    "data['DESCR']"
   ]
  },
  {
   "cell_type": "code",
   "execution_count": 7,
   "metadata": {},
   "outputs": [],
   "source": [
    "import matplotlib.pyplot as plt"
   ]
  },
  {
   "cell_type": "code",
   "execution_count": 8,
   "metadata": {},
   "outputs": [],
   "source": [
    "def draw_rm_and_price():\n",
    "    plt.scatter(X[:, 5], y)"
   ]
  },
  {
   "cell_type": "code",
   "execution_count": 9,
   "metadata": {
    "scrolled": false
   },
   "outputs": [
    {
     "data": {
      "image/png": "[encoded data removed]",
      "text/plain": [
       "<Figure size 432x288 with 1 Axes>"
      ]
     },
     "metadata": {
      "needs_background": "light"
     },
     "output_type": "display_data"
    }
   ],
   "source": [
    "draw_rm_and_price()"
   ]
  },
  {
   "cell_type": "code",
   "execution_count": 10,
   "metadata": {},
   "outputs": [],
   "source": [
    "import random"
   ]
  },
  {
   "cell_type": "code",
   "execution_count": 11,
   "metadata": {},
   "outputs": [],
   "source": [
    "def price(rm, k, b):\n",
    "    \"\"\"f(x) = k * x + b\"\"\"\n",
    "    return k * rm + b  "
   ]
  },
  {
   "cell_type": "code",
   "execution_count": 12,
   "metadata": {},
   "outputs": [],
   "source": [
    "k = 8 # random.randint(-100, 100)\n",
    "b = -27 # random.randint(-100, 100)\n",
    "price_by_random_k_and_b = [price(r, k, b) for r in X[:, 5]]"
   ]
  },
  {
   "cell_type": "code",
   "execution_count": 13,
   "metadata": {},
   "outputs": [
    {
     "data": {
      "text/plain": [
       "<matplotlib.collections.PathCollection at 0x1a1f2db1d0>"
      ]
     },
     "execution_count": 13,
     "metadata": {},
     "output_type": "execute_result"
    },
    {
     "data": {
      "image/png": "[encoded data removed]",
      "text/plain": [
       "<Figure size 432x288 with 1 Axes>"
      ]
     },
     "metadata": {
      "needs_background": "light"
     },
     "output_type": "display_data"
    }
   ],
   "source": [
    "draw_rm_and_price()\n",
    "plt.scatter(X[:, 5], price_by_random_k_and_b)"
   ]
  },
  {
   "cell_type": "code",
   "execution_count": 14,
   "metadata": {},
   "outputs": [],
   "source": [
    "def loss(y, y_hat):\n",
    "    return sum((y_i - y_hat_i)**2 for y_i, y_hat_i in zip(list(y), list(y_hat))) / len(list(y))"
   ]
  },
  {
   "cell_type": "code",
   "execution_count": 15,
   "metadata": {},
   "outputs": [
    {
     "data": {
      "text/plain": [
       "44.752937169960475"
      ]
     },
     "execution_count": 15,
     "metadata": {},
     "output_type": "execute_result"
    }
   ],
   "source": [
    "loss(y, price_by_random_k_and_b)"
   ]
  },
  {
   "cell_type": "code",
   "execution_count": 16,
   "metadata": {},
   "outputs": [
    {
     "name": "stdout",
     "output_type": "stream",
     "text": [
      "Get best_k: 2 best_b: -4, and the loss is: 263.4324557075102\n",
      "Get best_k: 7 best_b: -10, and the loss is: 177.1009243142293\n",
      "Get best_k: 0 best_b: 13, and the loss is: 175.29395256916993\n",
      "Get best_k: 9 best_b: -23, and the loss is: 165.24239368972331\n",
      "Get best_k: -2 best_b: 33, and the loss is: 108.74731894861658\n",
      "Get best_k: 3 best_b: -1, and the loss is: 83.83855459090907\n",
      "Get best_k: 6 best_b: -18, and the loss is: 56.322422316205504\n",
      "Get best_k: 12 best_b: -53, and the loss is: 47.75182839525695\n",
      "Get best_k: 8 best_b: -27, and the loss is: 44.752937169960475\n"
     ]
    }
   ],
   "source": [
    "try_times = 10000\n",
    "\n",
    "min_loss = float('inf')\n",
    "best_k, best_b = None, None\n",
    "\n",
    "for i in range(try_times):\n",
    "    k = random.randint(-100, 100)\n",
    "    b = random.randint(-100, 100)\n",
    "    \n",
    "    price_by_random_k_and_b = [price(r, k, b) for r in X[:, 5]]\n",
    "    \n",
    "    current_loss = loss(y, price_by_random_k_and_b)\n",
    "    \n",
    "    if current_loss < min_loss:\n",
    "        min_loss = current_loss\n",
    "        best_k, best_b = k, b\n",
    "        \n",
    "        print('Get best_k: {} best_b: {}, and the loss is: {}'.format(best_k, best_b, min_loss))"
   ]
  },
  {
   "cell_type": "code",
   "execution_count": 17,
   "metadata": {},
   "outputs": [
    {
     "name": "stdout",
     "output_type": "stream",
     "text": [
      "Get best_k: -25.943685915102783 best_b: -47.360416807261785, and the loss is: 54909.68480915187\n",
      "Get best_k: -25.843685915102782 best_b: -47.46041680726179, and the loss is: 54660.31529117673\n",
      "Get best_k: -25.74368591510278 best_b: -47.56041680726179, and the loss is: 54411.514174318065\n",
      "Get best_k: -25.64368591510278 best_b: -47.66041680726179, and the loss is: 54163.281458576006\n",
      "Get best_k: -25.543685915102778 best_b: -47.76041680726179, and the loss is: 53915.61714395039\n",
      "Get best_k: -25.443685915102776 best_b: -47.86041680726179, and the loss is: 53668.521230441176\n",
      "Get best_k: -25.343685915102775 best_b: -47.960416807261794, and the loss is: 53421.993718048536\n",
      "Get best_k: -25.243685915102773 best_b: -48.060416807261795, and the loss is: 53176.03460677222\n",
      "Get best_k: -25.143685915102772 best_b: -48.1604168072618, and the loss is: 52930.64389661263\n",
      "Get best_k: -25.04368591510277 best_b: -48.2604168072618, and the loss is: 52685.821587569364\n",
      "Get best_k: -24.94368591510277 best_b: -48.3604168072618, and the loss is: 52441.56767964256\n",
      "Get best_k: -24.843685915102768 best_b: -48.4604168072618, and the loss is: 52197.88217283231\n",
      "Get best_k: -24.743685915102766 best_b: -48.5604168072618, and the loss is: 51954.76506713856\n",
      "Get best_k: -24.643685915102765 best_b: -48.660416807261804, and the loss is: 51712.216362561216\n",
      "Get best_k: -24.543685915102763 best_b: -48.760416807261805, and the loss is: 51470.23605910038\n",
      "Get best_k: -24.443685915102762 best_b: -48.86041680726181, and the loss is: 51228.82415675606\n",
      "Get best_k: -24.34368591510276 best_b: -48.96041680726181, and the loss is: 50987.98065552821\n",
      "Get best_k: -24.24368591510276 best_b: -49.06041680726181, and the loss is: 50747.70555541688\n",
      "Get best_k: -24.143685915102758 best_b: -49.16041680726181, and the loss is: 50507.998856421975\n",
      "Get best_k: -24.043685915102756 best_b: -49.26041680726181, and the loss is: 50268.86055854359\n",
      "Get best_k: -23.943685915102755 best_b: -49.360416807261814, and the loss is: 50030.29066178165\n",
      "Get best_k: -23.843685915102753 best_b: -49.460416807261815, and the loss is: 49792.28916613618\n",
      "Get best_k: -23.743685915102752 best_b: -49.56041680726182, and the loss is: 49554.85607160724\n",
      "Get best_k: -23.64368591510275 best_b: -49.66041680726182, and the loss is: 49317.991378194696\n",
      "Get best_k: -23.54368591510275 best_b: -49.76041680726182, and the loss is: 49081.695085898784\n",
      "Get best_k: -23.443685915102748 best_b: -49.86041680726182, and the loss is: 48845.96719471917\n",
      "Get best_k: -23.343685915102746 best_b: -49.96041680726182, and the loss is: 48610.80770465618\n",
      "Get best_k: -23.243685915102745 best_b: -50.060416807261824, and the loss is: 48376.21661570957\n",
      "Get best_k: -23.143685915102743 best_b: -50.160416807261825, and the loss is: 48142.19392787954\n",
      "Get best_k: -23.043685915102742 best_b: -50.26041680726183, and the loss is: 47908.73964116589\n",
      "Get best_k: -22.94368591510274 best_b: -50.36041680726183, and the loss is: 47675.853755568794\n",
      "Get best_k: -22.84368591510274 best_b: -50.46041680726183, and the loss is: 47443.53627108827\n",
      "Get best_k: -22.743685915102738 best_b: -50.56041680726183, and the loss is: 47211.78718772403\n",
      "Get best_k: -22.643685915102736 best_b: -50.66041680726183, and the loss is: 46980.60650547642\n",
      "Get best_k: -22.543685915102735 best_b: -50.760416807261834, and the loss is: 46749.9942243452\n",
      "Get best_k: -22.443685915102733 best_b: -50.860416807261835, and the loss is: 46519.95034433059\n",
      "Get best_k: -22.343685915102732 best_b: -50.960416807261836, and the loss is: 46290.47486543234\n",
      "Get best_k: -22.24368591510273 best_b: -51.06041680726184, and the loss is: 46061.567787650594\n",
      "Get best_k: -22.14368591510273 best_b: -51.16041680726184, and the loss is: 45833.22911098535\n",
      "Get best_k: -22.043685915102728 best_b: -51.26041680726184, and the loss is: 45605.45883543661\n",
      "Get best_k: -21.943685915102726 best_b: -51.36041680726184, and the loss is: 45378.256961004314\n",
      "Get best_k: -21.843685915102725 best_b: -51.46041680726184, and the loss is: 45151.6234876885\n",
      "Get best_k: -21.743685915102724 best_b: -51.560416807261845, and the loss is: 44925.55841548919\n",
      "Get best_k: -21.643685915102722 best_b: -51.660416807261846, and the loss is: 44700.06174440629\n",
      "Get best_k: -21.54368591510272 best_b: -51.76041680726185, and the loss is: 44475.13347444001\n",
      "Get best_k: -21.44368591510272 best_b: -51.86041680726185, and the loss is: 44250.77360559018\n",
      "Get best_k: -21.343685915102718 best_b: -51.96041680726185, and the loss is: 44026.98213785673\n",
      "Get best_k: -21.243685915102716 best_b: -52.06041680726185, and the loss is: 43803.75907123984\n",
      "Get best_k: -21.143685915102715 best_b: -52.16041680726185, and the loss is: 43581.10440573937\n",
      "Get best_k: -21.043685915102714 best_b: -52.260416807261855, and the loss is: 43359.018141355424\n",
      "Get best_k: -20.943685915102712 best_b: -52.360416807261856, and the loss is: 43137.50027808801\n",
      "Get best_k: -20.84368591510271 best_b: -52.46041680726186, and the loss is: 42916.55081593701\n",
      "Get best_k: -20.74368591510271 best_b: -52.56041680726186, and the loss is: 42696.169754902476\n",
      "Get best_k: -20.643685915102708 best_b: -52.66041680726186, and the loss is: 42476.35709498447\n",
      "Get best_k: -20.543685915102706 best_b: -52.76041680726186, and the loss is: 42257.11283618294\n",
      "Get best_k: -20.443685915102705 best_b: -52.86041680726186, and the loss is: 42038.436978497906\n",
      "Get best_k: -20.343685915102704 best_b: -52.960416807261865, and the loss is: 41820.329521929314\n",
      "Get best_k: -20.243685915102702 best_b: -53.060416807261866, and the loss is: 41602.79046647727\n",
      "Get best_k: -20.1436859151027 best_b: -53.16041680726187, and the loss is: 41385.819812141686\n",
      "Get best_k: -20.0436859151027 best_b: -53.26041680726187, and the loss is: 41169.417558922585\n",
      "Get best_k: -19.943685915102698 best_b: -53.36041680726187, and the loss is: 40953.5837068199\n",
      "Get best_k: -19.843685915102697 best_b: -53.46041680726187, and the loss is: 40738.31825583374\n",
      "Get best_k: -19.743685915102695 best_b: -53.56041680726187, and the loss is: 40523.62120596404\n",
      "Get best_k: -19.643685915102694 best_b: -53.660416807261875, and the loss is: 40309.49255721088\n",
      "Get best_k: -19.543685915102692 best_b: -53.760416807261876, and the loss is: 40095.93230957416\n",
      "Get best_k: -19.44368591510269 best_b: -53.86041680726188, and the loss is: 39882.94046305392\n",
      "Get best_k: -19.34368591510269 best_b: -53.96041680726188, and the loss is: 39670.5170176502\n",
      "Get best_k: -19.243685915102688 best_b: -54.06041680726188, and the loss is: 39458.6619733629\n",
      "Get best_k: -19.143685915102687 best_b: -54.16041680726188, and the loss is: 39247.375330192124\n",
      "Get best_k: -19.043685915102685 best_b: -54.26041680726188, and the loss is: 39036.657088137836\n",
      "Get best_k: -18.943685915102684 best_b: -54.360416807261885, and the loss is: 38826.507247200025\n",
      "Get best_k: -18.843685915102682 best_b: -54.460416807261886, and the loss is: 38616.9258073787\n",
      "Get best_k: -18.74368591510268 best_b: -54.56041680726189, and the loss is: 38407.91276867384\n",
      "Get best_k: -18.64368591510268 best_b: -54.66041680726189, and the loss is: 38199.46813108549\n",
      "Get best_k: -18.543685915102678 best_b: -54.76041680726189, and the loss is: 37991.5918946136\n",
      "Get best_k: -18.443685915102677 best_b: -54.86041680726189, and the loss is: 37784.28405925817\n",
      "Get best_k: -18.343685915102675 best_b: -54.96041680726189, and the loss is: 37577.54462501926\n",
      "Get best_k: -18.243685915102674 best_b: -55.060416807261895, and the loss is: 37371.3735918968\n",
      "Get best_k: -18.143685915102672 best_b: -55.160416807261896, and the loss is: 37165.77095989086\n",
      "Get best_k: -18.04368591510267 best_b: -55.2604168072619, and the loss is: 36960.73672900136\n",
      "Get best_k: -17.94368591510267 best_b: -55.3604168072619, and the loss is: 36756.27089922835\n",
      "Get best_k: -17.843685915102668 best_b: -55.4604168072619, and the loss is: 36552.37347057187\n",
      "Get best_k: -17.743685915102667 best_b: -55.5604168072619, and the loss is: 36349.044443031824\n",
      "Get best_k: -17.643685915102665 best_b: -55.6604168072619, and the loss is: 36146.28381660826\n",
      "Get best_k: -17.543685915102664 best_b: -55.760416807261905, and the loss is: 35944.091591301185\n",
      "Get best_k: -17.443685915102662 best_b: -55.860416807261906, and the loss is: 35742.46776711065\n",
      "Get best_k: -17.34368591510266 best_b: -55.96041680726191, and the loss is: 35541.41234403651\n",
      "Get best_k: -17.24368591510266 best_b: -56.06041680726191, and the loss is: 35340.92532207892\n",
      "Get best_k: -17.143685915102658 best_b: -56.16041680726191, and the loss is: 35141.006701237784\n",
      "Get best_k: -17.043685915102657 best_b: -56.26041680726191, and the loss is: 34941.65648151311\n",
      "Get best_k: -16.943685915102655 best_b: -56.36041680726191, and the loss is: 34742.87466290496\n",
      "Get best_k: -16.843685915102654 best_b: -56.460416807261915, and the loss is: 34544.66124541327\n",
      "Get best_k: -16.743685915102652 best_b: -56.560416807261916, and the loss is: 34347.01622903803\n",
      "Get best_k: -16.64368591510265 best_b: -56.66041680726192, and the loss is: 34149.93961377934\n",
      "Get best_k: -16.54368591510265 best_b: -56.76041680726192, and the loss is: 33953.4313996371\n",
      "Get best_k: -16.443685915102648 best_b: -56.86041680726192, and the loss is: 33757.49158661133\n",
      "Get best_k: -16.343685915102647 best_b: -56.96041680726192, and the loss is: 33562.120174702046\n",
      "Get best_k: -16.243685915102645 best_b: -57.06041680726192, and the loss is: 33367.31716390926\n",
      "Get best_k: -16.143685915102644 best_b: -57.160416807261925, and the loss is: 33173.082554232955\n",
      "Get best_k: -16.043685915102643 best_b: -57.260416807261926, and the loss is: 32979.4163456731\n",
      "Get best_k: -15.943685915102643 best_b: -57.36041680726193, and the loss is: 32786.31853822978\n",
      "Get best_k: -15.843685915102643 best_b: -57.46041680726193, and the loss is: 32593.78913190289\n",
      "Get best_k: -15.743685915102644 best_b: -57.56041680726193, and the loss is: 32401.828126692482\n",
      "Get best_k: -15.643685915102644 best_b: -57.66041680726193, and the loss is: 32210.435522598622\n",
      "Get best_k: -15.543685915102644 best_b: -57.76041680726193, and the loss is: 32019.611319621195\n",
      "Get best_k: -15.443685915102645 best_b: -57.860416807261934, and the loss is: 31829.35551776025\n",
      "Get best_k: -15.343685915102645 best_b: -57.960416807261936, and the loss is: 31639.6681170158\n",
      "Get best_k: -15.243685915102645 best_b: -58.06041680726194, and the loss is: 31450.54911738785\n",
      "Get best_k: -15.143685915102646 best_b: -58.16041680726194, and the loss is: 31261.998518876364\n",
      "Get best_k: -15.043685915102646 best_b: -58.26041680726194, and the loss is: 31074.01632148133\n",
      "Get best_k: -14.943685915102646 best_b: -58.36041680726194, and the loss is: 30886.602525202816\n",
      "Get best_k: -14.843685915102647 best_b: -58.46041680726194, and the loss is: 30699.757130040798\n",
      "Get best_k: -14.743685915102647 best_b: -58.560416807261944, and the loss is: 30513.480135995233\n",
      "Get best_k: -14.643685915102647 best_b: -58.660416807261946, and the loss is: 30327.771543066134\n",
      "Get best_k: -14.543685915102648 best_b: -58.76041680726195, and the loss is: 30142.631351253523\n",
      "Get best_k: -14.443685915102648 best_b: -58.86041680726195, and the loss is: 29958.05956055743\n",
      "Get best_k: -14.343685915102649 best_b: -58.96041680726195, and the loss is: 29774.05617097782\n",
      "Get best_k: -14.243685915102649 best_b: -59.06041680726195, and the loss is: 29590.621182514613\n",
      "Get best_k: -14.14368591510265 best_b: -59.16041680726195, and the loss is: 29407.754595167942\n",
      "Get best_k: -14.04368591510265 best_b: -59.260416807261954, and the loss is: 29225.456408937807\n",
      "Get best_k: -13.94368591510265 best_b: -59.360416807261956, and the loss is: 29043.726623824114\n",
      "Get best_k: -13.84368591510265 best_b: -59.46041680726196, and the loss is: 28862.565239826872\n",
      "Get best_k: -13.74368591510265 best_b: -59.56041680726196, and the loss is: 28681.972256946177\n",
      "Get best_k: -13.643685915102651 best_b: -59.66041680726196, and the loss is: 28501.94767518189\n",
      "Get best_k: -13.543685915102651 best_b: -59.76041680726196, and the loss is: 28322.491494534133\n",
      "Get best_k: -13.443685915102652 best_b: -59.86041680726196, and the loss is: 28143.60371500281\n",
      "Get best_k: -13.343685915102652 best_b: -59.960416807261964, and the loss is: 27965.28433658803\n",
      "Get best_k: -13.243685915102652 best_b: -60.060416807261966, and the loss is: 27787.5333592897\n",
      "Get best_k: -13.143685915102653 best_b: -60.16041680726197, and the loss is: 27610.35078310786\n",
      "Get best_k: -13.043685915102653 best_b: -60.26041680726197, and the loss is: 27433.736608042473\n",
      "Get best_k: -12.943685915102654 best_b: -60.36041680726197, and the loss is: 27257.690834093584\n",
      "Get best_k: -12.843685915102654 best_b: -60.46041680726197, and the loss is: 27082.213461261188\n",
      "Get best_k: -12.743685915102654 best_b: -60.56041680726197, and the loss is: 26907.304489545306\n",
      "Get best_k: -12.643685915102655 best_b: -60.660416807261974, and the loss is: 26732.963918945876\n",
      "Get best_k: -12.543685915102655 best_b: -60.760416807261976, and the loss is: 26559.19174946293\n",
      "Get best_k: -12.443685915102655 best_b: -60.86041680726198, and the loss is: 26385.987981096438\n",
      "Get best_k: -12.343685915102656 best_b: -60.96041680726198, and the loss is: 26213.352613846455\n",
      "Get best_k: -12.243685915102656 best_b: -61.06041680726198, and the loss is: 26041.285647712975\n",
      "Get best_k: -12.143685915102656 best_b: -61.16041680726198, and the loss is: 25869.787082695937\n",
      "Get best_k: -12.043685915102657 best_b: -61.26041680726198, and the loss is: 25698.85691879541\n",
      "Get best_k: -11.943685915102657 best_b: -61.360416807261984, and the loss is: 25528.495156011304\n",
      "Get best_k: -11.843685915102657 best_b: -61.460416807261986, and the loss is: 25358.701794343735\n",
      "Get best_k: -11.743685915102658 best_b: -61.56041680726199, and the loss is: 25189.476833792633\n",
      "Get best_k: -11.643685915102658 best_b: -61.66041680726199, and the loss is: 25020.820274358077\n",
      "Get best_k: -11.543685915102659 best_b: -61.76041680726199, and the loss is: 24852.73211603991\n",
      "Get best_k: -11.443685915102659 best_b: -61.86041680726199, and the loss is: 24685.21235883828\n",
      "Get best_k: -11.34368591510266 best_b: -61.96041680726199, and the loss is: 24518.261002753105\n",
      "Get best_k: -11.24368591510266 best_b: -62.060416807261994, and the loss is: 24351.878047784423\n",
      "Get best_k: -11.14368591510266 best_b: -62.160416807261996, and the loss is: 24186.063493932215\n",
      "Get best_k: -11.04368591510266 best_b: -62.260416807262, and the loss is: 24020.817341196478\n",
      "Get best_k: -10.94368591510266 best_b: -62.360416807262, and the loss is: 23856.139589577262\n",
      "Get best_k: -10.843685915102661 best_b: -62.460416807262, and the loss is: 23692.030239074524\n",
      "Get best_k: -10.743685915102661 best_b: -62.560416807262, and the loss is: 23528.48928968823\n",
      "Get best_k: -10.643685915102662 best_b: -62.660416807262, and the loss is: 23365.51674141845\n",
      "Get best_k: -10.543685915102662 best_b: -62.760416807262004, and the loss is: 23203.112594265145\n",
      "Get best_k: -10.443685915102662 best_b: -62.860416807262006, and the loss is: 23041.27684822828\n",
      "Get best_k: -10.343685915102663 best_b: -62.96041680726201, and the loss is: 22880.009503307978\n",
      "Get best_k: -10.243685915102663 best_b: -63.06041680726201, and the loss is: 22719.310559504145\n",
      "Get best_k: -10.143685915102663 best_b: -63.16041680726201, and the loss is: 22559.180016816747\n",
      "Get best_k: -10.043685915102664 best_b: -63.26041680726201, and the loss is: 22399.617875245844\n",
      "Get best_k: -9.943685915102664 best_b: -63.36041680726201, and the loss is: 22240.624134791437\n",
      "Get best_k: -9.843685915102665 best_b: -63.460416807262014, and the loss is: 22082.198795453496\n",
      "Get best_k: -9.743685915102665 best_b: -63.560416807262015, and the loss is: 21924.341857232037\n",
      "Get best_k: -9.643685915102665 best_b: -63.66041680726202, and the loss is: 21767.0533201271\n",
      "Get best_k: -9.543685915102666 best_b: -63.76041680726202, and the loss is: 21610.33318413857\n",
      "Get best_k: -9.443685915102666 best_b: -63.86041680726202, and the loss is: 21454.18144926659\n",
      "Get best_k: -9.343685915102666 best_b: -63.96041680726202, and the loss is: 21298.59811551109\n",
      "Get best_k: -9.243685915102667 best_b: -64.06041680726202, and the loss is: 21143.583182872037\n",
      "Get best_k: -9.143685915102667 best_b: -64.16041680726201, and the loss is: 20989.136651349458\n",
      "Get best_k: -9.043685915102667 best_b: -64.260416807262, and the loss is: 20835.258520943382\n",
      "Get best_k: -8.943685915102668 best_b: -64.360416807262, and the loss is: 20681.948791653795\n",
      "Get best_k: -8.843685915102668 best_b: -64.46041680726199, and the loss is: 20529.207463480714\n",
      "Get best_k: -8.743685915102668 best_b: -64.56041680726199, and the loss is: 20377.034536424093\n",
      "Get best_k: -8.643685915102669 best_b: -64.66041680726198, and the loss is: 20225.430010483902\n",
      "Get best_k: -8.54368591510267 best_b: -64.76041680726198, and the loss is: 20074.393885660265\n",
      "Get best_k: -8.44368591510267 best_b: -64.86041680726197, and the loss is: 19923.926161953095\n",
      "Get best_k: -8.34368591510267 best_b: -64.96041680726196, and the loss is: 19774.02683936238\n",
      "Get best_k: -8.24368591510267 best_b: -65.06041680726196, and the loss is: 19624.695917888155\n",
      "Get best_k: -8.14368591510267 best_b: -65.16041680726195, and the loss is: 19475.93339753043\n",
      "Get best_k: -8.043685915102671 best_b: -65.26041680726195, and the loss is: 19327.73927828917\n",
      "Get best_k: -7.943685915102671 best_b: -65.36041680726194, and the loss is: 19180.11356016442\n",
      "Get best_k: -7.843685915102672 best_b: -65.46041680726194, and the loss is: 19033.056243156123\n",
      "Get best_k: -7.743685915102672 best_b: -65.56041680726193, and the loss is: 18886.56732726429\n",
      "Get best_k: -7.643685915102672 best_b: -65.66041680726192, and the loss is: 18740.64681248897\n",
      "Get best_k: -7.543685915102673 best_b: -65.76041680726192, and the loss is: 18595.294698830112\n",
      "Get best_k: -7.443685915102673 best_b: -65.86041680726191, and the loss is: 18450.510986287758\n",
      "Get best_k: -7.343685915102673 best_b: -65.96041680726191, and the loss is: 18306.295674861885\n",
      "Get best_k: -7.243685915102674 best_b: -66.0604168072619, and the loss is: 18162.648764552494\n",
      "Get best_k: -7.143685915102674 best_b: -66.1604168072619, and the loss is: 18019.570255359595\n",
      "Get best_k: -7.0436859151026745 best_b: -66.26041680726189, and the loss is: 17877.060147283144\n",
      "Get best_k: -6.943685915102675 best_b: -66.36041680726188, and the loss is: 17735.118440323215\n",
      "Get best_k: -6.843685915102675 best_b: -66.46041680726188, and the loss is: 17593.745134479726\n",
      "Get best_k: -6.743685915102676 best_b: -66.56041680726187, and the loss is: 17452.940229752745\n",
      "Get best_k: -6.643685915102676 best_b: -66.66041680726187, and the loss is: 17312.70372614225\n",
      "Get best_k: -6.543685915102676 best_b: -66.76041680726186, and the loss is: 17173.035623648226\n",
      "Get best_k: -6.443685915102677 best_b: -66.86041680726186, and the loss is: 17033.93592227069\n",
      "Get best_k: -6.343685915102677 best_b: -66.96041680726185, and the loss is: 16895.40462200962\n",
      "Get best_k: -6.243685915102677 best_b: -67.06041680726184, and the loss is: 16757.441722865067\n",
      "Get best_k: -6.143685915102678 best_b: -67.16041680726184, and the loss is: 16620.047224836977\n",
      "Get best_k: -6.043685915102678 best_b: -67.26041680726183, and the loss is: 16483.221127925357\n",
      "Get best_k: -5.943685915102678 best_b: -67.36041680726183, and the loss is: 16346.963432130231\n",
      "Get best_k: -5.843685915102679 best_b: -67.46041680726182, and the loss is: 16211.274137451604\n",
      "Get best_k: -5.743685915102679 best_b: -67.56041680726182, and the loss is: 16076.153243889412\n",
      "Get best_k: -5.6436859151026795 best_b: -67.66041680726181, and the loss is: 15941.600751443748\n",
      "Get best_k: -5.54368591510268 best_b: -67.7604168072618, and the loss is: 15807.616660114541\n",
      "Get best_k: -5.44368591510268 best_b: -67.8604168072618, and the loss is: 15674.200969901842\n",
      "Get best_k: -5.3436859151026805 best_b: -67.9604168072618, and the loss is: 15541.35368080559\n",
      "Get best_k: -5.243685915102681 best_b: -68.06041680726179, and the loss is: 15409.074792825846\n",
      "Get best_k: -5.143685915102681 best_b: -68.16041680726178, and the loss is: 15277.364305962581\n",
      "Get best_k: -5.043685915102682 best_b: -68.26041680726178, and the loss is: 15146.222220215803\n",
      "Get best_k: -4.943685915102682 best_b: -68.36041680726177, and the loss is: 15015.648535585484\n",
      "Get best_k: -4.843685915102682 best_b: -68.46041680726177, and the loss is: 14885.643252071659\n",
      "Get best_k: -4.743685915102683 best_b: -68.56041680726176, and the loss is: 14756.20636967432\n",
      "Get best_k: -4.643685915102683 best_b: -68.66041680726175, and the loss is: 14627.337888393467\n",
      "Get best_k: -4.543685915102683 best_b: -68.76041680726175, and the loss is: 14499.037808229097\n",
      "Get best_k: -4.443685915102684 best_b: -68.86041680726174, and the loss is: 14371.306129181192\n",
      "Get best_k: -4.343685915102684 best_b: -68.96041680726174, and the loss is: 14244.142851249788\n",
      "Get best_k: -4.2436859151026844 best_b: -69.06041680726173, and the loss is: 14117.547974434841\n",
      "Get best_k: -4.143685915102685 best_b: -69.16041680726173, and the loss is: 13991.5214987364\n",
      "Get best_k: -4.043685915102685 best_b: -69.26041680726172, and the loss is: 13866.063424154449\n",
      "Get best_k: -3.943685915102685 best_b: -69.36041680726171, and the loss is: 13741.173750688957\n",
      "Get best_k: -3.843685915102685 best_b: -69.46041680726171, and the loss is: 13616.852478339948\n",
      "Get best_k: -3.743685915102685 best_b: -69.5604168072617, and the loss is: 13493.099607107448\n",
      "Get best_k: -3.643685915102685 best_b: -69.6604168072617, and the loss is: 13369.915136991405\n",
      "Get best_k: -3.5436859151026847 best_b: -69.76041680726169, and the loss is: 13247.299067991831\n",
      "Get best_k: -3.4436859151026846 best_b: -69.86041680726169, and the loss is: 13125.25140010877\n",
      "Get best_k: -3.3436859151026845 best_b: -69.96041680726168, and the loss is: 13003.772133342178\n",
      "Get best_k: -3.2436859151026844 best_b: -70.06041680726167, and the loss is: 12882.861267692064\n",
      "Get best_k: -3.1436859151026844 best_b: -70.16041680726167, and the loss is: 12762.518803158437\n",
      "Get best_k: -3.0436859151026843 best_b: -70.26041680726166, and the loss is: 12642.744739741302\n",
      "Get best_k: -2.943685915102684 best_b: -70.36041680726166, and the loss is: 12523.539077440651\n",
      "Get best_k: -2.843685915102684 best_b: -70.46041680726165, and the loss is: 12404.901816256466\n",
      "Get best_k: -2.743685915102684 best_b: -70.56041680726165, and the loss is: 12286.83295618878\n",
      "Get best_k: -2.643685915102684 best_b: -70.66041680726164, and the loss is: 12169.332497237561\n",
      "Get best_k: -2.543685915102684 best_b: -70.76041680726163, and the loss is: 12052.400439402822\n",
      "Get best_k: -2.4436859151026837 best_b: -70.86041680726163, and the loss is: 11936.03678268459\n",
      "Get best_k: -2.3436859151026836 best_b: -70.96041680726162, and the loss is: 11820.241527082808\n",
      "Get best_k: -2.2436859151026836 best_b: -71.06041680726162, and the loss is: 11705.014672597521\n",
      "Get best_k: -2.1436859151026835 best_b: -71.16041680726161, and the loss is: 11590.356219228719\n",
      "Get best_k: -2.0436859151026834 best_b: -71.2604168072616, and the loss is: 11476.266166976402\n",
      "Get best_k: -1.9436859151026833 best_b: -71.3604168072616, and the loss is: 11362.744515840568\n",
      "Get best_k: -1.8436859151026832 best_b: -71.4604168072616, and the loss is: 11249.791265821195\n",
      "Get best_k: -1.7436859151026831 best_b: -71.56041680726159, and the loss is: 11137.406416918333\n",
      "Get best_k: -1.643685915102683 best_b: -71.66041680726158, and the loss is: 11025.589969131928\n",
      "Get best_k: -1.543685915102683 best_b: -71.76041680726158, and the loss is: 10914.341922462021\n",
      "Get best_k: -1.4436859151026828 best_b: -71.86041680726157, and the loss is: 10803.662276908603\n",
      "Get best_k: -1.3436859151026828 best_b: -71.96041680726157, and the loss is: 10693.551032471656\n",
      "Get best_k: -1.2436859151026827 best_b: -72.06041680726156, and the loss is: 10584.008189151184\n",
      "Get best_k: -1.1436859151026826 best_b: -72.16041680726156, and the loss is: 10475.033746947209\n",
      "Get best_k: -1.0436859151026825 best_b: -72.26041680726155, and the loss is: 10366.627705859717\n",
      "Get best_k: -0.9436859151026825 best_b: -72.36041680726154, and the loss is: 10258.790065888696\n",
      "Get best_k: -0.8436859151026825 best_b: -72.46041680726154, and the loss is: 10151.520827034163\n",
      "Get best_k: -0.7436859151026826 best_b: -72.56041680726153, and the loss is: 10044.819989296102\n",
      "Get best_k: -0.6436859151026826 best_b: -72.66041680726153, and the loss is: 9938.687552674533\n",
      "Get best_k: -0.5436859151026826 best_b: -72.76041680726152, and the loss is: 9833.123517169452\n",
      "Get best_k: -0.4436859151026826 best_b: -72.86041680726152, and the loss is: 9728.127882780851\n",
      "Get best_k: -0.34368591510268265 best_b: -72.96041680726151, and the loss is: 9623.700649508719\n",
      "Get best_k: -0.24368591510268264 best_b: -73.0604168072615, and the loss is: 9519.841817353088\n",
      "Get best_k: -0.14368591510268264 best_b: -73.1604168072615, and the loss is: 9416.551386313935\n",
      "Get best_k: -0.04368591510268263 best_b: -73.26041680726149, and the loss is: 9313.829356391252\n",
      "Get best_k: 0.056314084897317374 best_b: -73.36041680726149, and the loss is: 9211.675727585052\n",
      "Get best_k: 0.15631408489731738 best_b: -73.46041680726148, and the loss is: 9110.09049989534\n",
      "Get best_k: 0.2563140848973174 best_b: -73.56041680726148, and the loss is: 9009.073673322113\n",
      "Get best_k: 0.3563140848973174 best_b: -73.66041680726147, and the loss is: 8908.625247865373\n",
      "Get best_k: 0.4563140848973174 best_b: -73.76041680726146, and the loss is: 8808.745223525097\n",
      "Get best_k: 0.5563140848973174 best_b: -73.86041680726146, and the loss is: 8709.433600301309\n",
      "Get best_k: 0.6563140848973174 best_b: -73.96041680726145, and the loss is: 8610.690378194018\n",
      "Get best_k: 0.7563140848973173 best_b: -74.06041680726145, and the loss is: 8512.515557203194\n",
      "Get best_k: 0.8563140848973173 best_b: -74.16041680726144, and the loss is: 8414.909137328861\n",
      "Get best_k: 0.9563140848973173 best_b: -74.26041680726144, and the loss is: 8317.871118571007\n",
      "Get best_k: 1.0563140848973174 best_b: -74.36041680726143, and the loss is: 8221.401500929636\n",
      "Get best_k: 1.1563140848973175 best_b: -74.46041680726142, and the loss is: 8125.500284404746\n",
      "Get best_k: 1.2563140848973176 best_b: -74.56041680726142, and the loss is: 8030.1674689963365\n",
      "Get best_k: 1.3563140848973176 best_b: -74.66041680726141, and the loss is: 7935.403054704401\n",
      "Get best_k: 1.4563140848973177 best_b: -74.76041680726141, and the loss is: 7841.20704152897\n",
      "Get best_k: 1.5563140848973178 best_b: -74.8604168072614, and the loss is: 7747.57942947001\n",
      "Get best_k: 1.656314084897318 best_b: -74.9604168072614, and the loss is: 7654.520218527535\n",
      "Get best_k: 1.756314084897318 best_b: -75.06041680726139, and the loss is: 7562.02940870153\n",
      "Get best_k: 1.856314084897318 best_b: -75.16041680726138, and the loss is: 7470.1069999920155\n",
      "Get best_k: 1.9563140848973182 best_b: -75.26041680726138, and the loss is: 7378.752992398983\n",
      "Get best_k: 2.056314084897318 best_b: -75.36041680726137, and the loss is: 7287.967385922441\n",
      "Get best_k: 2.156314084897318 best_b: -75.46041680726137, and the loss is: 7197.750180562366\n",
      "Get best_k: 2.256314084897318 best_b: -75.56041680726136, and the loss is: 7108.101376318787\n",
      "Get best_k: 2.3563140848973183 best_b: -75.66041680726136, and the loss is: 7019.020973191673\n",
      "Get best_k: 2.4563140848973184 best_b: -75.76041680726135, and the loss is: 6930.50897118106\n",
      "Get best_k: 2.5563140848973185 best_b: -75.86041680726134, and the loss is: 6842.56537028692\n",
      "Get best_k: 2.6563140848973186 best_b: -75.96041680726134, and the loss is: 6755.190170509263\n",
      "Get best_k: 2.7563140848973187 best_b: -76.06041680726133, and the loss is: 6668.383371848093\n",
      "Get best_k: 2.8563140848973188 best_b: -76.16041680726133, and the loss is: 6582.144974303403\n",
      "Get best_k: 2.956314084897319 best_b: -76.26041680726132, and the loss is: 6496.47497787519\n",
      "Get best_k: 3.056314084897319 best_b: -76.36041680726132, and the loss is: 6411.373382563462\n",
      "Get best_k: 3.156314084897319 best_b: -76.46041680726131, and the loss is: 6326.84018836822\n",
      "Get best_k: 3.256314084897319 best_b: -76.5604168072613, and the loss is: 6242.87539528945\n",
      "Get best_k: 3.356314084897319 best_b: -76.6604168072613, and the loss is: 6159.479003327176\n",
      "Get best_k: 3.4563140848973193 best_b: -76.7604168072613, and the loss is: 6076.651012481378\n",
      "Get best_k: 3.5563140848973194 best_b: -76.86041680726129, and the loss is: 5994.391422752062\n",
      "Get best_k: 3.6563140848973195 best_b: -76.96041680726128, and the loss is: 5912.700234139227\n",
      "Get best_k: 3.7563140848973195 best_b: -77.06041680726128, and the loss is: 5831.5774466428775\n",
      "Get best_k: 3.8563140848973196 best_b: -77.16041680726127, and the loss is: 5751.023060263005\n",
      "Get best_k: 3.9563140848973197 best_b: -77.26041680726127, and the loss is: 5671.03707499962\n",
      "Get best_k: 4.05631408489732 best_b: -77.36041680726126, and the loss is: 5591.619490852715\n",
      "Get best_k: 4.1563140848973195 best_b: -77.46041680726125, and the loss is: 5512.770307822287\n",
      "Get best_k: 4.256314084897319 best_b: -77.56041680726125, and the loss is: 5434.489525908354\n",
      "Get best_k: 4.356314084897319 best_b: -77.66041680726124, and the loss is: 5356.777145110897\n",
      "Get best_k: 4.456314084897318 best_b: -77.76041680726124, and the loss is: 5279.633165429915\n",
      "Get best_k: 4.556314084897318 best_b: -77.86041680726123, and the loss is: 5203.057586865416\n",
      "Get best_k: 4.656314084897318 best_b: -77.96041680726123, and the loss is: 5127.050409417409\n",
      "Get best_k: 4.756314084897317 best_b: -78.06041680726122, and the loss is: 5051.611633085879\n",
      "Get best_k: 4.856314084897317 best_b: -78.16041680726121, and the loss is: 4976.741257870833\n",
      "Get best_k: 4.956314084897317 best_b: -78.26041680726121, and the loss is: 4902.439283772271\n",
      "Get best_k: 5.056314084897316 best_b: -78.3604168072612, and the loss is: 4828.7057107901865\n",
      "Get best_k: 5.156314084897316 best_b: -78.4604168072612, and the loss is: 4755.540538924591\n",
      "Get best_k: 5.2563140848973156 best_b: -78.56041680726119, and the loss is: 4682.943768175471\n",
      "Get best_k: 5.356314084897315 best_b: -78.66041680726119, and the loss is: 4610.915398542833\n",
      "Get best_k: 5.456314084897315 best_b: -78.76041680726118, and the loss is: 4539.455430026678\n",
      "Get best_k: 5.5563140848973145 best_b: -78.86041680726117, and the loss is: 4468.563862627008\n",
      "Get best_k: 5.656314084897314 best_b: -78.96041680726117, and the loss is: 4398.24069634382\n",
      "Get best_k: 5.756314084897314 best_b: -79.06041680726116, and the loss is: 4328.485931177115\n",
      "Get best_k: 5.856314084897313 best_b: -79.16041680726116, and the loss is: 4259.299567126893\n",
      "Get best_k: 5.956314084897313 best_b: -79.26041680726115, and the loss is: 4190.681604193147\n",
      "Get best_k: 6.056314084897313 best_b: -79.36041680726115, and the loss is: 4122.6320423758825\n",
      "Get best_k: 6.156314084897312 best_b: -79.46041680726114, and the loss is: 4055.150881675108\n",
      "Get best_k: 6.256314084897312 best_b: -79.56041680726113, and the loss is: 3988.2381220908114\n",
      "Get best_k: 6.356314084897312 best_b: -79.66041680726113, and the loss is: 3921.8937636229975\n",
      "Get best_k: 6.456314084897311 best_b: -79.76041680726112, and the loss is: 3856.1178062716635\n",
      "Get best_k: 6.556314084897311 best_b: -79.86041680726112, and the loss is: 3790.9102500368176\n",
      "Get best_k: 6.656314084897311 best_b: -79.96041680726111, and the loss is: 3726.2710949184493\n",
      "Get best_k: 6.75631408489731 best_b: -80.0604168072611, and the loss is: 3662.2003409165627\n",
      "Get best_k: 6.85631408489731 best_b: -80.1604168072611, and the loss is: 3598.697988031162\n",
      "Get best_k: 6.9563140848973095 best_b: -80.2604168072611, and the loss is: 3535.7640362622437\n",
      "Get best_k: 7.056314084897309 best_b: -80.36041680726109, and the loss is: 3473.3984856098054\n",
      "Get best_k: 7.156314084897309 best_b: -80.46041680726108, and the loss is: 3411.6013360738507\n",
      "Get best_k: 7.2563140848973084 best_b: -80.56041680726108, and the loss is: 3350.3725876543735\n",
      "Get best_k: 7.356314084897308 best_b: -80.66041680726107, and the loss is: 3289.7122403513845\n",
      "Get best_k: 7.456314084897308 best_b: -80.76041680726107, and the loss is: 3229.6202941648758\n",
      "Get best_k: 7.556314084897307 best_b: -80.86041680726106, and the loss is: 3170.0967490948447\n",
      "Get best_k: 7.656314084897307 best_b: -80.96041680726105, and the loss is: 3111.1416051413016\n",
      "Get best_k: 7.756314084897307 best_b: -81.06041680726105, and the loss is: 3052.754862304238\n",
      "Get best_k: 7.856314084897306 best_b: -81.16041680726104, and the loss is: 2994.9365205836552\n",
      "Get best_k: 7.956314084897306 best_b: -81.26041680726104, and the loss is: 2937.686579979561\n",
      "Get best_k: 8.056314084897306 best_b: -81.36041680726103, and the loss is: 2881.0050404919466\n",
      "Get best_k: 8.156314084897305 best_b: -81.46041680726103, and the loss is: 2824.8919021208085\n",
      "Get best_k: 8.256314084897305 best_b: -81.56041680726102, and the loss is: 2769.3471648661584\n",
      "Get best_k: 8.356314084897305 best_b: -81.66041680726102, and the loss is: 2714.3708287279906\n",
      "Get best_k: 8.456314084897304 best_b: -81.76041680726101, and the loss is: 2659.9628937063057\n",
      "Get best_k: 8.556314084897304 best_b: -81.860416807261, and the loss is: 2606.1233598010986\n",
      "Get best_k: 8.656314084897303 best_b: -81.960416807261, and the loss is: 2552.8522270123735\n",
      "Get best_k: 8.756314084897303 best_b: -82.06041680726099, and the loss is: 2500.1494953401348\n",
      "Get best_k: 8.856314084897303 best_b: -82.16041680726099, and the loss is: 2448.015164784374\n",
      "Get best_k: 8.956314084897302 best_b: -82.26041680726098, and the loss is: 2396.4492353451005\n",
      "Get best_k: 9.056314084897302 best_b: -82.36041680726098, and the loss is: 2345.4517070223073\n",
      "Get best_k: 9.156314084897302 best_b: -82.46041680726097, and the loss is: 2295.022579815995\n",
      "Get best_k: 9.256314084897301 best_b: -82.56041680726096, and the loss is: 2245.1618537261666\n",
      "Get best_k: 9.356314084897301 best_b: -82.66041680726096, and the loss is: 2195.8695287528208\n",
      "Get best_k: 9.4563140848973 best_b: -82.76041680726095, and the loss is: 2147.1456048959562\n",
      "Get best_k: 9.5563140848973 best_b: -82.86041680726095, and the loss is: 2098.9900821555725\n",
      "Get best_k: 9.6563140848973 best_b: -82.96041680726094, and the loss is: 2051.402960531673\n",
      "Get best_k: 9.7563140848973 best_b: -83.06041680726094, and the loss is: 2004.3842400242536\n",
      "Get best_k: 9.8563140848973 best_b: -83.16041680726093, and the loss is: 1957.9339206333177\n",
      "Get best_k: 9.956314084897299 best_b: -83.26041680726092, and the loss is: 1912.0520023588642\n",
      "Get best_k: 10.056314084897298 best_b: -83.36041680726092, and the loss is: 1866.7384852008915\n",
      "Get best_k: 10.156314084897298 best_b: -83.46041680726091, and the loss is: 1821.9933691594044\n",
      "Get best_k: 10.256314084897298 best_b: -83.5604168072609, and the loss is: 1777.8166542343943\n",
      "Get best_k: 10.356314084897297 best_b: -83.6604168072609, and the loss is: 1734.2083404258717\n",
      "Get best_k: 10.456314084897297 best_b: -83.7604168072609, and the loss is: 1691.1684277338288\n",
      "Get best_k: 10.556314084897297 best_b: -83.86041680726089, and the loss is: 1648.696916158269\n",
      "Get best_k: 10.656314084897296 best_b: -83.96041680726088, and the loss is: 1606.7938056991902\n",
      "Get best_k: 10.756314084897296 best_b: -84.06041680726088, and the loss is: 1565.459096356594\n",
      "Get best_k: 10.856314084897296 best_b: -84.16041680726087, and the loss is: 1524.6927881304825\n",
      "Get best_k: 10.956314084897295 best_b: -84.26041680726087, and the loss is: 1484.4948810208498\n",
      "Get best_k: 11.056314084897295 best_b: -84.36041680726086, and the loss is: 1444.8653750276994\n",
      "Get best_k: 11.156314084897295 best_b: -84.46041680726086, and the loss is: 1405.804270151034\n",
      "Get best_k: 11.256314084897294 best_b: -84.56041680726085, and the loss is: 1367.3115663908484\n",
      "Get best_k: 11.356314084897294 best_b: -84.66041680726084, and the loss is: 1329.3872637471436\n",
      "Get best_k: 11.456314084897294 best_b: -84.76041680726084, and the loss is: 1292.0313622199255\n",
      "Get best_k: 11.556314084897293 best_b: -84.86041680726083, and the loss is: 1255.2438618091878\n",
      "Get best_k: 11.656314084897293 best_b: -84.96041680726083, and the loss is: 1219.0247625149311\n",
      "Get best_k: 11.756314084897292 best_b: -85.06041680726082, and the loss is: 1183.3740643371577\n",
      "Get best_k: 11.856314084897292 best_b: -85.16041680726082, and the loss is: 1148.2917672758651\n",
      "Get best_k: 11.956314084897292 best_b: -85.26041680726081, and the loss is: 1113.7778713310558\n",
      "Get best_k: 12.056314084897291 best_b: -85.3604168072608, and the loss is: 1079.8323765027285\n",
      "Get best_k: 12.156314084897291 best_b: -85.4604168072608, and the loss is: 1046.455282790884\n",
      "Get best_k: 12.25631408489729 best_b: -85.5604168072608, and the loss is: 1013.6465901955215\n",
      "Get best_k: 12.35631408489729 best_b: -85.66041680726079, and the loss is: 981.4062987166413\n",
      "Get best_k: 12.45631408489729 best_b: -85.76041680726078, and the loss is: 949.734408354243\n",
      "Get best_k: 12.55631408489729 best_b: -85.86041680726078, and the loss is: 918.6309191083276\n",
      "Get best_k: 12.65631408489729 best_b: -85.96041680726077, and the loss is: 888.0958309788929\n",
      "Get best_k: 12.756314084897289 best_b: -86.06041680726076, and the loss is: 858.1291439659411\n",
      "Get best_k: 12.856314084897289 best_b: -86.16041680726076, and the loss is: 828.7308580694729\n",
      "Get best_k: 12.956314084897288 best_b: -86.26041680726075, and the loss is: 799.9009732894855\n",
      "Get best_k: 13.056314084897288 best_b: -86.36041680726075, and the loss is: 771.6394896259803\n",
      "Get best_k: 13.156314084897287 best_b: -86.46041680726074, and the loss is: 743.9464070789577\n",
      "Get best_k: 13.256314084897287 best_b: -86.56041680726074, and the loss is: 716.8217256484172\n",
      "Get best_k: 13.356314084897287 best_b: -86.66041680726073, and the loss is: 690.2654453343591\n",
      "Get best_k: 13.456314084897286 best_b: -86.76041680726073, and the loss is: 664.2775661367843\n",
      "Get best_k: 13.556314084897286 best_b: -86.86041680726072, and the loss is: 638.8580880556896\n",
      "Get best_k: 13.656314084897286 best_b: -86.96041680726071, and the loss is: 614.0070110910779\n",
      "Get best_k: 13.756314084897285 best_b: -87.06041680726071, and the loss is: 589.7243352429488\n",
      "Get best_k: 13.856314084897285 best_b: -87.1604168072607, and the loss is: 566.0100605113009\n",
      "Get best_k: 13.956314084897285 best_b: -87.2604168072607, and the loss is: 542.8641868961366\n",
      "Get best_k: 14.056314084897284 best_b: -87.36041680726069, and the loss is: 520.2867143974544\n",
      "Get best_k: 14.156314084897284 best_b: -87.46041680726069, and the loss is: 498.2776430152533\n",
      "Get best_k: 14.256314084897284 best_b: -87.56041680726068, and the loss is: 476.8369727495355\n",
      "Get best_k: 14.356314084897283 best_b: -87.66041680726067, and the loss is: 455.9647036002991\n",
      "Get best_k: 14.456314084897283 best_b: -87.76041680726067, and the loss is: 435.66083556754535\n",
      "Get best_k: 14.556314084897283 best_b: -87.86041680726066, and the loss is: 415.92536865127346\n",
      "Get best_k: 14.656314084897282 best_b: -87.96041680726066, and the loss is: 396.75830285148476\n",
      "Get best_k: 14.756314084897282 best_b: -88.06041680726065, and the loss is: 378.1596381681774\n",
      "Get best_k: 14.856314084897281 best_b: -88.16041680726065, and the loss is: 360.1293746013522\n",
      "Get best_k: 14.956314084897281 best_b: -88.26041680726064, and the loss is: 342.6675121510096\n",
      "Get best_k: 15.05631408489728 best_b: -88.36041680726063, and the loss is: 325.77405081714943\n",
      "Get best_k: 15.15631408489728 best_b: -88.46041680726063, and the loss is: 309.44899059977143\n",
      "Get best_k: 15.25631408489728 best_b: -88.56041680726062, and the loss is: 293.692331498875\n",
      "Get best_k: 15.35631408489728 best_b: -88.66041680726062, and the loss is: 278.504073514461\n",
      "Get best_k: 15.45631408489728 best_b: -88.76041680726061, and the loss is: 263.88421664652986\n",
      "Get best_k: 15.556314084897279 best_b: -88.8604168072606, and the loss is: 249.8327608950805\n",
      "Get best_k: 15.656314084897279 best_b: -88.9604168072606, and the loss is: 236.34970626011315\n",
      "Get best_k: 15.756314084897278 best_b: -89.0604168072606, and the loss is: 223.43505274162814\n",
      "Get best_k: 15.856314084897278 best_b: -89.16041680726059, and the loss is: 211.0888003396253\n",
      "Get best_k: 15.956314084897278 best_b: -89.26041680726058, and the loss is: 199.31094905410507\n",
      "Get best_k: 16.056314084897277 best_b: -89.36041680726058, and the loss is: 188.10149888506663\n",
      "Get best_k: 16.15631408489728 best_b: -89.46041680726057, and the loss is: 177.46044983251056\n",
      "Get best_k: 16.25631408489728 best_b: -89.56041680726057, and the loss is: 167.38780189643654\n",
      "Get best_k: 16.35631408489728 best_b: -89.66041680726056, and the loss is: 157.8835550768448\n",
      "Get best_k: 16.456314084897283 best_b: -89.76041680726055, and the loss is: 148.9477093737351\n",
      "Get best_k: 16.556314084897284 best_b: -89.86041680726055, and the loss is: 140.58026478710786\n",
      "Get best_k: 16.656314084897286 best_b: -89.96041680726054, and the loss is: 132.78122131696296\n",
      "Get best_k: 16.756314084897287 best_b: -90.06041680726054, and the loss is: 125.55057896330017\n",
      "Get best_k: 16.85631408489729 best_b: -90.16041680726053, and the loss is: 118.88833772611953\n",
      "Get best_k: 16.95631408489729 best_b: -90.26041680726053, and the loss is: 112.79449760542128\n",
      "Get best_k: 17.05631408489729 best_b: -90.36041680726052, and the loss is: 107.2690586012053\n",
      "Get best_k: 17.156314084897293 best_b: -90.46041680726051, and the loss is: 102.31202071347138\n",
      "Get best_k: 17.256314084897294 best_b: -90.56041680726051, and the loss is: 97.92338394221984\n",
      "Get best_k: 17.356314084897296 best_b: -90.6604168072605, and the loss is: 94.10314828745061\n",
      "Get best_k: 17.456314084897297 best_b: -90.7604168072605, and the loss is: 90.85131374916354\n",
      "Get best_k: 17.5563140848973 best_b: -90.86041680726049, and the loss is: 88.16788032735869\n",
      "Get best_k: 17.6563140848973 best_b: -90.96041680726049, and the loss is: 86.05284802203603\n",
      "Get best_k: 17.7563140848973 best_b: -91.06041680726048, and the loss is: 84.50621683319578\n",
      "Get best_k: 17.856314084897303 best_b: -91.16041680726048, and the loss is: 83.52798676083768\n",
      "Get best_k: 17.956314084897304 best_b: -91.26041680726047, and the loss is: 83.11815780496177\n"
     ]
    }
   ],
   "source": [
    "try_times = 2000\n",
    "\n",
    "min_loss = float('inf')\n",
    "best_k, best_b = random.random() * 200 - 100, random.random() * 200 - 100\n",
    "\n",
    "direction = [\n",
    "    (+1, +1),\n",
    "    (+1, -1),\n",
    "    (-1, -1),\n",
    "    (-1, +1)\n",
    "]\n",
    "\n",
    "next_direction = random.choice(direction)\n",
    "\n",
    "scalar = 0.1\n",
    "\n",
    "for i in range(try_times):\n",
    "    k_direction, b_direction = next_direction\n",
    "    current_k, current_b = best_k + k_direction * scalar, best_b + b_direction * scalar\n",
    "    \n",
    "    price_by_k_and_b = [price(r, current_k, current_b) for r in X[:, 5]]\n",
    "    \n",
    "    current_loss = loss(y, price_by_k_and_b)\n",
    "    \n",
    "    if current_loss < min_loss:\n",
    "        min_loss = current_loss\n",
    "        best_k, best_b = current_k, current_b\n",
    "        \n",
    "        print('Get best_k: {} best_b: {}, and the loss is: {}'.format(best_k, best_b, min_loss))\n",
    "    else:\n",
    "        next_direction = random.choice(direction)"
   ]
  },
  {
   "cell_type": "markdown",
   "metadata": {},
   "source": [
    "## 2. Answer following questions:\n",
    "\n",
    "\n",
    "###### 1. Why do we need machine learning methods instead of creating a complicated formula?\n"
   ]
  },
  {
   "cell_type": "markdown",
   "metadata": {},
   "source": [
    "Ans:"
   ]
  },
  {
   "cell_type": "markdown",
   "metadata": {},
   "source": [
    "###### 2.  Wha't's the disadvantages of `the 1st Random Choosen` methods in our course? "
   ]
  },
  {
   "cell_type": "markdown",
   "metadata": {},
   "source": [
    "Ans:"
   ]
  },
  {
   "cell_type": "markdown",
   "metadata": {},
   "source": [
    "###### 3. Is the `2nd method supervised direction` better than 1st one?  What's the disadvantages of `the 2nd supversied directin` method? "
   ]
  },
  {
   "cell_type": "markdown",
   "metadata": {},
   "source": [
    "Ans:"
   ]
  },
  {
   "cell_type": "markdown",
   "metadata": {},
   "source": [
    "###### 4. Why do we use `Derivative / Gredient` to fit a target function? "
   ]
  },
  {
   "cell_type": "markdown",
   "metadata": {},
   "source": [
    "Ans:"
   ]
  },
  {
   "cell_type": "markdown",
   "metadata": {},
   "source": [
    "###### 5. In the words 'Gredient Descent', what's the `Gredient` and what's the `Descent`?"
   ]
  },
  {
   "cell_type": "markdown",
   "metadata": {},
   "source": [
    "Ans:"
   ]
  },
  {
   "cell_type": "markdown",
   "metadata": {},
   "source": [
    "###### 6. What's the advantages of `the 3rd gradient descent method` compared to the previous methods?"
   ]
  },
  {
   "cell_type": "markdown",
   "metadata": {},
   "source": [
    "Ans:"
   ]
  },
  {
   "cell_type": "markdown",
   "metadata": {},
   "source": [
    "###### 7. Using the simple words to describe: What's the machine leanring."
   ]
  },
  {
   "cell_type": "markdown",
   "metadata": {},
   "source": [
    "Ans:"
   ]
  },
  {
   "cell_type": "markdown",
   "metadata": {},
   "source": [
    "## 3. Finish the search problem"
   ]
  },
  {
   "cell_type": "markdown",
   "metadata": {},
   "source": [
    "Please using the search policy to implement an agent. This agent receives two input, one is @param start station and the other is @param destination. Your agent should give the optimal route based on Beijing Subway system. "
   ]
  },
  {
   "cell_type": "markdown",
   "metadata": {},
   "source": [
    "> Deadline: 2019-July-13\n",
    "\n",
    ">Submit: Submit the source code and result to github. \n",
    "\n"
   ]
  },
  {
   "cell_type": "markdown",
   "metadata": {},
   "source": [
    "![](https://timgsa.baidu.com/timg?image&quality=80&size=b9999_10000&sec=1562414356407&di=b57814aafd215bb8b8d9d8cd37c573d6&imgtype=0&src=http%3A%2F%2Fcli.clewm.net%2Ffile%2F2015%2F03%2F24%2F174ed60082b8422ac0636cfd3efb9e7f.jpg)"
   ]
  },
  {
   "cell_type": "markdown",
   "metadata": {},
   "source": [
    "#### Dataflow: "
   ]
  },
  {
   "cell_type": "markdown",
   "metadata": {},
   "source": [
    "##### 1.\tGet data from web page.\n",
    "\n",
    "> a.\tGet web page source from: https://baike.baidu.com/item/%E5%8C%97%E4%BA%AC%E5%9C%B0%E9%93%81/408485\n",
    "\n",
    "> b.\tYou may need @package **requests**[https://2.python-requests.org/en/master/] page to get the response via url\n",
    "\n",
    "> c.\tYou may need save the page source to file system.\n",
    "\n",
    "> d.\tThe target of this step is to get station information of all the subway lines;\n",
    "\n",
    "> e.\tYou may need install @package beautiful soup[https://www.crummy.com/software/BeautifulSoup/bs4/doc/]  to get the url information, or just use > Regular Expression to get the url.  Our recommendation is that using the Regular Expression and BeautiflSoup both. \n",
    "\n",
    "> f.\tYou may need BFS to get all the related page url from one url. \n",
    "Question: Why do we use BFS to traverse web page (or someone said, build a web spider)?  Can DFS do this job? which is better? "
   ]
  },
  {
   "cell_type": "markdown",
   "metadata": {},
   "source": [
    "##### 2.\tPreprocessing data from page source.\n",
    "\n",
    "> a.\tBased on the page source gotten from url. You may need some more preprocessing of the page. \n",
    "\n",
    "> b.\tthe Regular Expression you may need to process the text information.\n",
    "\n",
    "> c.\tYou may need @package networkx, @package matplotlib to visualize data. \n",
    "\n",
    "> d.\tYou should build a dictionary or graph which could represent the connection information of Beijing subway routes. \n",
    "\n",
    "> e.\tYou may need the defaultdict, set data structures to implement this procedure. "
   ]
  },
  {
   "cell_type": "markdown",
   "metadata": {},
   "source": [
    "##### 3. Build the search agent\n",
    "\n",
    "> Build the search agent based on the graph we build.\n",
    "\n",
    "for example, when you run: \n",
    "\n",
    "```python\n",
    ">>> search('奥体中心', '天安门') \n",
    "```\n",
    "you need get the result: \n",
    "\n",
    "奥体中心-> A -> B -> C -> ... -> 天安门\n",
    "\n"
   ]
  },
  {
   "cell_type": "code",
   "execution_count": 154,
   "metadata": {},
   "outputs": [],
   "source": [
    "import requests\n",
    "import re\n",
    "from urllib.parse import quote, unquote\n",
    "import math\n",
    "from collections import defaultdict"
   ]
  },
  {
   "cell_type": "code",
   "execution_count": 55,
   "metadata": {},
   "outputs": [],
   "source": [
    "lines_root = 'https://baike.baidu.com'"
   ]
  },
  {
   "cell_type": "code",
   "execution_count": 131,
   "metadata": {},
   "outputs": [],
   "source": [
    "lines_url = lines_root + '/item/%E4%B8%8A%E6%B5%B7%E5%9C%B0%E9%93%81'\n",
    "stations_url = 'http://m.shmetro.com/interface/metromap/metromap.aspx?func=lineStations&line='"
   ]
  },
  {
   "cell_type": "code",
   "execution_count": 144,
   "metadata": {},
   "outputs": [],
   "source": [
    "def fetch_body(url, response_handler = lambda value: value.text):\n",
    "    session = requests.session()\n",
    "    session.headers['User-Agent'] = 'Mozilla/5.0 (Macintosh; Intel Mac OS X 10_14_5) AppleWebKit/537.36 (KHTML, like Gecko) Chrome/74.0.3729.169 Safari/537.36'\n",
    "    response = session.get(url)\n",
    "    response.encoding='utf-8'\n",
    "    return response_handler(response)\n"
   ]
  },
  {
   "cell_type": "code",
   "execution_count": 93,
   "metadata": {},
   "outputs": [],
   "source": [
    "def match_pattern(pattern, text):\n",
    "    pattern = re.compile(pattern)\n",
    "    return pattern.findall(text)"
   ]
  },
  {
   "cell_type": "code",
   "execution_count": 86,
   "metadata": {},
   "outputs": [],
   "source": [
    "body = fetch_body(lines_url)"
   ]
  },
  {
   "cell_type": "code",
   "execution_count": 142,
   "metadata": {},
   "outputs": [],
   "source": [
    "lines_pattern = r'<a target=_blank href=\"(\\/item\\/(.+?)\\/\\d+)\" data-lemmaid=\"\\d+\">.+?<\\/a>'"
   ]
  },
  {
   "cell_type": "code",
   "execution_count": 177,
   "metadata": {},
   "outputs": [
    {
     "name": "stdout",
     "output_type": "stream",
     "text": [
      "defaultdict(<class 'list'>, {'莘庄': ['外环路', '春申路'], '外环路': ['莘庄', '莲花路'], '莲花路': ['外环路', '锦江乐园'], '锦江乐园': ['莲花路', '上海南站'], '上海南站': ['锦江乐园', '漕宝路', '石龙路'], '漕宝路': ['上海南站', '上海体育馆', '桂林公园', '龙漕路'], '上海体育馆': ['漕宝路', '徐家汇', '宜山路'], '徐家汇': ['上海体育馆', '衡山路', '宜山路', '肇嘉浜路', '交通大学', '上海游泳馆'], '衡山路': ['徐家汇', '常熟路'], '常熟路': ['衡山路', '陕西南路', '静安寺', '肇嘉浜路'], '陕西南路': ['常熟路', '黄陂南路', '上海图书馆', '新天地', '嘉善路', '南京西路'], '黄陂南路': ['陕西南路', '人民广场'], '人民广场': ['黄陂南路', '新闸路', '南京西路', '南京东路', '大世界', '曲阜路'], '新闸路': ['人民广场', '汉中路'], '汉中路': ['新闸路', '上海火车站', '南京西路', '曲阜路', '江宁路', '自然博物馆'], '上海火车站': ['汉中路', '中山北路', '中潭路', '宝山路', '中潭路', '宝山路'], '中山北路': ['上海火车站', '延长路'], '延长路': ['中山北路', '上海马戏城'], '上海马戏城': ['延长路', '汶水路'], '汶水路': ['上海马戏城', '彭浦新村'], '彭浦新村': ['汶水路', '共康路'], '共康路': ['彭浦新村', '通河新村'], '通河新村': ['共康路', '呼兰路'], '呼兰路': ['通河新村', '共富新村'], '共富新村': ['呼兰路', '宝安公路'], '宝安公路': ['共富新村', '友谊西路'], '友谊西路': ['宝安公路', '富锦路'], '富锦路': ['友谊西路'], '徐泾东': ['虹桥火车站'], '虹桥火车站': ['徐泾东', '虹桥2号航站楼', '龙柏新村', '虹桥2号航站楼', '诸光路'], '虹桥2号航站楼': ['虹桥火车站', '淞虹路', '虹桥火车站', '虹桥1号航站楼'], '淞虹路': ['虹桥2号航站楼', '北新泾'], '北新泾': ['淞虹路', '威宁路'], '威宁路': ['北新泾', '娄山关路'], '娄山关路': ['威宁路', '中山公园'], '中山公园': ['娄山关路', '江苏路', '延安西路', '金沙江路', '延安西路', '金沙江路'], '江苏路': ['中山公园', '静安寺', '隆德路', '交通大学'], '静安寺': ['江苏路', '南京西路', '昌平路', '常熟路'], '南京西路': ['静安寺', '人民广场', '陕西南路', '汉中路', '自然博物馆', '淮海中路'], '南京东路': ['人民广场', '陆家嘴', '豫园', '天潼路'], '陆家嘴': ['南京东路', '东昌路'], '东昌路': ['陆家嘴', '世纪大道'], '世纪大道': ['东昌路', '上海科技馆', '浦东大道', '浦电路', '浦电路 ', '源深体育中心', '商城路', '杨高中路'], '上海科技馆': ['世纪大道', '世纪公园'], '世纪公园': ['上海科技馆', '龙阳路'], '龙阳路': ['世纪公园', '张江高科', '芳华路', '花木路', '华夏中路'], '张江高科': ['龙阳路', '金科路'], '金科路': ['张江高科', '广兰路'], '广兰路': ['金科路', '唐镇'], '唐镇': ['广兰路', '创新中路'], '创新中路': ['唐镇', '华夏东路'], '华夏东路': ['创新中路', '川沙'], '川沙': ['华夏东路', '凌空路'], '凌空路': ['川沙', '远东大道'], '远东大道': ['凌空路', '海天三路'], '海天三路': ['远东大道', '浦东国际机场'], '浦东国际机场': ['海天三路'], '石龙路': ['上海南站', '龙漕路'], '龙漕路': ['石龙路', '漕溪路', '漕宝路', '龙华'], '漕溪路': ['龙漕路', '宜山路'], '宜山路': ['漕溪路', '虹桥路', '上海体育馆', '虹桥路', '桂林路', '徐家汇'], '虹桥路': ['宜山路', '延安西路', '宜山路', '延安西路', '宋园路', '交通大学'], '延安西路': ['虹桥路', '中山公园', '虹桥路', '中山公园'], '金沙江路': ['中山公园', '曹杨路', '中山公园', '曹杨路', '大渡河路', '隆德路'], '曹杨路': ['金沙江路', '镇坪路', '金沙江路', '镇坪路', '枫桥路', '隆德路'], '镇坪路': ['曹杨路', '中潭路', '曹杨路', '中潭路', '岚皋路', '长寿路'], '中潭路': ['镇坪路', '上海火车站', '镇坪路', '上海火车站'], '宝山路': ['上海火车站', '东宝兴路', '上海火车站', '海伦路'], '东宝兴路': ['宝山路', '虹口足球场'], '虹口足球场': ['东宝兴路', '赤峰路', '西藏北路', '曲阳路'], '赤峰路': ['虹口足球场', '大柏树'], '大柏树': ['赤峰路', '江湾镇'], '江湾镇': ['大柏树', '殷高西路'], '殷高西路': ['江湾镇', '长江南路'], '长江南路': ['殷高西路', '淞发路'], '淞发路': ['长江南路', '张华浜'], '张华浜': ['淞发路', '淞滨路'], '淞滨路': ['张华浜', '水产路'], '水产路': ['淞滨路', '宝杨路'], '宝杨路': ['水产路', '友谊路'], '友谊路': ['宝杨路', '铁力路'], '铁力路': ['友谊路', '江杨北路'], '江杨北路': ['铁力路'], '海伦路': ['宝山路', '临平路', '四川北路', '邮电新村'], '临平路': ['海伦路', '大连路'], '大连路': ['临平路', '杨树浦路', '提篮桥', '江浦公园'], '杨树浦路': ['大连路', '浦东大道'], '浦东大道': ['杨树浦路', '世纪大道'], '浦电路': ['世纪大道', '蓝村路'], '蓝村路': ['浦电路', '塘桥', '上海儿童医学中心', '浦电路 '], '塘桥': ['蓝村路', '南浦大桥'], '南浦大桥': ['塘桥', '西藏南路'], '西藏南路': ['南浦大桥', '鲁班路', '中华艺术宫', '陆家浜路'], '鲁班路': ['西藏南路', '大木桥路'], '大木桥路': ['鲁班路', '东安路', '龙华中路', '嘉善路'], '东安路': ['大木桥路', '上海体育场', '肇嘉浜路', '龙华中路'], '上海体育场': ['东安路'], '春申路': ['莘庄', '银都路'], '银都路': ['春申路', '颛桥'], '颛桥': ['银都路', '北桥'], '北桥': ['颛桥', '剑川路'], '剑川路': ['北桥', '东川路'], '东川路': ['剑川路', '金平路'], '金平路': ['东川路', '华宁路'], '华宁路': ['金平路', '文井路'], '文井路': ['华宁路', '闵行开发区'], '闵行开发区': ['文井路', '江川路'], '江川路': ['闵行开发区', '西渡'], '西渡': ['江川路', '萧塘'], '萧塘': ['西渡', '奉浦大道'], '奉浦大道': ['萧塘', '环城东路'], '环城东路': ['奉浦大道', '望园路'], '望园路': ['环城东路', '金海湖'], '金海湖': ['望园路', '奉贤新城'], '奉贤新城': ['金海湖'], '东方体育中心': ['灵岩南路', '凌兆新村', '杨思', '龙耀路', '三林'], '灵岩南路': ['东方体育中心', '上南路'], '上南路': ['灵岩南路', '华夏西路'], '华夏西路': ['上南路', '高青路'], '高青路': ['华夏西路', '东明路'], '东明路': ['高青路', '高科西路', '成山路', '华鹏路 '], '高科西路': ['东明路', '临沂新村 ', '云台路', '杨高南路'], '临沂新村 ': ['高科西路', '上海儿童医学中心'], '上海儿童医学中心': ['临沂新村 ', '蓝村路'], '浦电路 ': ['蓝村路', '世纪大道'], '源深体育中心': ['世纪大道', '民生路'], '民生路': ['源深体育中心', '北洋泾路'], '北洋泾路': ['民生路', '德平路'], '德平路': ['北洋泾路', '云山路'], '云山路': ['德平路', '金桥路'], '金桥路': ['云山路', '博兴路'], '博兴路': ['金桥路', '五莲路'], '五莲路': ['博兴路', '巨峰路'], '巨峰路': ['五莲路', '东靖路', '东陆路', '杨高北路'], '东靖路': ['巨峰路', '五洲大道'], '五洲大道': ['东靖路', '洲海路'], '洲海路': ['五洲大道', '外高桥保税区南站'], '外高桥保税区南站': ['洲海路', '航津路'], '航津路': ['外高桥保税区南站', '外高桥保税区北站'], '外高桥保税区北站': ['航津路', '港城路'], '港城路': ['外高桥保税区北站'], '美兰湖': ['罗南新村'], '罗南新村': ['美兰湖', '潘广路'], '潘广路': ['罗南新村', '刘行'], '刘行': ['潘广路', '顾村公园'], '顾村公园': ['刘行', '祁华路'], '祁华路': ['顾村公园', '上海大学'], '上海大学': ['祁华路', '南陈路'], '南陈路': ['上海大学', '上大路'], '上大路': ['南陈路', '场中路'], '场中路': ['上大路', '大场镇'], '大场镇': ['场中路', '行知路'], '行知路': ['大场镇', '大华三路'], '大华三路': ['行知路', '新村路'], '新村路': ['大华三路', '岚皋路'], '岚皋路': ['新村路', '镇坪路'], '长寿路': ['镇坪路', '昌平路', '武宁路', '江宁路'], '昌平路': ['长寿路', '静安寺'], '肇嘉浜路': ['常熟路', '东安路', '徐家汇', '嘉善路'], '龙华中路': ['东安路', '后滩', '龙华', '大木桥路'], '后滩': ['龙华中路', '长清路'], '长清路': ['后滩', '耀华路', '世博大道', '成山路'], '耀华路': ['长清路', '云台路', '成山路', '中华艺术宫'], '云台路': ['耀华路', '高科西路'], '杨高南路': ['高科西路', '锦绣路'], '锦绣路': ['杨高南路', '芳华路'], '芳华路': ['锦绣路', '龙阳路'], '花木路': ['龙阳路'], '沈杜公路': ['联航路', '三鲁公路'], '联航路': ['沈杜公路', '江月路'], '江月路': ['联航路', '浦江镇'], '浦江镇': ['江月路', '芦恒路'], '芦恒路': ['浦江镇', '凌兆新村'], '凌兆新村': ['芦恒路', '东方体育中心'], '杨思': ['东方体育中心', '成山路'], '成山路': ['杨思', '耀华路', '长清路', '东明路'], '中华艺术宫': ['耀华路', '西藏南路'], '陆家浜路': ['西藏南路', '老西门', '马当路', '小南门'], '老西门': ['陆家浜路', '大世界', '新天地', '豫园'], '大世界': ['老西门', '人民广场'], '曲阜路': ['人民广场', '中兴路', '汉中路', '天潼路'], '中兴路': ['曲阜路', '西藏北路'], '西藏北路': ['中兴路', '虹口足球场'], '曲阳路': ['虹口足球场', '四平路'], '四平路': ['曲阳路', '鞍山新村', '邮电新村', '同济大学'], '鞍山新村': ['四平路', '江浦路'], '江浦路': ['鞍山新村', '黄兴路'], '黄兴路': ['江浦路', '延吉中路'], '延吉中路': ['黄兴路', '黄兴公园'], '黄兴公园': ['延吉中路', '翔殷路'], '翔殷路': ['黄兴公园', '嫩江路'], '嫩江路': ['翔殷路', '市光路'], '市光路': ['嫩江路'], '松江南站': ['醉白池'], '醉白池': ['松江南站', '松江体育中心'], '松江体育中心': ['醉白池', '松江新城'], '松江新城': ['松江体育中心', '松江大学城'], '松江大学城': ['松江新城', '洞泾'], '洞泾': ['松江大学城', '佘山'], '佘山': ['洞泾', '泗泾'], '泗泾': ['佘山', '九亭'], '九亭': ['泗泾', '中春路'], '中春路': ['九亭', '七宝'], '七宝': ['中春路', '星中路'], '星中路': ['七宝', '合川路'], '合川路': ['星中路', '漕河泾开发区'], '漕河泾开发区': ['合川路', '桂林路'], '桂林路': ['漕河泾开发区', '宜山路'], '嘉善路': ['肇嘉浜路', '打浦桥', '大木桥路', '陕西南路'], '打浦桥': ['嘉善路', '马当路'], '马当路': ['打浦桥', '陆家浜路', '新天地', '世博会博物馆'], '小南门': ['陆家浜路', '商城路'], '商城路': ['小南门', '世纪大道'], '杨高中路': ['世纪大道', '芳甸路'], '芳甸路': ['杨高中路', '蓝天路'], '蓝天路': ['芳甸路', '台儿庄路'], '台儿庄路': ['蓝天路', '金桥'], '金桥': ['台儿庄路', '金吉路'], '金吉路': ['金桥', '金海路'], '金海路': ['金吉路', '顾唐路', '申江路'], '顾唐路': ['金海路', '民雷路'], '民雷路': ['顾唐路', '曹路'], '曹路': ['民雷路'], '航中路': ['紫藤路'], '紫藤路': ['航中路', '龙柏新村'], '龙柏新村': ['紫藤路', '虹桥火车站'], '虹桥1号航站楼': ['虹桥2号航站楼', '上海动物园'], '上海动物园': ['虹桥1号航站楼', '龙溪路'], '龙溪路': ['上海动物园', '水城路'], '水城路': ['龙溪路', '伊犁路'], '伊犁路': ['水城路', '宋园路'], '宋园路': ['伊犁路', '虹桥路'], '交通大学': ['虹桥路', '上海图书馆', '江苏路', '徐家汇'], '上海图书馆': ['交通大学', '陕西南路'], '新天地': ['陕西南路', '老西门', '淮海中路', '马当路'], '豫园': ['老西门', '南京东路'], '天潼路': ['南京东路', '四川北路', '曲阜路', '国际客运中心'], '四川北路': ['天潼路', '海伦路'], '邮电新村': ['海伦路', '四平路'], '同济大学': ['四平路', '国权路'], '国权路': ['同济大学', '五角场'], '五角场': ['国权路', '江湾体育场'], '江湾体育场': ['五角场', '三门路'], '三门路': ['江湾体育场', '殷高东路 '], '殷高东路 ': ['三门路', '新江湾城'], '新江湾城': ['殷高东路 '], '花桥': ['光明路'], '光明路': ['花桥', '兆丰路'], '兆丰路': ['光明路', '安亭'], '安亭': ['兆丰路', '上海汽车城'], '上海汽车城': ['安亭', '昌吉东路'], '昌吉东路': ['上海汽车城', '上海赛车场'], '上海赛车场': ['昌吉东路', '嘉定北'], '嘉定北': ['上海赛车场', '嘉定西'], '嘉定西': ['嘉定北', '白银路'], '白银路': ['嘉定西', '嘉定新城'], '嘉定新城': ['白银路', '马陆'], '马陆': ['嘉定新城', '南翔'], '南翔': ['马陆', '桃浦新村'], '桃浦新村': ['南翔', '武威路'], '武威路': ['桃浦新村', '祁连山路'], '祁连山路': ['武威路', '李子园'], '李子园': ['祁连山路', '上海西站'], '上海西站': ['李子园', '真如'], '真如': ['上海西站', '枫桥路'], '枫桥路': ['真如', '曹杨路'], '隆德路': ['曹杨路', '江苏路', '金沙江路', '武宁路'], '上海游泳馆': ['徐家汇', '龙华'], '龙华': ['上海游泳馆', '云锦路', '龙漕路', '龙华中路'], '云锦路': ['龙华', '龙耀路'], '龙耀路': ['云锦路', '东方体育中心'], '三林': ['东方体育中心', '三林东'], '三林东': ['三林', '浦三路'], '浦三路': ['三林东', '御桥'], '御桥': ['浦三路', '罗山路'], '罗山路': ['御桥', '秀沿路', '华夏中路', '周浦东'], '秀沿路': ['罗山路', '康新公路'], '康新公路': ['秀沿路', '迪士尼'], '迪士尼': ['康新公路'], '七莘路': ['虹莘路'], '虹莘路': ['七莘路', '顾戴路'], '顾戴路': ['虹莘路', '东兰路'], '东兰路': ['顾戴路', '虹梅路'], '虹梅路': ['东兰路', '虹漕路'], '虹漕路': ['虹梅路', '桂林公园'], '桂林公园': ['虹漕路', '漕宝路'], '国际客运中心': ['天潼路', '提篮桥'], '提篮桥': ['国际客运中心', '大连路'], '江浦公园': ['大连路', '宁国路'], '宁国路': ['江浦公园', '隆昌路'], '隆昌路': ['宁国路', '爱国路'], '爱国路': ['隆昌路', '复兴岛'], '复兴岛': ['爱国路', '东陆路'], '东陆路': ['复兴岛', '巨峰路'], '杨高北路': ['巨峰路', '金京路'], '金京路': ['杨高北路', '申江路'], '申江路': ['金京路', '金海路'], '金运路': ['金沙江西路'], '金沙江西路': ['金运路', '丰庄'], '丰庄': ['金沙江西路', '祁连山南路'], '祁连山南路': ['丰庄', '真北路'], '真北路': ['祁连山南路', '大渡河路'], '大渡河路': ['真北路', '金沙江路'], '武宁路': ['隆德路', '长寿路'], '江宁路': ['长寿路', '汉中路'], '自然博物馆': ['汉中路', '南京西路'], '淮海中路': ['南京西路', '新天地'], '世博会博物馆': ['马当路', '世博大道'], '世博大道': ['世博会博物馆', '长清路'], '华鹏路 ': ['东明路', '下南路'], '下南路': ['华鹏路 ', '北蔡'], '北蔡': ['下南路', '陈春路 '], '陈春路 ': ['北蔡', '莲溪路 '], '莲溪路 ': ['陈春路 ', '华夏中路'], '华夏中路': ['莲溪路 ', '中科路', '龙阳路', '罗山路'], '中科路': ['华夏中路', '学林路 '], '学林路 ': ['中科路', '张江路'], '张江路': ['学林路 '], '周浦东': ['罗山路', '鹤沙航城'], '鹤沙航城': ['周浦东', '航头东'], '航头东': ['鹤沙航城', '新场'], '新场': ['航头东', '野生动物园'], '野生动物园': ['新场', '惠南'], '惠南': ['野生动物园', '惠南东'], '惠南东': ['惠南', '书院'], '书院': ['惠南东', '临港大道'], '临港大道': ['书院', '滴水湖'], '滴水湖': ['临港大道'], '诸光路': ['虹桥火车站', '蟠龙路'], '蟠龙路': ['诸光路', '徐盈路'], '徐盈路': ['蟠龙路', '徐泾北城'], '徐泾北城': ['徐盈路', '嘉松中路'], '嘉松中路': ['徐泾北城', '赵巷'], '赵巷': ['嘉松中路', '汇金路'], '汇金路': ['赵巷', '青浦新城'], '青浦新城': ['汇金路', '漕盈路'], '漕盈路': ['青浦新城', '淀山湖大道'], '淀山湖大道': ['漕盈路', '朱家角'], '朱家角': ['淀山湖大道', '东方绿舟'], '东方绿舟': ['朱家角'], '三鲁公路': ['沈杜公路', '闵瑞路'], '闵瑞路': ['三鲁公路', '浦航路'], '浦航路': ['闵瑞路', '东城一路'], '东城一路': ['浦航路', '汇臻路'], '汇臻路': ['东城一路']})\n"
     ]
    }
   ],
   "source": [
    "stations_connection_info = defaultdict(list)\n",
    "stations = defaultdict(list)\n",
    "lines_route = {\n",
    "    'lines': {},\n",
    "    'transfer_stations': {}\n",
    "}\n",
    "station_lines = defaultdict(list)\n",
    "matched_lines = match_pattern(lines_pattern, body)\n",
    "for matched in matched_lines:\n",
    "    candidate_name = unquote(matched[1])\n",
    "    match = re.match(r'上海地铁([\\d|.]*).*线', candidate_name)\n",
    "    if match and candidate_name not in lines_route['lines']:\n",
    "        lines_route['lines'][candidate_name] = matched[0]\n",
    "        line_no = match.group(1)\n",
    "        if line_no is None or line_no == '': line_no = '41'\n",
    "        \n",
    "        # print(line_no + ' ' + candidate_name)\n",
    "        \n",
    "        line_body = fetch_body(stations_url + line_no, lambda value: value.json())\n",
    "        stations_body = line_body['levels'][0]['locations']\n",
    "        \n",
    "        lines_route['lines'][candidate_name] = []\n",
    "        stations[candidate_name] = []\n",
    "        for value in stations_body:\n",
    "            station_lines[value['title']] = station_lines[value['title']] + [candidate_name]\n",
    "            lines_route['lines'][candidate_name].append(value['title'])\n",
    "            stations[value['title']] = stations[value['title']] + [candidate_name]\n",
    "            stations[candidate_name].append(value['title'])\n",
    "        \n",
    "        line_stations = lines_route['lines'][candidate_name]\n",
    "        line_length = len(line_stations)\n",
    "        for i in range(line_length):\n",
    "            if line_stations[i] not in stations_connection_info: stations_connection_info[line_stations[i]] = []\n",
    "            if i > 0: stations_connection_info[line_stations[i]].append(line_stations[i - 1])\n",
    "            if i < (line_length - 1): stations_connection_info[line_stations[i]].append(line_stations[i + 1])\n",
    "            \n",
    "for station, lines in station_lines.items():\n",
    "    if len(lines) > 1:\n",
    "        lines_route['transfer_stations'][station] = lines\n",
    "\n",
    "print(stations_connection_info)"
   ]
  },
  {
   "cell_type": "code",
   "execution_count": 91,
   "metadata": {},
   "outputs": [],
   "source": [
    "# def search_path(start, destination, connection_grpah, sort_candidate):\n",
    "#     for node in connection_grpah:"
   ]
  },
  {
   "cell_type": "code",
   "execution_count": 13,
   "metadata": {},
   "outputs": [],
   "source": [
    "geo_url = 'http://map.amap.com/service/subway?_1562918942401&srhdata=3100_drw_shanghai.json'"
   ]
  },
  {
   "cell_type": "code",
   "execution_count": 14,
   "metadata": {},
   "outputs": [],
   "source": [
    "response = requests.get(geo_url)\n",
    "geo_values = response.json()"
   ]
  },
  {
   "cell_type": "code",
   "execution_count": 16,
   "metadata": {},
   "outputs": [],
   "source": [
    "lines = {}\n",
    "metro_stations = {}\n",
    "for line in geo_values['l']:\n",
    "    lines[line['ln']] = {} # ln: 简称，kn: 全称\n",
    "    stations_info = line['st']\n",
    "    for station in stations_info:\n",
    "        long, lat = station['sl'].split(',')\n",
    "        lines[line['ln']][station['n']] = (float(long), float(lat))\n",
    "        metro_stations[station['n']] = (float(long), float(lat))"
   ]
  },
  {
   "cell_type": "code",
   "execution_count": 23,
   "metadata": {},
   "outputs": [
    {
     "data": {
      "text/plain": [
       "{'1号线': {'莘庄': (121.385373, 31.111152),\n",
       "  '外环路': (121.39302, 31.120899),\n",
       "  '莲花路': (121.40291, 31.1309),\n",
       "  '锦江乐园': (121.414107, 31.142217),\n",
       "  '上海南站': (121.430041, 31.154579),\n",
       "  '漕宝路': (121.433143, 31.168344),\n",
       "  '上海体育馆': (121.437423, 31.182813),\n",
       "  '徐家汇': (121.436837, 31.195338),\n",
       "  '衡山路': (121.446424, 31.204528),\n",
       "  '常熟路': (121.449141, 31.213524),\n",
       "  '陕西南路': (121.458744, 31.21515),\n",
       "  '黄陂南路': (121.473306, 31.222745),\n",
       "  '人民广场': (121.475137, 31.232781),\n",
       "  '新闸路': (121.468151, 31.238373),\n",
       "  '汉中路': (121.458699, 31.241883),\n",
       "  '上海火车站': (121.457939, 31.249632),\n",
       "  '中山北路': (121.459204, 31.258891),\n",
       "  '延长路': (121.455329, 31.271675),\n",
       "  '上海马戏城': (121.452023, 31.279895),\n",
       "  '汶水路': (121.450251, 31.292556),\n",
       "  '彭浦新村': (121.448642, 31.306604),\n",
       "  '共康路': (121.447063, 31.318936),\n",
       "  '通河新村': (121.441546, 31.33113),\n",
       "  '呼兰路': (121.437711, 31.339703),\n",
       "  '共富新村': (121.434063, 31.355082),\n",
       "  '宝安公路': (121.430914, 31.369555),\n",
       "  '友谊西路': (121.427953, 31.381296),\n",
       "  '富锦路': (121.424661, 31.39226)},\n",
       " '2号线': {'广兰路': (121.621072, 31.21105),\n",
       "  '金科路': (121.601989, 31.204213),\n",
       "  '张江高科': (121.587687, 31.201832),\n",
       "  '龙阳路': (121.557634, 31.203575),\n",
       "  '世纪公园': (121.550909, 31.209421),\n",
       "  '上海科技馆': (121.544439, 31.21882),\n",
       "  '世纪大道': (121.527213, 31.228682),\n",
       "  '东昌路': (121.515556, 31.23327),\n",
       "  '陆家嘴': (121.502262, 31.238195),\n",
       "  '南京东路': (121.484628, 31.238101),\n",
       "  '人民广场': (121.475137, 31.232781),\n",
       "  '南京西路': (121.459971, 31.229853),\n",
       "  '静安寺': (121.446221, 31.223083),\n",
       "  '江苏路': (121.430642, 31.220411),\n",
       "  '中山公园': (121.415773, 31.217948),\n",
       "  '娄山关路': (121.404058, 31.211158),\n",
       "  '威宁路': (121.387285, 31.21487),\n",
       "  '北新泾': (121.373998, 31.216395),\n",
       "  '淞虹路': (121.359588, 31.218212),\n",
       "  '虹桥2号航站楼': (121.3263, 31.194211),\n",
       "  '虹桥火车站': (121.31895, 31.194022),\n",
       "  '徐泾东': (121.299204, 31.188367)},\n",
       " '2号线\\\\2号线东延线': {'浦东国际机场': (121.806497, 31.150024),\n",
       "  '海天三路': (121.796878, 31.168459),\n",
       "  '远东大道': (121.755301, 31.199385),\n",
       "  '凌空路': (121.724095, 31.192861),\n",
       "  '川沙': (121.69821, 31.186741),\n",
       "  '华夏东路': (121.680972, 31.196575),\n",
       "  '创新中路': (121.673713, 31.213871),\n",
       "  '唐镇': (121.656269, 31.214107),\n",
       "  '广兰路': (121.621072, 31.21105)},\n",
       " '3号线': {'江杨北路': (121.439819, 31.407858),\n",
       "  '铁力路': (121.461139, 31.40812),\n",
       "  '友谊路': (121.475924, 31.404016),\n",
       "  '宝杨路': (121.479574, 31.395315),\n",
       "  '水产路': (121.488247, 31.381302),\n",
       "  '淞滨路': (121.492818, 31.370928),\n",
       "  '张华浜': (121.498671, 31.358016),\n",
       "  '淞发路': (121.50039, 31.345135),\n",
       "  '长江南路': (121.491482, 31.332062),\n",
       "  '殷高西路': (121.484856, 31.320005),\n",
       "  '江湾镇': (121.485064, 31.305566),\n",
       "  '大柏树': (121.483216, 31.289433),\n",
       "  '赤峰路': (121.482429, 31.281247),\n",
       "  '虹口足球场': (121.479154, 31.271392),\n",
       "  '东宝兴路': (121.480202, 31.259886),\n",
       "  '宝山路': (121.476298, 31.251523),\n",
       "  '上海火车站': (121.457939, 31.249632),\n",
       "  '中潭路': (121.441001, 31.254568),\n",
       "  '镇坪路': (121.429779, 31.246369),\n",
       "  '曹杨路': (121.417701, 31.239302),\n",
       "  '金沙江路': (121.41315, 31.232004),\n",
       "  '中山公园': (121.415773, 31.217948),\n",
       "  '延安西路': (121.417062, 31.209616),\n",
       "  '虹桥路': (121.420814, 31.197524),\n",
       "  '宜山路': (121.427194, 31.186717),\n",
       "  '漕溪路': (121.43841, 31.176746),\n",
       "  '龙漕路': (121.444383, 31.169458),\n",
       "  '石龙路': (121.443205, 31.157949),\n",
       "  '上海南站': (121.430041, 31.154579)},\n",
       " '4号线': {'宜山路': (121.427194, 31.186717),\n",
       "  '虹桥路': (121.420814, 31.197524),\n",
       "  '延安西路': (121.417062, 31.209616),\n",
       "  '中山公园': (121.415773, 31.217948),\n",
       "  '金沙江路': (121.41315, 31.232004),\n",
       "  '曹杨路': (121.417701, 31.239302),\n",
       "  '镇坪路': (121.429779, 31.246369),\n",
       "  '中潭路': (121.441001, 31.254568),\n",
       "  '上海火车站': (121.457939, 31.249632),\n",
       "  '宝山路': (121.476298, 31.251523),\n",
       "  '海伦路': (121.488697, 31.259303),\n",
       "  '临平路': (121.500696, 31.260874),\n",
       "  '大连路': (121.513088, 31.257938),\n",
       "  '杨树浦路': (121.51721, 31.251935),\n",
       "  '浦东大道': (121.519385, 31.239974),\n",
       "  '世纪大道': (121.527213, 31.228682),\n",
       "  '浦电路(4号线)': (121.53208, 31.222285),\n",
       "  '蓝村路': (121.527627, 31.211672),\n",
       "  '塘桥': (121.51869, 31.209762),\n",
       "  '南浦大桥': (121.499725, 31.208504),\n",
       "  '西藏南路': (121.489555, 31.201967),\n",
       "  '鲁班路': (121.475148, 31.199221),\n",
       "  '大木桥路': (121.463278, 31.194057),\n",
       "  '东安路': (121.454897, 31.190819),\n",
       "  '上海体育场': (121.443529, 31.185605),\n",
       "  '上海体育馆': (121.437423, 31.182813)},\n",
       " '5号线': {'莘庄': (121.385373, 31.111152),\n",
       "  '春申路': (121.385818, 31.09825),\n",
       "  '银都路': (121.390264, 31.089345),\n",
       "  '颛桥': (121.401868, 31.067013),\n",
       "  '北桥': (121.410054, 31.045112),\n",
       "  '剑川路': (121.416582, 31.026483),\n",
       "  '东川路': (121.419901, 31.018197),\n",
       "  '江川路': (121.423474, 31.005428),\n",
       "  '西渡': (121.432441, 30.98935),\n",
       "  '萧塘': (121.441857, 30.965888),\n",
       "  '奉浦大道': (121.448984, 30.942055),\n",
       "  '环城东路': (121.463204, 30.931168),\n",
       "  '望园路': (121.48358, 30.93194),\n",
       "  '金海湖': (121.492506, 30.928805),\n",
       "  '奉贤新城': (121.49629, 30.913916)},\n",
       " '6号线': {'东方体育中心': (121.480304, 31.153366),\n",
       "  '灵岩南路': (121.495295, 31.148665),\n",
       "  '上南路': (121.506151, 31.14903),\n",
       "  '华夏西路': (121.514539, 31.149878),\n",
       "  '高青路': (121.515787, 31.159907),\n",
       "  '东明路': (121.510868, 31.172646),\n",
       "  '高科西路': (121.509845, 31.185761),\n",
       "  '临沂新村': (121.516695, 31.193202),\n",
       "  '上海儿童医学中心': (121.523482, 31.203277),\n",
       "  '蓝村路': (121.527627, 31.211672),\n",
       "  '浦电路(6号线)': (121.529122, 31.220104),\n",
       "  '世纪大道': (121.527213, 31.228682),\n",
       "  '源深体育中心': (121.534642, 31.233004),\n",
       "  '民生路': (121.543527, 31.235851),\n",
       "  '北洋泾路': (121.552314, 31.239145),\n",
       "  '德平路': (121.564237, 31.2454),\n",
       "  '云山路': (121.572775, 31.250413),\n",
       "  '金桥路': (121.581817, 31.257084),\n",
       "  '博兴路': (121.586689, 31.26352),\n",
       "  '五莲路': (121.587866, 31.272025),\n",
       "  '巨峰路': (121.588365, 31.280684),\n",
       "  '东靖路': (121.588736, 31.290684),\n",
       "  '五洲大道': (121.589212, 31.302569),\n",
       "  '洲海路': (121.589396, 31.312229),\n",
       "  '外高桥保税区南': (121.601963, 31.321578),\n",
       "  '航津路': (121.593974, 31.335371),\n",
       "  '外高桥保税区北': (121.586926, 31.347802),\n",
       "  '港城路': (121.574752, 31.353005)},\n",
       " '7号线': {'花木路': (121.562754, 31.211212),\n",
       "  '龙阳路': (121.557634, 31.203575),\n",
       "  '芳华路': (121.550115, 31.19311),\n",
       "  '锦绣路': (121.540041, 31.187592),\n",
       "  '杨高南路': (121.525087, 31.187566),\n",
       "  '高科西路': (121.509845, 31.185761),\n",
       "  '云台路': (121.500439, 31.182212),\n",
       "  '耀华路': (121.494612, 31.178513),\n",
       "  '长清路': (121.487775, 31.174452),\n",
       "  '后滩': (121.473756, 31.171918),\n",
       "  '龙华中路': (121.457054, 31.183843),\n",
       "  '东安路': (121.454897, 31.190819),\n",
       "  '肇嘉浜路': (121.450212, 31.199436),\n",
       "  '常熟路': (121.449141, 31.213524),\n",
       "  '静安寺': (121.446221, 31.223083),\n",
       "  '昌平路': (121.442617, 31.233749),\n",
       "  '长寿路': (121.438272, 31.24086),\n",
       "  '镇坪路': (121.429779, 31.246369),\n",
       "  '岚皋路': (121.421939, 31.256198),\n",
       "  '新村路': (121.422682, 31.263952),\n",
       "  '大华三路': (121.422949, 31.274047),\n",
       "  '行知路': (121.421493, 31.284942),\n",
       "  '大场镇': (121.416548, 31.29332),\n",
       "  '场中路': (121.413661, 31.303685),\n",
       "  '上大路': (121.40858, 31.315071),\n",
       "  '南陈路': (121.398863, 31.321437),\n",
       "  '上海大学': (121.388884, 31.320586),\n",
       "  '祁华路': (121.373569, 31.322315),\n",
       "  '顾村公园': (121.373009, 31.344594),\n",
       "  '刘行': (121.362376, 31.357586),\n",
       "  '潘广路': (121.355845, 31.364182),\n",
       "  '罗南新村': (121.35747, 31.388831),\n",
       "  '美兰湖': (121.349966, 31.401949)},\n",
       " '8号线': {'沈杜公路': (121.512272, 31.061427),\n",
       "  '联航路': (121.510594, 31.073567),\n",
       "  '江月路': (121.508603, 31.084253),\n",
       "  '浦江镇': (121.506272, 31.09659),\n",
       "  '芦恒路': (121.497842, 31.119015),\n",
       "  '凌兆新村': (121.489663, 31.141301),\n",
       "  '东方体育中心': (121.480304, 31.153366),\n",
       "  '杨思': (121.493443, 31.161054),\n",
       "  '成山路': (121.49622, 31.170735),\n",
       "  '耀华路': (121.494612, 31.178513),\n",
       "  '中华艺术宫': (121.493626, 31.185242),\n",
       "  '西藏南路': (121.489555, 31.201967),\n",
       "  '陆家浜路': (121.486115, 31.211789),\n",
       "  '老西门': (121.483793, 31.219014),\n",
       "  '大世界': (121.479326, 31.227182),\n",
       "  '人民广场': (121.475137, 31.232781),\n",
       "  '曲阜路': (121.471543, 31.242307),\n",
       "  '中兴路': (121.469026, 31.253228),\n",
       "  '西藏北路': (121.468769, 31.263505),\n",
       "  '虹口足球场': (121.479154, 31.271392),\n",
       "  '曲阳路': (121.491138, 31.276524),\n",
       "  '四平路': (121.501488, 31.27488),\n",
       "  '鞍山新村': (121.509685, 31.273242),\n",
       "  '江浦路': (121.518379, 31.274946),\n",
       "  '黄兴路': (121.528401, 31.278814),\n",
       "  '延吉中路': (121.534941, 31.288543),\n",
       "  '黄兴公园': (121.533383, 31.295389),\n",
       "  '翔殷路': (121.531974, 31.305002),\n",
       "  '嫩江路': (121.531954, 31.314804),\n",
       "  '市光路': (121.531933, 31.322724)},\n",
       " '9号线': {'曹路': (121.683046, 31.271272),\n",
       "  '民雷路': (121.668125, 31.268335),\n",
       "  '顾唐路': (121.656465, 31.266074),\n",
       "  '金海路': (121.638629, 31.263141),\n",
       "  '金吉路': (121.628479, 31.264309),\n",
       "  '金桥': (121.611336, 31.26085),\n",
       "  '台儿庄路': (121.597458, 31.252825),\n",
       "  '蓝天路': (121.577978, 31.241017),\n",
       "  '芳甸路': (121.558431, 31.231845),\n",
       "  '杨高中路': (121.548664, 31.22751),\n",
       "  '世纪大道': (121.527213, 31.228682),\n",
       "  '商城路': (121.516275, 31.230258),\n",
       "  '小南门': (121.498398, 31.216866),\n",
       "  '陆家浜路': (121.486115, 31.211789),\n",
       "  '马当路': (121.477256, 31.20952),\n",
       "  '打浦桥': (121.468681, 31.206309),\n",
       "  '嘉善路': (121.460704, 31.20282),\n",
       "  '肇嘉浜路': (121.450212, 31.199436),\n",
       "  '徐家汇': (121.436837, 31.195338),\n",
       "  '宜山路': (121.427194, 31.186717),\n",
       "  '桂林路': (121.418064, 31.174791),\n",
       "  '漕河泾开发区': (121.397769, 31.170644),\n",
       "  '合川路': (121.384772, 31.166542),\n",
       "  '星中路': (121.368903, 31.158109),\n",
       "  '七宝': (121.349221, 31.155287),\n",
       "  '中春路': (121.3377, 31.149415),\n",
       "  '九亭': (121.319423, 31.137252),\n",
       "  '泗泾': (121.260247, 31.118272),\n",
       "  '佘山': (121.229686, 31.104097),\n",
       "  '洞泾': (121.230473, 31.084492),\n",
       "  '松江大学城': (121.232577, 31.053984),\n",
       "  '松江新城': (121.230739, 31.030295),\n",
       "  '松江体育中心': (121.230504, 31.016038),\n",
       "  '醉白池': (121.229361, 31.001125),\n",
       "  '松江南站': (121.230884, 30.984818)},\n",
       " '10号线': {'新江湾城': (121.506951, 31.328496),\n",
       "  '殷高东路': (121.506797, 31.321768),\n",
       "  '三门路': (121.50834, 31.313214),\n",
       "  '江湾体育场': (121.513314, 31.304293),\n",
       "  '五角场': (121.514632, 31.298043),\n",
       "  '国权路': (121.510024, 31.289276),\n",
       "  '同济大学': (121.506357, 31.282086),\n",
       "  '四平路': (121.501488, 31.27488),\n",
       "  '邮电新村': (121.494362, 31.268533),\n",
       "  '海伦路': (121.488697, 31.259303),\n",
       "  '四川北路': (121.484208, 31.252035),\n",
       "  '天潼路': (121.482473, 31.243829),\n",
       "  '南京东路': (121.484628, 31.238101),\n",
       "  '豫园': (121.487473, 31.227801),\n",
       "  '老西门': (121.483793, 31.219014),\n",
       "  '新天地': (121.475182, 31.216367),\n",
       "  '陕西南路': (121.458744, 31.21515),\n",
       "  '上海图书馆': (121.444363, 31.20796),\n",
       "  '交通大学': (121.435253, 31.202213),\n",
       "  '虹桥路': (121.420814, 31.197524),\n",
       "  '宋园路': (121.41208, 31.19654),\n",
       "  '伊犁路': (121.403899, 31.19888),\n",
       "  '水城路': (121.392259, 31.199482),\n",
       "  '龙溪路': (121.380034, 31.1944),\n",
       "  '上海动物园': (121.368137, 31.190246),\n",
       "  '虹桥1号航站楼': (121.347371, 31.191363),\n",
       "  '虹桥2号航站楼': (121.3263, 31.194211),\n",
       "  '虹桥火车站': (121.31895, 31.194022)},\n",
       " '11号线': {'迪士尼': (121.667959, 31.141263),\n",
       "  '康新公路': (121.617199, 31.130439),\n",
       "  '秀沿路': (121.59839, 31.138128),\n",
       "  '罗山路': (121.593152, 31.153259),\n",
       "  '御桥': (121.570914, 31.158131),\n",
       "  '浦三路': (121.539005, 31.150861),\n",
       "  '三林东': (121.522999, 31.146459),\n",
       "  '三林': (121.511594, 31.143172),\n",
       "  '东方体育中心': (121.480304, 31.153366),\n",
       "  '龙耀路': (121.459702, 31.15972),\n",
       "  '云锦路': (121.458519, 31.166488),\n",
       "  '龙华': (121.452958, 31.172672),\n",
       "  '上海游泳馆': (121.441424, 31.179123),\n",
       "  '徐家汇': (121.436837, 31.195338),\n",
       "  '交通大学': (121.435253, 31.202213),\n",
       "  '江苏路': (121.430642, 31.220411),\n",
       "  '隆德路': (121.423576, 31.230509),\n",
       "  '曹杨路': (121.417701, 31.239302),\n",
       "  '枫桥路': (121.411402, 31.24185),\n",
       "  '真如': (121.407219, 31.250767),\n",
       "  '上海西站': (121.400926, 31.262693),\n",
       "  '李子园': (121.389969, 31.26902),\n",
       "  '祁连山路': (121.376035, 31.27165),\n",
       "  '武威路': (121.364678, 31.276646),\n",
       "  '桃浦新村': (121.349623, 31.281603),\n",
       "  '南翔': (121.323141, 31.296952),\n",
       "  '马陆': (121.276906, 31.319675),\n",
       "  '嘉定新城': (121.254294, 31.330062),\n",
       "  '上海赛车场': (121.226098, 31.331898),\n",
       "  '昌吉东路': (121.200384, 31.29362),\n",
       "  '上海汽车城': (121.180742, 31.285403),\n",
       "  '安亭': (121.161985, 31.28849),\n",
       "  '兆丰路': (121.150315, 31.289048),\n",
       "  '光明路': (121.117186, 31.29621),\n",
       "  '花桥': (121.104407, 31.29879)},\n",
       " '12号线': {'七莘路': (121.362464, 31.131638),\n",
       "  '虹莘路': (121.380348, 31.137448),\n",
       "  '顾戴路': (121.391856, 31.14089),\n",
       "  '东兰路': (121.391915, 31.155823),\n",
       "  '虹梅路': (121.39725, 31.16035),\n",
       "  '虹漕路': (121.410553, 31.164033),\n",
       "  '桂林公园': (121.419654, 31.166986),\n",
       "  '漕宝路': (121.433143, 31.168344),\n",
       "  '龙漕路': (121.444383, 31.169458),\n",
       "  '龙华': (121.452958, 31.172672),\n",
       "  '龙华中路': (121.457054, 31.183843),\n",
       "  '大木桥路': (121.463278, 31.194057),\n",
       "  '嘉善路': (121.460704, 31.20282),\n",
       "  '陕西南路': (121.458744, 31.21515),\n",
       "  '南京西路': (121.459971, 31.229853),\n",
       "  '汉中路': (121.458699, 31.241883),\n",
       "  '曲阜路': (121.471543, 31.242307),\n",
       "  '天潼路': (121.482473, 31.243829),\n",
       "  '国际客运中心': (121.498158, 31.25016),\n",
       "  '提篮桥': (121.506801, 31.253518),\n",
       "  '大连路': (121.513088, 31.257938),\n",
       "  '江浦公园': (121.523697, 31.26457),\n",
       "  '宁国路': (121.532352, 31.268574),\n",
       "  '隆昌路': (121.544692, 31.275213),\n",
       "  '爱国路': (121.552655, 31.279788),\n",
       "  '复兴岛': (121.561315, 31.280779),\n",
       "  '东陆路': (121.579124, 31.282533),\n",
       "  '巨峰路': (121.588365, 31.280684),\n",
       "  '杨高北路': (121.60296, 31.280092),\n",
       "  '金京路': (121.615477, 31.279823),\n",
       "  '申江路': (121.626863, 31.280231),\n",
       "  '金海路': (121.638629, 31.263141)},\n",
       " '13号线': {'金运路': (121.319308, 31.240986),\n",
       "  '金沙江西路': (121.335156, 31.241152),\n",
       "  '丰庄': (121.355141, 31.242553),\n",
       "  '祁连山南路': (121.367275, 31.237625),\n",
       "  '真北路': (121.381946, 31.232243),\n",
       "  '大渡河路': (121.394431, 31.231752),\n",
       "  '金沙江路': (121.41315, 31.232004),\n",
       "  '隆德路': (121.423576, 31.230509),\n",
       "  '武宁路': (121.430504, 31.234346),\n",
       "  '长寿路': (121.438272, 31.24086),\n",
       "  '江宁路': (121.44483, 31.244282),\n",
       "  '汉中路': (121.458699, 31.241883),\n",
       "  '自然博物馆': (121.462366, 31.236451),\n",
       "  '南京西路': (121.459971, 31.229853),\n",
       "  '淮海中路': (121.464514, 31.22028),\n",
       "  '新天地': (121.475182, 31.216367),\n",
       "  '马当路': (121.477256, 31.20952),\n",
       "  '世博会博物馆': (121.481592, 31.197572),\n",
       "  '世博大道': (121.484313, 31.182789),\n",
       "  '长清路': (121.487775, 31.174452),\n",
       "  '成山路': (121.49622, 31.170735),\n",
       "  '东明路': (121.510868, 31.172646),\n",
       "  '华鹏路': (121.526567, 31.176276),\n",
       "  '下南路': (121.540189, 31.179295),\n",
       "  '北蔡': (121.552017, 31.180131),\n",
       "  '陈春路': (121.557708, 31.174756),\n",
       "  '莲溪路': (121.566414, 31.16911),\n",
       "  '华夏中路': (121.583109, 31.175759),\n",
       "  '中科路': (121.602465, 31.178862),\n",
       "  '学林路': (121.614363, 31.183476),\n",
       "  '张江路': (121.629182, 31.18913)},\n",
       " '16号线': {'龙阳路': (121.557634, 31.203575),\n",
       "  '华夏中路': (121.583109, 31.175759),\n",
       "  '罗山路': (121.593152, 31.153259),\n",
       "  '周浦东': (121.606895, 31.110038),\n",
       "  '鹤沙航城': (121.611239, 31.077797),\n",
       "  '航头东': (121.617494, 31.054919),\n",
       "  '新场': (121.64898, 31.045561),\n",
       "  '野生动物园': (121.699218, 31.050325),\n",
       "  '惠南': (121.761677, 31.053828),\n",
       "  '惠南东': (121.7938, 31.026448),\n",
       "  '书院': (121.85052, 30.959264),\n",
       "  '临港大道': (121.910851, 30.923519),\n",
       "  '滴水湖': (121.929583, 30.907245)},\n",
       " '17号线': {'虹桥火车站': (121.31895, 31.194022),\n",
       "  '诸光路': (121.29304, 31.191678),\n",
       "  '蟠龙路': (121.278645, 31.186328),\n",
       "  '徐盈路': (121.253976, 31.178101),\n",
       "  '徐泾北城': (121.241668, 31.175518),\n",
       "  '嘉松中路': (121.223916, 31.164099),\n",
       "  '赵巷': (121.192279, 31.161247),\n",
       "  '汇金路': (121.151665, 31.161221),\n",
       "  '青浦新城': (121.12567, 31.158925),\n",
       "  '漕盈路': (121.096889, 31.160467),\n",
       "  '淀山湖大道': (121.082134, 31.13446),\n",
       "  '朱家角': (121.048989, 31.100594),\n",
       "  '东方绿舟': (121.019534, 31.098544)},\n",
       " '磁悬浮': {'浦东国际机场': (121.806497, 31.150024), '龙阳路': (121.557634, 31.203575)},\n",
       " '浦江线': {'沈杜公路': (121.512272, 31.061427),\n",
       "  '三鲁公路': (121.527389, 31.056108),\n",
       "  '闵瑞路': (121.530323, 31.047956),\n",
       "  '浦航路': (121.530591, 31.040993),\n",
       "  '东城一路': (121.532093, 31.03039),\n",
       "  '汇臻路': (121.524558, 31.025245)}}"
      ]
     },
     "execution_count": 23,
     "metadata": {},
     "output_type": "execute_result"
    }
   ],
   "source": [
    "lines"
   ]
  },
  {
   "cell_type": "code",
   "execution_count": 18,
   "metadata": {},
   "outputs": [],
   "source": [
    "import networkx as nx\n",
    "import matplotlib.pyplot as plt"
   ]
  },
  {
   "cell_type": "code",
   "execution_count": 19,
   "metadata": {},
   "outputs": [],
   "source": [
    "metro_graph = nx.Graph()"
   ]
  },
  {
   "cell_type": "code",
   "execution_count": 20,
   "metadata": {},
   "outputs": [],
   "source": [
    "metro_graph.add_nodes_from(list(metro_stations.keys()))"
   ]
  },
  {
   "cell_type": "code",
   "execution_count": 21,
   "metadata": {},
   "outputs": [
    {
     "data": {
      "image/png": "[encoded data removed]",
      "text/plain": [
       "<Figure size 432x288 with 1 Axes>"
      ]
     },
     "metadata": {},
     "output_type": "display_data"
    }
   ],
   "source": [
    "nx.draw(metro_graph, metro_stations, with_labels=True, node_size=30)"
   ]
  },
  {
   "cell_type": "code",
   "execution_count": 22,
   "metadata": {},
   "outputs": [
    {
     "name": "stdout",
     "output_type": "stream",
     "text": [
      "['/usr/local/anaconda3/lib/python3.7/site-packages/matplotlib']\n"
     ]
    }
   ],
   "source": [
    "import matplotlib\n",
    "print(matplotlib.__path__)"
   ]
  },
  {
   "cell_type": "code",
   "execution_count": 41,
   "metadata": {},
   "outputs": [],
   "source": [
    "def geo_distance(origin, destination):\n",
    "    \"\"\"\n",
    "    Calculate the Haversine distance.\n",
    "\n",
    "    Parameters\n",
    "    ----------\n",
    "    origin : tuple of float\n",
    "        (lat, long)\n",
    "    destination : tuple of float\n",
    "        (lat, long)\n",
    "\n",
    "    Returns\n",
    "    -------\n",
    "    distance_in_km : float\n",
    "\n",
    "    Examples\n",
    "    --------\n",
    "    >>> origin = (48.1372, 11.5756)  # Munich\n",
    "    >>> destination = (52.5186, 13.4083)  # Berlin\n",
    "    >>> round(distance(origin, destination), 1)\n",
    "    504.2\n",
    "    \"\"\"\n",
    "    lat1, lon1 = origin\n",
    "    lat2, lon2 = destination\n",
    "    radius = 6371  # km\n",
    "\n",
    "    dlat = math.radians(lat2 - lat1)\n",
    "    dlon = math.radians(lon2 - lon1)\n",
    "    a = (math.sin(dlat / 2) * math.sin(dlat / 2) +\n",
    "         math.cos(math.radians(lat1)) * math.cos(math.radians(lat2)) *\n",
    "         math.sin(dlon / 2) * math.sin(dlon / 2))\n",
    "    c = 2 * math.atan2(math.sqrt(a), math.sqrt(1 - a))\n",
    "    d = radius * c\n",
    "\n",
    "    return d"
   ]
  },
  {
   "cell_type": "code",
   "execution_count": 32,
   "metadata": {},
   "outputs": [],
   "source": [
    "coordination_source = \"\"\"\n",
    "{name:'兰州', geoCoord:[103.73, 36.03]},\n",
    "{name:'嘉峪关', geoCoord:[98.17, 39.47]},\n",
    "{name:'西宁', geoCoord:[101.74, 36.56]},\n",
    "{name:'成都', geoCoord:[104.06, 30.67]},\n",
    "{name:'石家庄', geoCoord:[114.48, 38.03]},\n",
    "{name:'拉萨', geoCoord:[102.73, 25.04]},\n",
    "{name:'贵阳', geoCoord:[106.71, 26.57]},\n",
    "{name:'武汉', geoCoord:[114.31, 30.52]},\n",
    "{name:'郑州', geoCoord:[113.65, 34.76]},\n",
    "{name:'济南', geoCoord:[117, 36.65]},\n",
    "{name:'南京', geoCoord:[118.78, 32.04]},\n",
    "{name:'合肥', geoCoord:[117.27, 31.86]},\n",
    "{name:'杭州', geoCoord:[120.19, 30.26]},\n",
    "{name:'南昌', geoCoord:[115.89, 28.68]},\n",
    "{name:'福州', geoCoord:[119.3, 26.08]},\n",
    "{name:'广州', geoCoord:[113.23, 23.16]},\n",
    "{name:'长沙', geoCoord:[113, 28.21]},\n",
    "//{name:'海口', geoCoord:[110.35, 20.02]},\n",
    "{name:'沈阳', geoCoord:[123.38, 41.8]},\n",
    "{name:'长春', geoCoord:[125.35, 43.88]},\n",
    "{name:'哈尔滨', geoCoord:[126.63, 45.75]},\n",
    "{name:'太原', geoCoord:[112.53, 37.87]},\n",
    "{name:'西安', geoCoord:[108.95, 34.27]},\n",
    "//{name:'台湾', geoCoord:[121.30, 25.03]},\n",
    "{name:'北京', geoCoord:[116.46, 39.92]},\n",
    "{name:'上海', geoCoord:[121.48, 31.22]},\n",
    "{name:'重庆', geoCoord:[106.54, 29.59]},\n",
    "{name:'天津', geoCoord:[117.2, 39.13]},\n",
    "{name:'呼和浩特', geoCoord:[111.65, 40.82]},\n",
    "{name:'南宁', geoCoord:[108.33, 22.84]},\n",
    "//{name:'西藏', geoCoord:[91.11, 29.97]},\n",
    "{name:'银川', geoCoord:[106.27, 38.47]},\n",
    "{name:'乌鲁木齐', geoCoord:[87.68, 43.77]},\n",
    "{name:'香港', geoCoord:[114.17, 22.28]},\n",
    "{name:'澳门', geoCoord:[113.54, 22.19]}\n",
    "\"\"\""
   ]
  },
  {
   "cell_type": "code",
   "execution_count": 36,
   "metadata": {
    "scrolled": true
   },
   "outputs": [
    {
     "name": "stdout",
     "output_type": "stream",
     "text": [
      "{'兰州': (103.73, 36.03), '嘉峪关': (98.17, 39.47), '西宁': (101.74, 36.56), '成都': (104.06, 30.67), '石家庄': (114.48, 38.03), '拉萨': (102.73, 25.04), '贵阳': (106.71, 26.57), '武汉': (114.31, 30.52), '郑州': (113.65, 34.76), '济南': (117.0, 36.65), '南京': (118.78, 32.04), '合肥': (117.27, 31.86), '杭州': (120.19, 30.26), '南昌': (115.89, 28.68), '福州': (119.3, 26.08), '广州': (113.23, 23.16), '长沙': (113.0, 28.21), '海口': (110.35, 20.02), '沈阳': (123.38, 41.8), '长春': (125.35, 43.88), '哈尔滨': (126.63, 45.75), '太原': (112.53, 37.87), '西安': (108.95, 34.27), '台湾': (121.3, 25.03), '北京': (116.46, 39.92), '上海': (121.48, 31.22), '重庆': (106.54, 29.59), '天津': (117.2, 39.13), '呼和浩特': (111.65, 40.82), '南宁': (108.33, 22.84), '西藏': (91.11, 29.97), '银川': (106.27, 38.47), '乌鲁木齐': (87.68, 43.77), '香港': (114.17, 22.28), '澳门': (113.54, 22.19)}\n"
     ]
    },
    {
     "data": {
      "text/plain": [
       "defaultdict(list,\n",
       "            {'北京': ['太原', '沈阳'],\n",
       "             '太原': ['北京', '西安', '郑州'],\n",
       "             '兰州': ['西安'],\n",
       "             '郑州': ['太原'],\n",
       "             '西安': ['兰州', '长沙'],\n",
       "             '长沙': ['福州', '南宁'],\n",
       "             '沈阳': ['北京']})"
      ]
     },
     "execution_count": 36,
     "metadata": {},
     "output_type": "execute_result"
    }
   ],
   "source": [
    "city_location = {}\n",
    "\n",
    "pattern = re.compile(r\"name:'(\\w+)',\\s+geoCoord:\\[(\\d+.\\d+),\\s(\\d+.\\d+)\\]\")\n",
    "for line in coordination_source.split('\\n'):\n",
    "    city_info = pattern.findall(line)\n",
    "    if not city_info: continue\n",
    "    \n",
    "    # following: we find the city info\n",
    "    \n",
    "    city, long, lat = city_info[0]\n",
    "    \n",
    "    long, lat = float(long), float(lat)\n",
    "    \n",
    "    city_location[city] = (long, lat)\n",
    "\n",
    "print(city_location)\n",
    "\n",
    "simple_connection_info_src = {\n",
    "    '北京': ['太原', '沈阳'],\n",
    "    '太原': ['北京', '西安', '郑州'],\n",
    "    '兰州': ['西安'],\n",
    "    '郑州': ['太原'],\n",
    "    '西安': ['兰州', '长沙'],\n",
    "    '长沙': ['福州', '南宁'],\n",
    "    '沈阳': ['北京']\n",
    "}\n",
    "simple_connection_info = defaultdict(list)\n",
    "simple_connection_info.update(simple_connection_info_src)\n",
    "\n",
    "simple_connection_info"
   ]
  },
  {
   "cell_type": "code",
   "execution_count": 37,
   "metadata": {},
   "outputs": [
    {
     "name": "stderr",
     "output_type": "stream",
     "text": [
      "/usr/local/anaconda3/lib/python3.7/site-packages/networkx/drawing/nx_pylab.py:611: MatplotlibDeprecationWarning: isinstance(..., numbers.Number)\n",
      "  if cb.is_numlike(alpha):\n"
     ]
    },
    {
     "data": {
      "image/png": "[encoded data removed]",
      "text/plain": [
       "<Figure size 432x288 with 1 Axes>"
      ]
     },
     "metadata": {},
     "output_type": "display_data"
    }
   ],
   "source": [
    "nx.draw(nx.Graph(simple_connection_info), city_location, with_labels=True, node_size=10)"
   ]
  },
  {
   "cell_type": "code",
   "execution_count": 38,
   "metadata": {},
   "outputs": [],
   "source": [
    "def bfs(graph, start):\n",
    "    \"\"\"\n",
    "    breath first search\n",
    "    \"\"\"\n",
    "    visited = [start]\n",
    "    \n",
    "    seen = set()\n",
    "    \n",
    "    while visited:\n",
    "        froninter = visited.pop() #\n",
    "        \n",
    "        if froninter in seen: continue\n",
    "        \n",
    "        for successor in graph[froninter]:\n",
    "            if successor in seen: continue\n",
    "            print(successor)\n",
    "            \n",
    "            #visited = visited + [successor] # 我们每次扩展都扩展最新发现的点 -> depth first\n",
    "            visited = [successor] + visited # 我们每次扩展都先考虑已经发现的 老的点 -> breath first\n",
    "            \n",
    "            # 所以说，这个扩展顺序其实是决定了我们的深度优先还是广度优先\n",
    "    \n",
    "        seen.add(froninter)\n",
    "    \n",
    "    return seen"
   ]
  },
  {
   "cell_type": "code",
   "execution_count": 39,
   "metadata": {
    "scrolled": true
   },
   "outputs": [
    {
     "name": "stdout",
     "output_type": "stream",
     "text": [
      "太原\n",
      "沈阳\n",
      "西安\n",
      "郑州\n",
      "兰州\n",
      "长沙\n",
      "福州\n",
      "南宁\n"
     ]
    },
    {
     "data": {
      "text/plain": [
       "{'兰州', '北京', '南宁', '太原', '沈阳', '福州', '西安', '郑州', '长沙'}"
      ]
     },
     "execution_count": 39,
     "metadata": {},
     "output_type": "execute_result"
    }
   ],
   "source": [
    "bfs(simple_connection_info, '北京')"
   ]
  },
  {
   "cell_type": "code",
   "execution_count": 43,
   "metadata": {},
   "outputs": [],
   "source": [
    "def get_geo_distance(geo_dict, start, destination):\n",
    "    return geo_distance(geo_dict[start], geo_dict[destination])"
   ]
  },
  {
   "cell_type": "code",
   "execution_count": 44,
   "metadata": {},
   "outputs": [],
   "source": [
    "def transfer_stations_first(pathes): \n",
    "    return sorted(pathes, key=len)\n",
    "def transfer_as_much_possible(pathes):\n",
    "    return sorted(pathes, key=len, reverse=True)\n",
    "def shortest_path_first(pathes):\n",
    "    \n",
    "    if len(pathes) <= 1: return pathes\n",
    "    \n",
    "    def get_path_distnace(path):\n",
    "        distance = 0\n",
    "        for station in path[:-1]:\n",
    "            distance += get_geo_distance(city_location, station, path[-1])\n",
    "            \n",
    "        return distance\n",
    "\n",
    "    return sorted(pathes, key=get_path_distnace)"
   ]
  },
  {
   "cell_type": "code",
   "execution_count": 182,
   "metadata": {},
   "outputs": [],
   "source": [
    "def search(start, destination, connection_grpah, sort_candidate):\n",
    "    pathes = [[start]]\n",
    "    \n",
    "    visitied = set()\n",
    "    \n",
    "    while pathes: # if we find existing pathes\n",
    "        path = pathes.pop(0)\n",
    "        froninter = path[-1]\n",
    "        \n",
    "        if froninter in visitied: continue\n",
    "            \n",
    "        successors = connection_grpah[froninter]\n",
    "        \n",
    "        for city in successors:\n",
    "            if city in path: continue  # eliminate loop\n",
    "                \n",
    "            new_path = path + [city]\n",
    "            \n",
    "            pathes.append(new_path)\n",
    "            \n",
    "            if city == destination: return new_path\n",
    "        \n",
    "        visitied.add(froninter)\n",
    "        \n",
    "        pathes = sort_candidate(pathes) # 我们可以加一个排序函数 对我们的搜索策略进行控制"
   ]
  },
  {
   "cell_type": "code",
   "execution_count": 174,
   "metadata": {},
   "outputs": [
    {
     "name": "stdout",
     "output_type": "stream",
     "text": [
      "successors: ['太原', '沈阳']\n",
      "['北京', '太原']\n",
      "paths: [['北京', '太原']]\n",
      "['北京', '沈阳']\n",
      "paths: [['北京', '太原'], ['北京', '沈阳']]\n"
     ]
    },
    {
     "data": {
      "text/plain": [
       "['北京', '沈阳']"
      ]
     },
     "execution_count": 174,
     "metadata": {},
     "output_type": "execute_result"
    }
   ],
   "source": [
    "search('北京', '沈阳', simple_connection_info, sort_candidate=shortest_path_first)"
   ]
  },
  {
   "cell_type": "code",
   "execution_count": 183,
   "metadata": {
    "scrolled": true
   },
   "outputs": [
    {
     "data": {
      "text/plain": [
       "['合川路',\n",
       " '漕河泾开发区',\n",
       " '桂林路',\n",
       " '宜山路',\n",
       " '徐家汇',\n",
       " '肇嘉浜路',\n",
       " '嘉善路',\n",
       " '打浦桥',\n",
       " '马当路',\n",
       " '陆家浜路',\n",
       " '小南门',\n",
       " '商城路',\n",
       " '世纪大道',\n",
       " '上海科技馆',\n",
       " '世纪公园',\n",
       " '龙阳路',\n",
       " '张江高科']"
      ]
     },
     "execution_count": 183,
     "metadata": {},
     "output_type": "execute_result"
    }
   ],
   "source": [
    "search('合川路', '张江高科', stations_connection_info, transfer_stations_first)"
   ]
  },
  {
   "cell_type": "markdown",
   "metadata": {},
   "source": [
    "## （Optional）Create different policies for transfer system.\n"
   ]
  },
  {
   "cell_type": "markdown",
   "metadata": {},
   "source": [
    "以下部门为可选部分，请酌情完成。 并不要求全部同学完成。"
   ]
  },
  {
   "cell_type": "markdown",
   "metadata": {},
   "source": [
    "As much as you can to use the already implemented search agent. You just need to define the **is_goal()**, **get_successor()**, **strategy()** three functions. \n",
    "\n",
    "> a.\tDefine different policies for transfer system. \n",
    "\n",
    "> b.\tSuch as Shortest Path Priority（路程最短优先）, Minimum Transfer Priority(最少换乘优先), Comprehensive Priority(综合优先)\n",
    "\n",
    "> c.\tImplement Continuous transfer. Based on the Agent you implemented, please add this feature: Besides the @param start and @param destination two stations, add some more stations, we called @param by_way, it means, our path should from the start and end, but also include the  @param by_way stations. \n",
    "\n",
    "e.g \n",
    "```\n",
    "1. Input:  start=A,  destination=B, by_way=[C] \n",
    "    Output: [A, … .., C, …. B]\n",
    "2. Input: start=A, destination=B, by_way=[C, D, E]\n",
    "    Output: [A … C … E … D … B]  \n",
    "    # based on your policy, the E station could be reached firstly. \n",
    "![image.png](attachment:image.png)\n",
    "```"
   ]
  },
  {
   "cell_type": "markdown",
   "metadata": {},
   "source": [
    "##### 5.\tTest your result with commercial applications. \n",
    "\n",
    "将你的结果和高德地图或者百度地图进行比较，如果有不同，请分析原因\n"
   ]
  },
  {
   "cell_type": "markdown",
   "metadata": {},
   "source": [
    "恭喜，完成本次课程，你对常用的人工智能方法以及有一定的了解了。基于规则的，基于概率模型的，基于搜索的，基于机器学习的。 可以说，我们现在通常见到的方法都能够归属到这几类方法中。 这就是**人工智能**，并没有很难是吧？ 继续加油！"
   ]
  },
  {
   "cell_type": "markdown",
   "metadata": {},
   "source": [
    "![](https://timgsa.baidu.com/timg?image&quality=80&size=b9999_10000&sec=1562415163815&di=4b29a2a863a8285212033760f288ed7a&imgtype=0&src=http%3A%2F%2F5b0988e595225.cdn.sohucs.com%2Fimages%2F20180710%2F8704194a1d7f46a383ddc29d40c9bca5.jpeg)"
   ]
  }
 ],
 "metadata": {
  "kernelspec": {
   "display_name": "Python 3",
   "language": "python",
   "name": "python3"
  },
  "language_info": {
   "codemirror_mode": {
    "name": "ipython",
    "version": 3
   },
   "file_extension": ".py",
   "mimetype": "text/x-python",
   "name": "python",
   "nbconvert_exporter": "python",
   "pygments_lexer": "ipython3",
   "version": "3.7.1"
  }
 },
 "nbformat": 4,
 "nbformat_minor": 2
}
