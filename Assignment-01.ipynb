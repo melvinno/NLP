{
 "cells": [
  {
   "cell_type": "markdown",
   "metadata": {},
   "source": [
    "## Lesson-01 Assignment"
   ]
  },
  {
   "cell_type": "markdown",
   "metadata": {},
   "source": [
    "`各位同学大家好，欢迎各位开始学习我们的人工智能课程。这门课程假设大家不具备机器学习和人工智能的知识，但是希望大家具备初级的Python编程能力。根据往期同学的实际反馈，我们课程的完结之后 能力能够超过80%的计算机人工智能/深度学习方向的硕士生的能力。`"
   ]
  },
  {
   "cell_type": "markdown",
   "metadata": {},
   "source": [
    "## 本次作业的内容"
   ]
  },
  {
   "cell_type": "markdown",
   "metadata": {},
   "source": [
    "#### 1. 复现课堂代码\n",
    "\n",
    "在本部分，你需要参照我们给大家的GitHub地址里边的课堂代码，结合课堂内容，复现内容。"
   ]
  },
  {
   "cell_type": "code",
   "execution_count": 1,
   "metadata": {},
   "outputs": [],
   "source": [
    "simple_grammar = \"\"\"\n",
    "sentence => noun_phrase verb_phrase\n",
    "noun_phrase => Article Adj* noun\n",
    "Adj* => null | Adj Adj*\n",
    "verb_phrase => verb noun_phrase\n",
    "Article =>  一个 | 这个\n",
    "noun =>   女人 |  篮球 | 桌子 | 小猫\n",
    "verb => 看着   |  坐在 |  听着 | 看见\n",
    "Adj =>  蓝色的 | 好看的 | 小小的\n",
    "\"\"\""
   ]
  },
  {
   "cell_type": "code",
   "execution_count": 71,
   "metadata": {},
   "outputs": [],
   "source": [
    "def grammar(grammar_text, separator):\n",
    "    grammar = {}\n",
    "    for line in grammar_text.split('\\n'):\n",
    "        if not line.strip(): continue\n",
    "        k, v = line.split(separator)\n",
    "        grammar[k.strip()] = [item.split() for item in v.split('|')]\n",
    "    return grammar"
   ]
  },
  {
   "cell_type": "code",
   "execution_count": 3,
   "metadata": {},
   "outputs": [],
   "source": [
    "example_grammar = grammar(simple_grammar, '=>')"
   ]
  },
  {
   "cell_type": "code",
   "execution_count": 5,
   "metadata": {},
   "outputs": [
    {
     "data": {
      "text/plain": [
       "{'sentence': [['noun_phrase', 'verb_phrase']],\n",
       " 'noun_phrase': [['Article', 'Adj*', 'noun']],\n",
       " 'Adj*': [['null'], ['Adj', 'Adj*']],\n",
       " 'verb_phrase': [['verb', 'noun_phrase']],\n",
       " 'Article': [['一个'], ['这个']],\n",
       " 'noun': [['女人'], ['篮球'], ['桌子'], ['小猫']],\n",
       " 'verb': [['看着'], ['坐在'], ['听着'], ['看见']],\n",
       " 'Adj': [['蓝色的'], ['好看的'], ['小小的']]}"
      ]
     },
     "execution_count": 5,
     "metadata": {},
     "output_type": "execute_result"
    }
   ],
   "source": [
    "example_grammar"
   ]
  },
  {
   "cell_type": "code",
   "execution_count": 73,
   "metadata": {},
   "outputs": [],
   "source": [
    "human = \"\"\"\n",
    "human = 自己 寻找 活动\n",
    "自己 = 我 | 俺 | 我们 \n",
    "寻找 = 看看 | 找找 | 想找点\n",
    "活动 = 乐子 | 玩的\n",
    "\"\"\""
   ]
  },
  {
   "cell_type": "code",
   "execution_count": 74,
   "metadata": {},
   "outputs": [],
   "source": [
    "host = \"\"\"\n",
    "host = 寒暄 报数 询问 业务相关 结尾 \n",
    "报数 = 我是 数字 号 ,\n",
    "数字 = 单个数字 | 数字 单个数字 \n",
    "单个数字 = 1 | 2 | 3 | 4 | 5 | 6 | 7 | 8 | 9 \n",
    "寒暄 = 称谓 打招呼 | 打招呼\n",
    "称谓 = 人称 ,\n",
    "人称 = 先生 | 女士 | 小朋友\n",
    "打招呼 = 你好 | 您好 \n",
    "询问 = 请问你要 | 您需要\n",
    "业务相关 = 玩玩 具体业务\n",
    "玩玩 = 耍一耍 | 玩一玩\n",
    "具体业务 = 喝酒 | 打牌 | 打猎 | 赌博\n",
    "结尾 = 吗？\"\"\""
   ]
  },
  {
   "cell_type": "code",
   "execution_count": 8,
   "metadata": {},
   "outputs": [
    {
     "data": {
      "text/plain": [
       "{'human': [['自己', '寻找', '活动']],\n",
       " '自己': [['我'], ['俺'], ['我们']],\n",
       " '寻找': [['看看'], ['找找'], ['想找点']],\n",
       " '活动': [['乐子'], ['玩的']]}"
      ]
     },
     "execution_count": 8,
     "metadata": {},
     "output_type": "execute_result"
    }
   ],
   "source": [
    "grammar(human, '=')"
   ]
  },
  {
   "cell_type": "code",
   "execution_count": 10,
   "metadata": {},
   "outputs": [
    {
     "data": {
      "text/plain": [
       "{'host': [['寒暄', '报数', '询问', '业务相关', '结尾']],\n",
       " '报数': [['我是', '数字', '号', ',']],\n",
       " '数字': [['单个数字'], ['数字', '单个数字']],\n",
       " '单个数字': [['1'], ['2'], ['3'], ['4'], ['5'], ['6'], ['7'], ['8'], ['9']],\n",
       " '寒暄': [['称谓', '打招呼'], ['打招呼']],\n",
       " '称谓': [['人称', ',']],\n",
       " '人称': [['先生'], ['女士'], ['小朋友']],\n",
       " '打招呼': [['你好'], ['您好']],\n",
       " '询问': [['请问你要'], ['您需要']],\n",
       " '业务相关': [['玩玩', '具体业务']],\n",
       " '玩玩': [['耍一耍'], ['玩一玩']],\n",
       " '具体业务': [['喝酒'], ['打牌'], ['打猎'], ['赌博']],\n",
       " '结尾': [['吗？']]}"
      ]
     },
     "execution_count": 10,
     "metadata": {},
     "output_type": "execute_result"
    }
   ],
   "source": [
    "grammar(host, '=')"
   ]
  },
  {
   "cell_type": "code",
   "execution_count": 69,
   "metadata": {},
   "outputs": [],
   "source": [
    "import random\n",
    "def generate(gram, key):\n",
    "    #print('generate: {}'.format(key))\n",
    "    if key not in gram: return key\n",
    "    \n",
    "    words = gram[key]\n",
    "    #print(\"words: {}\".format(words))\n",
    "    \n",
    "    random_word = random.choice(words)\n",
    "    #print(\"random word: {}\".format(random_word))\n",
    "    \n",
    "    expanded = [generate(gram, word) for word in random_word]\n",
    "    \n",
    "    joined = ''.join(expanded)\n",
    "    #print(\"joined: {}\".format(joined))\n",
    "    \n",
    "    return joined"
   ]
  },
  {
   "cell_type": "code",
   "execution_count": 75,
   "metadata": {},
   "outputs": [
    {
     "data": {
      "text/plain": [
       "'我们想找点乐子'"
      ]
     },
     "execution_count": 75,
     "metadata": {},
     "output_type": "execute_result"
    }
   ],
   "source": [
    "generate(grammar(human, '='), 'human')"
   ]
  },
  {
   "cell_type": "code",
   "execution_count": 55,
   "metadata": {},
   "outputs": [
    {
     "data": {
      "text/plain": [
       "'先生,你好我是6号,您需要耍一耍打牌吗？'"
      ]
     },
     "execution_count": 55,
     "metadata": {},
     "output_type": "execute_result"
    }
   ],
   "source": [
    "generate(grammar(host, '='), 'host')"
   ]
  },
  {
   "cell_type": "code",
   "execution_count": 1,
   "metadata": {},
   "outputs": [],
   "source": [
    "filename = '/Users/melvin/Documents/course/nlp/NLP/article_9k.txt'"
   ]
  },
  {
   "cell_type": "code",
   "execution_count": 2,
   "metadata": {},
   "outputs": [],
   "source": [
    "import pandas as pd"
   ]
  },
  {
   "cell_type": "code",
   "execution_count": 4,
   "metadata": {},
   "outputs": [],
   "source": [
    "content = pd.read_csv(filename, encoding='utf-8')"
   ]
  },
  {
   "cell_type": "code",
   "execution_count": 8,
   "metadata": {},
   "outputs": [
    {
     "data": {
      "text/html": [
       "<div>\n",
       "<style scoped>\n",
       "    .dataframe tbody tr th:only-of-type {\n",
       "        vertical-align: middle;\n",
       "    }\n",
       "\n",
       "    .dataframe tbody tr th {\n",
       "        vertical-align: top;\n",
       "    }\n",
       "\n",
       "    .dataframe thead th {\n",
       "        text-align: right;\n",
       "    }\n",
       "</style>\n",
       "<table border=\"1\" class=\"dataframe\">\n",
       "  <thead>\n",
       "    <tr style=\"text-align: right;\">\n",
       "      <th></th>\n",
       "      <th>此外自本周6月12日起除小米手机6等15款机型外其余机型已暂停更新发布含开发版体验版内测稳定版暂不受影响以确保工程师可以集中全部精力进行系统优化工作有人猜测这也是将精力主要用到MIUI9的研发之中MIUI8去年5月发布距今已有一年有余也是时候更新换代了当然关于MIUI9的确切信息我们还是等待官方消息</th>\n",
       "    </tr>\n",
       "  </thead>\n",
       "  <tbody>\n",
       "    <tr>\n",
       "      <th>0</th>\n",
       "      <td>骁龙835作为唯一通过Windows10桌面平台认证的ARM处理器高通强调不会因为只考虑性能...</td>\n",
       "    </tr>\n",
       "    <tr>\n",
       "      <th>1</th>\n",
       "      <td>此前的一加3T搭载的是3400mAh电池DashCharge快充规格为5V4A至于电池缩水可...</td>\n",
       "    </tr>\n",
       "    <tr>\n",
       "      <th>2</th>\n",
       "      <td>这是6月18日在葡萄牙中部大佩德罗冈地区拍摄的被森林大火烧毁的汽车新华社记者张立云摄</td>\n",
       "    </tr>\n",
       "    <tr>\n",
       "      <th>3</th>\n",
       "      <td>原标题44岁女子跑深圳约会网友被拒暴雨中裸身奔走深圳交警微博称昨日清晨交警发现有一女子赤裸上...</td>\n",
       "    </tr>\n",
       "    <tr>\n",
       "      <th>4</th>\n",
       "      <td>受到A股被纳入MSCI指数的利好消息刺激A股市场从周三开始再度上演龙马行情周四上午金融股和白...</td>\n",
       "    </tr>\n",
       "  </tbody>\n",
       "</table>\n",
       "</div>"
      ],
      "text/plain": [
       "  此外自本周6月12日起除小米手机6等15款机型外其余机型已暂停更新发布含开发版体验版内测稳定版暂不受影响以确保工程师可以集中全部精力进行系统优化工作有人猜测这也是将精力主要用到MIUI9的研发之中MIUI8去年5月发布距今已有一年有余也是时候更新换代了当然关于MIUI9的确切信息我们还是等待官方消息\n",
       "0  骁龙835作为唯一通过Windows10桌面平台认证的ARM处理器高通强调不会因为只考虑性能...                                                                                                    \n",
       "1  此前的一加3T搭载的是3400mAh电池DashCharge快充规格为5V4A至于电池缩水可...                                                                                                    \n",
       "2         这是6月18日在葡萄牙中部大佩德罗冈地区拍摄的被森林大火烧毁的汽车新华社记者张立云摄                                                                                                    \n",
       "3  原标题44岁女子跑深圳约会网友被拒暴雨中裸身奔走深圳交警微博称昨日清晨交警发现有一女子赤裸上...                                                                                                    \n",
       "4  受到A股被纳入MSCI指数的利好消息刺激A股市场从周三开始再度上演龙马行情周四上午金融股和白...                                                                                                    "
      ]
     },
     "execution_count": 8,
     "metadata": {},
     "output_type": "execute_result"
    }
   ],
   "source": [
    "content.head()"
   ]
  },
  {
   "cell_type": "code",
   "execution_count": 11,
   "metadata": {},
   "outputs": [
    {
     "data": {
      "text/plain": [
       "89608"
      ]
     },
     "execution_count": 11,
     "metadata": {},
     "output_type": "execute_result"
    }
   ],
   "source": [
    "len(content)"
   ]
  },
  {
   "cell_type": "code",
   "execution_count": 25,
   "metadata": {},
   "outputs": [],
   "source": [
    "import jieba\n",
    "import re"
   ]
  },
  {
   "cell_type": "code",
   "execution_count": 26,
   "metadata": {},
   "outputs": [],
   "source": [
    "def cut(string): return list(jieba.cut(string))\n",
    "def token(string): return re.findall('\\w+', string)"
   ]
  },
  {
   "cell_type": "code",
   "execution_count": 28,
   "metadata": {},
   "outputs": [],
   "source": [
    "TOKEN = []"
   ]
  },
  {
   "cell_type": "code",
   "execution_count": 32,
   "metadata": {},
   "outputs": [
    {
     "name": "stdout",
     "output_type": "stream",
     "text": [
      "0\n",
      "1000\n",
      "2000\n",
      "3000\n",
      "4000\n",
      "5000\n",
      "6000\n",
      "7000\n",
      "8000\n",
      "9000\n",
      "10000\n",
      "11000\n",
      "12000\n",
      "13000\n",
      "14000\n",
      "15000\n",
      "16000\n",
      "17000\n",
      "18000\n",
      "19000\n",
      "20000\n",
      "21000\n",
      "22000\n",
      "23000\n",
      "24000\n",
      "25000\n",
      "26000\n",
      "27000\n",
      "28000\n",
      "29000\n",
      "30000\n",
      "31000\n",
      "32000\n",
      "33000\n",
      "34000\n",
      "35000\n",
      "36000\n",
      "37000\n",
      "38000\n",
      "39000\n",
      "40000\n",
      "41000\n",
      "42000\n",
      "43000\n",
      "44000\n",
      "45000\n",
      "46000\n",
      "47000\n",
      "48000\n",
      "49000\n",
      "50000\n",
      "51000\n",
      "52000\n",
      "53000\n",
      "54000\n",
      "55000\n",
      "56000\n",
      "57000\n",
      "58000\n",
      "59000\n",
      "60000\n",
      "61000\n",
      "62000\n",
      "63000\n",
      "64000\n",
      "65000\n",
      "66000\n",
      "67000\n",
      "68000\n",
      "69000\n",
      "70000\n",
      "71000\n",
      "72000\n",
      "73000\n",
      "74000\n",
      "75000\n",
      "76000\n",
      "77000\n",
      "78000\n",
      "79000\n",
      "80000\n",
      "81000\n",
      "82000\n",
      "83000\n",
      "84000\n",
      "85000\n",
      "86000\n",
      "87000\n",
      "88000\n",
      "89000\n"
     ]
    }
   ],
   "source": [
    "for i, line in enumerate((open(filename))):\n",
    "    if i % 1000 == 0: print(i)\n",
    "    clean = token(line)\n",
    "    for v in clean:\n",
    "        TOKEN += cut(v)"
   ]
  },
  {
   "cell_type": "code",
   "execution_count": 21,
   "metadata": {},
   "outputs": [],
   "source": [
    "from collections import Counter"
   ]
  },
  {
   "cell_type": "code",
   "execution_count": 33,
   "metadata": {},
   "outputs": [],
   "source": [
    "words_count = Counter(TOKEN)"
   ]
  },
  {
   "cell_type": "code",
   "execution_count": 34,
   "metadata": {},
   "outputs": [
    {
     "data": {
      "text/plain": [
       "[('的', 703716),\n",
       " ('n', 382020),\n",
       " ('在', 263597),\n",
       " ('月', 189330),\n",
       " ('日', 166300),\n",
       " ('新华社', 142462),\n",
       " ('和', 134061),\n",
       " ('年', 123106),\n",
       " ('了', 121938),\n",
       " ('是', 100909),\n",
       " ('１', 88187),\n",
       " ('０', 84945),\n",
       " ('外代', 83268),\n",
       " ('中', 73926),\n",
       " ('中国', 71179),\n",
       " ('２', 70521),\n",
       " ('2017', 69894),\n",
       " ('记者', 62147),\n",
       " ('二线', 61998),\n",
       " ('将', 61420),\n",
       " ('与', 58309),\n",
       " ('等', 58162),\n",
       " ('为', 57019),\n",
       " ('5', 54578),\n",
       " ('照片', 52271),\n",
       " ('4', 51626),\n",
       " ('对', 50317),\n",
       " ('上', 47452),\n",
       " ('也', 47401),\n",
       " ('有', 45767),\n",
       " ('５', 40857),\n",
       " ('说', 39017),\n",
       " ('发展', 37632),\n",
       " ('他', 37194),\n",
       " ('３', 36906),\n",
       " ('以', 36867),\n",
       " ('国际', 35842),\n",
       " ('nn', 35330),\n",
       " ('４', 34659),\n",
       " ('比赛', 32232),\n",
       " ('６', 30575),\n",
       " ('到', 30109),\n",
       " ('人', 29572),\n",
       " ('从', 29489),\n",
       " ('6', 29002),\n",
       " ('都', 28027),\n",
       " ('不', 27963),\n",
       " ('后', 27393),\n",
       " ('当日', 27186),\n",
       " ('就', 26684),\n",
       " ('并', 26568),\n",
       " ('国家', 26439),\n",
       " ('７', 26386),\n",
       " ('企业', 26147),\n",
       " ('进行', 25987),\n",
       " ('3', 25491),\n",
       " ('美国', 25485),\n",
       " ('举行', 25389),\n",
       " ('被', 25277),\n",
       " ('北京', 25245),\n",
       " ('体育', 24873),\n",
       " ('2', 24376),\n",
       " ('1', 24182),\n",
       " ('这', 24118),\n",
       " ('新', 23828),\n",
       " ('但', 23385),\n",
       " ('比', 23229),\n",
       " ('个', 23081),\n",
       " ('足球', 22554),\n",
       " ('表示', 22134),\n",
       " ('经济', 22006),\n",
       " ('我', 21940),\n",
       " ('一个', 21932),\n",
       " ('９', 21920),\n",
       " ('还', 21861),\n",
       " ('合作', 21567),\n",
       " ('要', 21045),\n",
       " ('n5', 20946),\n",
       " ('已', 20882),\n",
       " ('摄', 20837),\n",
       " ('８', 20701),\n",
       " ('工作', 20700),\n",
       " ('n4', 20658),\n",
       " ('选手', 19986),\n",
       " ('我们', 19982),\n",
       " ('市场', 19001),\n",
       " ('一路', 18978),\n",
       " ('一带', 18907),\n",
       " ('建设', 18634),\n",
       " ('让', 18609),\n",
       " ('日电', 18384),\n",
       " ('通过', 18159),\n",
       " ('多', 17760),\n",
       " ('时', 17750),\n",
       " ('完', 17424),\n",
       " ('于', 17421),\n",
       " ('问题', 17338),\n",
       " ('更', 17275),\n",
       " ('项目', 17260),\n",
       " ('公司', 17169)]"
      ]
     },
     "execution_count": 34,
     "metadata": {},
     "output_type": "execute_result"
    }
   ],
   "source": [
    "words_count.most_common(100)"
   ]
  },
  {
   "cell_type": "code",
   "execution_count": 35,
   "metadata": {},
   "outputs": [],
   "source": [
    "frequiences = [f for w, f in words_count.most_common(100)]"
   ]
  },
  {
   "cell_type": "code",
   "execution_count": 38,
   "metadata": {},
   "outputs": [],
   "source": [
    "x = [i for i in range(100)]"
   ]
  },
  {
   "cell_type": "code",
   "execution_count": 39,
   "metadata": {},
   "outputs": [],
   "source": [
    "import matplotlib.pyplot as plt"
   ]
  },
  {
   "cell_type": "code",
   "execution_count": 40,
   "metadata": {},
   "outputs": [
    {
     "data": {
      "text/plain": [
       "[<matplotlib.lines.Line2D at 0x124ec4d68>]"
      ]
     },
     "execution_count": 40,
     "metadata": {},
     "output_type": "execute_result"
    },
    {
     "data": {
      "image/png": "[encoded data removed]",
      "text/plain": [
       "<Figure size 432x288 with 1 Axes>"
      ]
     },
     "metadata": {
      "needs_background": "light"
     },
     "output_type": "display_data"
    }
   ],
   "source": [
    "plt.plot(x, frequiences)"
   ]
  },
  {
   "cell_type": "code",
   "execution_count": 42,
   "metadata": {},
   "outputs": [],
   "source": [
    "import numpy as np"
   ]
  },
  {
   "cell_type": "code",
   "execution_count": 43,
   "metadata": {},
   "outputs": [
    {
     "data": {
      "text/plain": [
       "[<matplotlib.lines.Line2D at 0x11e37eb70>]"
      ]
     },
     "execution_count": 43,
     "metadata": {},
     "output_type": "execute_result"
    },
    {
     "data": {
      "image/png": "[encoded data removed]",
      "text/plain": [
       "<Figure size 432x288 with 1 Axes>"
      ]
     },
     "metadata": {
      "needs_background": "light"
     },
     "output_type": "display_data"
    }
   ],
   "source": [
    "plt.plot(x, np.log(frequiences))"
   ]
  },
  {
   "cell_type": "code",
   "execution_count": 46,
   "metadata": {},
   "outputs": [],
   "source": [
    "def prob_1(word):\n",
    "    v = words_count[word]\n",
    "    print(v)\n",
    "    return v / len(TOKEN)"
   ]
  },
  {
   "cell_type": "code",
   "execution_count": 54,
   "metadata": {},
   "outputs": [
    {
     "data": {
      "text/plain": [
       "['此外',\n",
       " '自',\n",
       " '本周',\n",
       " '6',\n",
       " '月',\n",
       " '12',\n",
       " '日起',\n",
       " '除',\n",
       " '小米',\n",
       " '手机',\n",
       " '6',\n",
       " '等',\n",
       " '15',\n",
       " '款',\n",
       " '机型',\n",
       " '外',\n",
       " '其余',\n",
       " '机型',\n",
       " '已',\n",
       " '暂停',\n",
       " '更新',\n",
       " '发布',\n",
       " '含',\n",
       " '开发',\n",
       " '版',\n",
       " '体验版',\n",
       " '内测',\n",
       " '稳定版',\n",
       " '暂不受',\n",
       " '影响',\n",
       " '以',\n",
       " '确保',\n",
       " '工程师',\n",
       " '可以',\n",
       " '集中',\n",
       " '全部',\n",
       " '精力',\n",
       " '进行',\n",
       " '系统优化',\n",
       " '工作',\n",
       " '有人',\n",
       " '猜测',\n",
       " '这',\n",
       " '也',\n",
       " '是',\n",
       " '将',\n",
       " '精力',\n",
       " '主要',\n",
       " '用到',\n",
       " 'MIUI9',\n",
       " '的',\n",
       " '研发',\n",
       " '之中',\n",
       " 'MIUI8',\n",
       " '去年',\n",
       " '5',\n",
       " '月',\n",
       " '发布',\n",
       " '距今已有',\n",
       " '一年',\n",
       " '有余',\n",
       " '也',\n",
       " '是',\n",
       " '时候',\n",
       " '更新换代',\n",
       " '了',\n",
       " '当然',\n",
       " '关于',\n",
       " 'MIUI9',\n",
       " '的',\n",
       " '确切',\n",
       " '信息',\n",
       " '我们',\n",
       " '还是',\n",
       " '等待',\n",
       " '官方消息',\n",
       " '骁龙',\n",
       " '835',\n",
       " '作为',\n",
       " '唯一',\n",
       " '通过',\n",
       " 'Windows10',\n",
       " '桌面',\n",
       " '平台',\n",
       " '认证',\n",
       " '的',\n",
       " 'ARM',\n",
       " '处理器',\n",
       " '高通',\n",
       " '强调',\n",
       " '不会',\n",
       " '因为',\n",
       " '只',\n",
       " '考虑',\n",
       " '性能',\n",
       " '而',\n",
       " '去',\n",
       " '屏蔽掉',\n",
       " '小',\n",
       " '核心']"
      ]
     },
     "execution_count": 54,
     "metadata": {},
     "output_type": "execute_result"
    }
   ],
   "source": [
    "TOKEN[:100]"
   ]
  },
  {
   "cell_type": "code",
   "execution_count": 49,
   "metadata": {},
   "outputs": [
    {
     "name": "stdout",
     "output_type": "stream",
     "text": [
      "19982\n"
     ]
    },
    {
     "data": {
      "text/plain": [
       "0.0011399627455473877"
      ]
     },
     "execution_count": 49,
     "metadata": {},
     "output_type": "execute_result"
    }
   ],
   "source": [
    "prob_1('我们')"
   ]
  },
  {
   "cell_type": "code",
   "execution_count": 55,
   "metadata": {},
   "outputs": [],
   "source": [
    "TOKEN = [str(t) for t in TOKEN]"
   ]
  },
  {
   "cell_type": "code",
   "execution_count": 56,
   "metadata": {},
   "outputs": [],
   "source": [
    "TOKEN_2_GRAM = [''.join(TOKEN[i:i+2]) for i in range(len(TOKEN[:-2]))]"
   ]
  },
  {
   "cell_type": "code",
   "execution_count": 57,
   "metadata": {},
   "outputs": [
    {
     "data": {
      "text/plain": [
       "['此外自', '自本周', '本周6', '6月', '月12', '12日起', '日起除', '除小米', '小米手机', '手机6']"
      ]
     },
     "execution_count": 57,
     "metadata": {},
     "output_type": "execute_result"
    }
   ],
   "source": [
    "TOKEN_2_GRAM[:10]"
   ]
  },
  {
   "cell_type": "code",
   "execution_count": 58,
   "metadata": {},
   "outputs": [],
   "source": [
    "words_count_2 = Counter(TOKEN_2_GRAM)"
   ]
  },
  {
   "cell_type": "code",
   "execution_count": 59,
   "metadata": {},
   "outputs": [],
   "source": [
    "def prob_2(word1, word2):\n",
    "    if word1 + word2 in words_count_2: return words_count_2[word1+word2] / len(TOKEN_2_GRAM)\n",
    "    else:\n",
    "        return 1 / len(TOKEN_2_GRAM)"
   ]
  },
  {
   "cell_type": "code",
   "execution_count": 61,
   "metadata": {},
   "outputs": [
    {
     "data": {
      "text/plain": [
       "[('n新华社', 74664),\n",
       " ('2017年', 61480),\n",
       " ('外代二线', 61301),\n",
       " ('日n', 52293),\n",
       " ('新华社照片', 50401),\n",
       " ('5月', 37977),\n",
       " ('4月', 34571),\n",
       " ('新华社记者', 30864),\n",
       " ('２０', 27166),\n",
       " ('日在', 27154),\n",
       " ('年5', 25433),\n",
       " ('n当日', 25241),\n",
       " ('年4', 23727),\n",
       " ('n外代', 20865),\n",
       " ('照片外代', 20777),\n",
       " ('比赛中', 20637),\n",
       " ('外代2017', 20463),\n",
       " ('n5月', 20426),\n",
       " ('n4月', 19920),\n",
       " ('n体育', 19293),\n",
       " ('一带一路', 18299),\n",
       " ('００', 17675),\n",
       " ('０１', 17388),\n",
       " ('6月', 16936),\n",
       " ('当日在', 16381),\n",
       " ('摄新华社', 13805),\n",
       " ('１０', 12838),\n",
       " ('日电记者', 11598),\n",
       " ('二线足球', 11039),\n",
       " ('在比赛', 9796),\n",
       " ('完新华社', 9700),\n",
       " ('举行的', 9547),\n",
       " ('５月', 8599),\n",
       " ('４月', 8314),\n",
       " ('１６', 8027),\n",
       " ('１７', 7891),\n",
       " ('n在', 7616),\n",
       " ('2016年', 7571),\n",
       " ('月1', 7307),\n",
       " ('也是', 7122),\n",
       " ('月１', 7060),\n",
       " ('１２', 7009),\n",
       " ('月２', 6925),\n",
       " ('新华社欧新', 6875),\n",
       " ('20162017赛季', 6774),\n",
       " ('３０', 6754),\n",
       " ('１１', 6699),\n",
       " ('更多', 6642),\n",
       " ('年6', 6638),\n",
       " ('１５', 6631),\n",
       " ('１９', 6406),\n",
       " ('比0', 6274),\n",
       " ('1日', 6268),\n",
       " ('新华社法新', 6172),\n",
       " ('新华社北京', 6138),\n",
       " ('的是', 6079),\n",
       " ('二线网球', 5930),\n",
       " ('nn新华社', 5872),\n",
       " ('n国际', 5718),\n",
       " ('新华社路透', 5710),\n",
       " ('在20162017', 5673),\n",
       " ('的2017', 5602),\n",
       " ('月2', 5566),\n",
       " ('月5', 5446),\n",
       " ('中的', 5433),\n",
       " ('自己的', 5419),\n",
       " ('5日', 5307),\n",
       " ('上的', 5252),\n",
       " ('2日', 5199),\n",
       " ('月23', 5158),\n",
       " ('2比', 5070),\n",
       " ('23日', 4963),\n",
       " ('n这是', 4951),\n",
       " ('月4', 4895),\n",
       " ('月25', 4875),\n",
       " ('５０', 4843),\n",
       " ('月20', 4842),\n",
       " ('月19', 4831),\n",
       " ('月18', 4818),\n",
       " ('19日', 4798),\n",
       " ('欧新n', 4780),\n",
       " ('18日', 4761),\n",
       " ('月13', 4761),\n",
       " ('13日', 4741),\n",
       " ('4日', 4741),\n",
       " ('25日', 4721),\n",
       " ('月21', 4720),\n",
       " ('月3', 4711),\n",
       " ('月6', 4691),\n",
       " ('15日', 4655),\n",
       " ('１３', 4649),\n",
       " ('月14', 4641),\n",
       " ('21日', 4631),\n",
       " ('月17', 4620),\n",
       " ('的重要', 4618),\n",
       " ('月15', 4542),\n",
       " ('0战胜', 4542),\n",
       " ('比1', 4533),\n",
       " ('１４', 4532),\n",
       " ('20日', 4530)]"
      ]
     },
     "execution_count": 61,
     "metadata": {},
     "output_type": "execute_result"
    }
   ],
   "source": [
    "words_count_2.most_common(100)"
   ]
  },
  {
   "cell_type": "code",
   "execution_count": 62,
   "metadata": {},
   "outputs": [
    {
     "data": {
      "text/plain": [
       "3.069262471631429e-05"
      ]
     },
     "execution_count": 62,
     "metadata": {},
     "output_type": "execute_result"
    }
   ],
   "source": [
    "prob_2('我们', '在')"
   ]
  },
  {
   "cell_type": "code",
   "execution_count": 63,
   "metadata": {},
   "outputs": [
    {
     "data": {
      "text/plain": [
       "2.852474416014339e-07"
      ]
     },
     "execution_count": 63,
     "metadata": {},
     "output_type": "execute_result"
    }
   ],
   "source": [
    "prob_2('在', '吃饭')"
   ]
  },
  {
   "cell_type": "code",
   "execution_count": 65,
   "metadata": {},
   "outputs": [],
   "source": [
    "def get_probablity(sentence):\n",
    "    words = cut(sentence)\n",
    "    \n",
    "    sentence_pro = 1\n",
    "    for i, word in enumerate(words[:-1]):\n",
    "        next_word = words[i + 1]\n",
    "        \n",
    "        probability = prob_2(word, next_word)\n",
    "        sentence_pro *= probability\n",
    "    \n",
    "    return sentence_pro"
   ]
  },
  {
   "cell_type": "code",
   "execution_count": 66,
   "metadata": {},
   "outputs": [
    {
     "data": {
      "text/plain": [
       "1.551397313841617e-42"
      ]
     },
     "execution_count": 66,
     "metadata": {},
     "output_type": "execute_result"
    }
   ],
   "source": [
    "get_probablity('小明今天抽奖抽到一台苹果手机')"
   ]
  },
  {
   "cell_type": "code",
   "execution_count": 67,
   "metadata": {},
   "outputs": [
    {
     "data": {
      "text/plain": [
       "1.1583766610017408e-41"
      ]
     },
     "execution_count": 67,
     "metadata": {},
     "output_type": "execute_result"
    }
   ],
   "source": [
    "get_probablity('小明今天抽奖抽到一架波音飞机')"
   ]
  },
  {
   "cell_type": "code",
   "execution_count": 76,
   "metadata": {},
   "outputs": [
    {
     "name": "stdout",
     "output_type": "stream",
     "text": [
      "sentence: 小朋友,您好我是6号,您需要玩一玩喝酒吗？ with Prb: 1.9049649647841993e-88\n",
      "sentence: 女士,你好我是628号,您需要玩一玩喝酒吗？ with Prb: 4.6318776774151616e-91\n",
      "sentence: 女士,你好我是1号,请问你要玩一玩打猎吗？ with Prb: 1.8389346975009884e-98\n",
      "sentence: 小朋友,你好我是8258号,请问你要玩一玩喝酒吗？ with Prb: 3.83510885818767e-102\n",
      "sentence: 您好我是74154号,您需要玩一玩打牌吗？ with Prb: 2.5875627173983344e-77\n",
      "sentence: 你好我是3号,请问你要耍一耍喝酒吗？ with Prb: 7.388252500712796e-85\n",
      "sentence: 先生,你好我是935942号,您需要玩一玩打牌吗？ with Prb: 4.6318776774151616e-91\n",
      "sentence: 您好我是775923号,您需要玩一玩赌博吗？ with Prb: 2.5875627173983344e-77\n",
      "sentence: 你好我是39号,您需要耍一耍打猎吗？ with Prb: 8.119052096332415e-84\n",
      "sentence: 您好我是34289号,您需要玩一玩打牌吗？ with Prb: 2.5875627173983344e-77\n"
     ]
    }
   ],
   "source": [
    "for sen in [generate(grammar(host, '='), 'host') for i in range(10)]:\n",
    "    print('sentence: {} with Prb: {}'.format(sen, get_probablity(sen)))"
   ]
  },
  {
   "cell_type": "code",
   "execution_count": 79,
   "metadata": {},
   "outputs": [
    {
     "name": "stdout",
     "output_type": "stream",
     "text": [
      "sentence: 你好我是5号,请问你要玩一玩打牌吗？ with Prb: 7.506087468826235e-84\n",
      "sentence: 你好我是9号,您需要玩一玩喝酒吗？ with Prb: 2.205897216582079e-74\n",
      "sentence: 先生,您好我是53号,请问你要玩一玩赌博吗？ with Prb: 2.0918775590114565e-102\n",
      "sentence: 小朋友,您好我是4号,您需要耍一耍喝酒吗？ with Prb: 5.015874300415926e-96\n",
      "sentence: 你好我是6号,请问你要耍一耍赌博吗？ with Prb: 6.663567446815128e-85\n",
      "sentence: 小朋友,你好我是9号,请问你要玩一玩打牌吗？ with Prb: 5.944418730190889e-100\n",
      "sentence: 先生,您好我是15号,您需要玩一玩打牌吗？ with Prb: 1.9201238371830126e-89\n",
      "sentence: 您好我是1号,您需要玩一玩打牌吗？ with Prb: 1.240736322992501e-73\n",
      "sentence: 先生,您好我是2号,您需要玩一玩喝酒吗？ with Prb: 3.077251096959091e-88\n",
      "sentence: 你好我是5号,您需要玩一玩打猎吗？ with Prb: 9.065525980405062e-73\n",
      "你好我是5号,您需要玩一玩打猎吗？ is most possible\n"
     ]
    }
   ],
   "source": [
    "best = ''\n",
    "probablity = 0\n",
    "for sen in [generate(grammar(host, '='), 'host') for i in range(10)]:\n",
    "    current = get_probablity(sen)\n",
    "    if current > probablity:\n",
    "        best = sen\n",
    "        probablity = current \n",
    "    print('sentence: {} with Prb: {}'.format(sen, get_probablity(sen)))\n",
    "\n",
    "print('{} is most possible'.format(best))"
   ]
  },
  {
   "cell_type": "code",
   "execution_count": 77,
   "metadata": {},
   "outputs": [
    {
     "name": "stdout",
     "output_type": "stream",
     "text": [
      "今天晚上请你吃大餐，我们一起吃日料 is more possible\n",
      "---- 今天晚上请你吃大餐，我们一起吃日料 with probility 1.9877960696419972e-66\n",
      "---- 明天晚上请你吃大餐，我们一起吃苹果 with probility 1.5902368557135977e-66\n",
      "真是一只好看的小猫 is more possible\n",
      "---- 真事一只好看的小猫 with probility 4.6410899733664495e-34\n",
      "---- 真是一只好看的小猫 with probility 8.135199999184005e-27\n",
      "今晚我去吃火锅 is more possible\n",
      "---- 今晚我去吃火锅 with probility 3.4535695372779675e-20\n",
      "---- 今晚火锅去吃我 with probility 5.508208332780837e-28\n",
      "养乐多绿来一杯 is more possible\n",
      "---- 洋葱奶昔来一杯 with probility 1.8567578157408427e-22\n",
      "---- 养乐多绿来一杯 with probility 3.254644117606538e-15\n"
     ]
    }
   ],
   "source": [
    "need_compared = [\n",
    "    \"今天晚上请你吃大餐，我们一起吃日料 明天晚上请你吃大餐，我们一起吃苹果\",\n",
    "    \"真事一只好看的小猫 真是一只好看的小猫\",\n",
    "    \"今晚我去吃火锅 今晚火锅去吃我\",\n",
    "    \"洋葱奶昔来一杯 养乐多绿来一杯\"\n",
    "]\n",
    "for s in need_compared:\n",
    "    s1, s2 = s.split()\n",
    "    p1, p2 = get_probablity(s1), get_probablity(s2)\n",
    "    \n",
    "    better = s1 if p1 > p2 else s2\n",
    "    \n",
    "    print('{} is more possible'.format(better))\n",
    "    print('-'*4 + ' {} with probility {}'.format(s1, p1))\n",
    "    print('-'*4 + ' {} with probility {}'.format(s2, p2))"
   ]
  },
  {
   "cell_type": "markdown",
   "metadata": {},
   "source": [
    "#### 2. 请回答以下问题\n",
    "\n",
    "回答以下问题，并将问题发送至 mqgao@kaikeba.com中：\n",
    "```\n",
    "    2.1. what do you want to acquire in this course？\n",
    "    2.2. what problems do you want to solve？\n",
    "    2.3. what’s the advantages you have to finish you goal?\n",
    "    2.4. what’s the disadvantages you need to overcome to finish you goal?\n",
    "    2.5. How will you plan to study in this course period?\n",
    "```"
   ]
  },
  {
   "cell_type": "markdown",
   "metadata": {},
   "source": [
    "#### 3. 如何提交\n",
    "代码 + 此 jupyter 相关，提交至自己的 github 中(**所以请务必把GitHub按照班主任要求录入在Trello中**)；\n",
    "第2问，请提交至mqgao@kaikeba.com邮箱。\n",
    "#### 4. 作业截止时间\n",
    "此次作业截止时间为 2019.7.6日"
   ]
  },
  {
   "cell_type": "markdown",
   "metadata": {},
   "source": [
    "#### 5. 完成以下问答和编程练习"
   ]
  },
  {
   "cell_type": "markdown",
   "metadata": {},
   "source": [
    "## 基础理论部分"
   ]
  },
  {
   "cell_type": "markdown",
   "metadata": {},
   "source": [
    "#### 0. Can you come up out 3 sceneraies which use AI methods? "
   ]
  },
  {
   "cell_type": "markdown",
   "metadata": {},
   "source": [
    "Ans: 机器人客服，无人驾驶汽车，自动翻译"
   ]
  },
  {
   "cell_type": "markdown",
   "metadata": {},
   "source": [
    "#### 1. How do we use Github; Why do we use Jupyter and Pycharm;"
   ]
  },
  {
   "cell_type": "markdown",
   "metadata": {},
   "source": [
    "Ans: \n",
    "* Github: 创建repository来管理文档及代码，提供版本管理，历史回滚，分支管理等功能。使用git add添加文件，git commit来提交修改，git push到远端服务器\n",
    "* Jupyter: 提供了良好的文档编辑功能，可以很好的格式化文字，代码，公式\n",
    "* Pycharm: 针对Python的IDE，非常便捷的编写调试python代码"
   ]
  },
  {
   "cell_type": "markdown",
   "metadata": {},
   "source": [
    "#### 2. What's the Probability Model?"
   ]
  },
  {
   "cell_type": "markdown",
   "metadata": {},
   "source": [
    "Ans: 概率模型是用来描述不同随机变量之间关系的数学模型，通常情况下刻画了一个或多个随机变量之间的相互非确定性的概率关系"
   ]
  },
  {
   "cell_type": "markdown",
   "metadata": {},
   "source": [
    "#### 3. Can you came up with some sceneraies at which we could use Probability Model?"
   ]
  },
  {
   "cell_type": "markdown",
   "metadata": {},
   "source": [
    "Ans: 临床分析预测，赌博"
   ]
  },
  {
   "cell_type": "markdown",
   "metadata": {},
   "source": [
    "#### 4. Why do we use probability and what's the difficult points for programming based on parsing and pattern match?"
   ]
  },
  {
   "cell_type": "markdown",
   "metadata": {},
   "source": [
    "Ans: Programming based的方式很难得到一个合理的结果，对于未知的模式需要非常复杂的规则描述，而且很难覆盖到所有场景"
   ]
  },
  {
   "cell_type": "markdown",
   "metadata": {},
   "source": [
    "#### 5. What's the Language Model;"
   ]
  },
  {
   "cell_type": "markdown",
   "metadata": {},
   "source": [
    "Ans: 基于概率来计算一个句子合理性的函数"
   ]
  },
  {
   "cell_type": "markdown",
   "metadata": {},
   "source": [
    "#### 6. Can you came up with some sceneraies at which we could use Language Model?\n"
   ]
  },
  {
   "cell_type": "markdown",
   "metadata": {},
   "source": [
    "Ans: 语音识别"
   ]
  },
  {
   "cell_type": "markdown",
   "metadata": {},
   "source": [
    "#### 7. What's the 1-gram language model;"
   ]
  },
  {
   "cell_type": "markdown",
   "metadata": {},
   "source": [
    "Ans: 单个词语的语言模型，词与词之间没有关联性"
   ]
  },
  {
   "cell_type": "markdown",
   "metadata": {},
   "source": [
    "#### 8. What's the disadvantages and advantages of 1-gram language model;"
   ]
  },
  {
   "cell_type": "markdown",
   "metadata": {},
   "source": [
    "Ans: 计算简单，但是词之间的关联性无法很好体现，计算的准确率比较低"
   ]
  },
  {
   "cell_type": "markdown",
   "metadata": {},
   "source": [
    "#### 9. What't the 2-gram models;"
   ]
  },
  {
   "cell_type": "markdown",
   "metadata": {},
   "source": [
    "Ans: 两个词语的语言模型，词与词之间有关联性"
   ]
  },
  {
   "cell_type": "markdown",
   "metadata": {},
   "source": [
    "## 编程实践部分"
   ]
  },
  {
   "cell_type": "markdown",
   "metadata": {},
   "source": [
    "#### 1. 设计你自己的句子生成器"
   ]
  },
  {
   "cell_type": "markdown",
   "metadata": {},
   "source": [
    "如何生成句子是一个很经典的问题，从1940s开始，图灵提出机器智能的时候，就使用的是人类能不能流畅和计算机进行对话。和计算机对话的一个前提是，计算机能够生成语言。\n",
    "\n",
    "计算机如何能生成语言是一个经典但是又很复杂的问题。 我们课程上为大家介绍的是一种基于规则（Rule Based）的生成方法。该方法虽然提出的时间早，但是现在依然在很多地方能够大显身手。值得说明的是，现在很多很实用的算法，都是很久之前提出的，例如，二分查找提出与1940s, Dijstra算法提出于1960s 等等。"
   ]
  },
  {
   "cell_type": "markdown",
   "metadata": {},
   "source": [
    "在著名的电视剧，电影《西部世界》中，这些机器人们语言生成的方法就是使用的SyntaxTree生成语言的方法。\n",
    "\n",
    "> \n",
    ">\n",
    "\n",
    "![WstWorld](https://timgsa.baidu.com/timg?image&quality=80&size=b10000_10000&sec=1561818705&di=95ca9ff2ff37fcb88ae47b82c7079feb&src=http://s7.sinaimg.cn/mw690/006BKUGwzy75VK46FMi66&690)\n",
    "\n",
    "> \n",
    ">"
   ]
  },
  {
   "cell_type": "markdown",
   "metadata": {},
   "source": [
    "在这一部分，需要各位同学首先定义自己的语言。 大家可以先想一个应用场景，然后在这个场景下，定义语法。例如：\n",
    "\n",
    "在西部世界里，一个”人类“的语言可以定义为：\n",
    "``` \n",
    "human = \"\"\"\n",
    "human = 自己 寻找 活动\n",
    "自己 = 我 | 俺 | 我们 \n",
    "寻找 = 看看 | 找找 | 想找点\n",
    "活动 = 乐子 | 玩的\n",
    "\"\"\"\n",
    "```\n",
    "\n",
    "一个“接待员”的语言可以定义为\n",
    "```\n",
    "host = \"\"\"\n",
    "host = 寒暄 报数 询问 业务相关 结尾 \n",
    "报数 = 我是 数字 号 ,\n",
    "数字 = 单个数字 | 数字 单个数字 \n",
    "单个数字 = 1 | 2 | 3 | 4 | 5 | 6 | 7 | 8 | 9 \n",
    "寒暄 = 称谓 打招呼 | 打招呼\n",
    "称谓 = 人称 ,\n",
    "人称 = 先生 | 女士 | 小朋友\n",
    "打招呼 = 你好 | 您好 \n",
    "询问 = 请问你要 | 您需要\n",
    "业务相关 = 玩玩 具体业务\n",
    "玩玩 = 耍一耍 | 玩一玩\n",
    "具体业务 = 喝酒 | 打牌 | 打猎 | 赌博\n",
    "结尾 = 吗？\"\"\"\n",
    "\n",
    "```\n",
    "\n",
    "\n"
   ]
  },
  {
   "cell_type": "markdown",
   "metadata": {},
   "source": [
    "请定义你自己的语法: "
   ]
  },
  {
   "cell_type": "markdown",
   "metadata": {},
   "source": [
    "第一个语法："
   ]
  },
  {
   "cell_type": "code",
   "execution_count": 82,
   "metadata": {},
   "outputs": [],
   "source": [
    "interview_requirement = '''\n",
    "interview_requirement = 材料 | 内容 | 妆容 | 身体\n",
    "材料 = 面试材料: 面试材料内容\n",
    "内容 = 面试内容: 面试内容内容\n",
    "妆容 = 面试妆容: 面试妆容内容\n",
    "身体 = 体检: 体检内容\n",
    "面试材料内容 = 请携带第二代身份证原件 | 毕业证 | 一寸免冠彩照5张 | 黑色中性水笔1支\n",
    "面试内容内容 = 考察26个英文字母 | 简单加减乘除法\n",
    "面试妆容内容 = 不可穿拖鞋和膝盖以上短裤短裙 | 不要染发 | 烟疤不超过5个可以接收 | 检查纹身\n",
    "体检内容 = 体检费55元自理，体检费可以使用微信、现金或支付宝支付 | 体检项目主要包括血常规（外加谷丙转氨酶）、内外科、量血压、眼科、心电图、胸透或胸片\n",
    "'''"
   ]
  },
  {
   "cell_type": "markdown",
   "metadata": {},
   "source": [
    "第二个语法："
   ]
  },
  {
   "cell_type": "code",
   "execution_count": 48,
   "metadata": {},
   "outputs": [],
   "source": [
    "drama_intro = '''\n",
    "drama_intro = 集数 人物结局 剧情\n",
    "集数 = 第 数字 集 ,\n",
    "数字 = 一 | 二 | 三 | 四 | 五 | 六 | 七 | 八 | 九\n",
    "人物结局 = 人物 out ,\n",
    "人物 = 管理员 | 明星医生 | 田中政雄 | 赤池美里&吾郎 | 袴田吉彦 | 儿岛佳世\n",
    "剧情 = 只要杀掉管理员，整个楼的钥匙都可以掌控了 | 藤井淳史纸条所写 | 欣怡横纸条所写 | 红色的血里死掉 | 穿着袴服死掉的 | 北川所写\n",
    "'''"
   ]
  },
  {
   "cell_type": "markdown",
   "metadata": {},
   "source": [
    "TODO: 然后，使用自己之前定义的generate函数，使用此函数生成句子。"
   ]
  },
  {
   "cell_type": "code",
   "execution_count": 54,
   "metadata": {},
   "outputs": [
    {
     "data": {
      "text/plain": [
       "'第三集,儿岛佳世out,只要杀掉管理员，整个楼的钥匙都可以掌控了'"
      ]
     },
     "execution_count": 54,
     "metadata": {},
     "output_type": "execute_result"
    }
   ],
   "source": [
    "generate(grammar(drama_intro, '='), 'drama_intro')"
   ]
  },
  {
   "cell_type": "markdown",
   "metadata": {},
   "source": [
    "TODO: 然后，定义一个函数，generate_n，将generate扩展，使其能够生成n个句子:"
   ]
  },
  {
   "cell_type": "code",
   "execution_count": 84,
   "metadata": {},
   "outputs": [],
   "source": [
    "def generate_n(gram, target, count):\n",
    "    return [generate(grammar(gram, '='), target) for i in range(count)]"
   ]
  },
  {
   "cell_type": "code",
   "execution_count": 85,
   "metadata": {},
   "outputs": [
    {
     "data": {
      "text/plain": [
       "['面试材料:黑色中性水笔1支',\n",
       " '面试内容:考察26个英文字母',\n",
       " '体检:体检费55元自理，体检费可以使用微信、现金或支付宝支付',\n",
       " '面试内容:考察26个英文字母',\n",
       " '体检:体检项目主要包括血常规（外加谷丙转氨酶）、内外科、量血压、眼科、心电图、胸透或胸片',\n",
       " '面试材料:黑色中性水笔1支',\n",
       " '面试内容:简单加减乘除法',\n",
       " '体检:体检项目主要包括血常规（外加谷丙转氨酶）、内外科、量血压、眼科、心电图、胸透或胸片',\n",
       " '面试材料:黑色中性水笔1支',\n",
       " '面试妆容:不要染发']"
      ]
     },
     "execution_count": 85,
     "metadata": {},
     "output_type": "execute_result"
    }
   ],
   "source": [
    "generate_n(interview_requirement, 'interview_requirement', 10)"
   ]
  },
  {
   "cell_type": "markdown",
   "metadata": {},
   "source": [
    ">"
   ]
  },
  {
   "cell_type": "markdown",
   "metadata": {},
   "source": [
    "#### 2. 使用新数据源完成语言模型的训练"
   ]
  },
  {
   "cell_type": "markdown",
   "metadata": {},
   "source": [
    "按照我们上文中定义的`prob_2`函数，我们更换一个文本数据源，获得新的Language Model:\n",
    "\n",
    "1. 下载文本数据集（你可以在以下数据集中任选一个，也可以两个都使用）\n",
    "    + 可选数据集1，保险行业问询对话集： https://github.com/Computing-Intelligence/insuranceqa-corpus-zh/raw/release/corpus/pool/train.txt.gz\n",
    "    + 可选数据集2：豆瓣评论数据集：https://github.com/Computing-Intelligence/datasource/raw/master/movie_comments.csv\n",
    "2. 修改代码，获得新的**2-gram**语言模型\n",
    "    + 进行文本清洗，获得所有的纯文本\n",
    "    + 将这些文本进行切词\n",
    "    + 送入之前定义的语言模型中，判断文本的合理程度"
   ]
  },
  {
   "cell_type": "code",
   "execution_count": 104,
   "metadata": {},
   "outputs": [],
   "source": [
    "COMMENTS_TOKEN = []"
   ]
  },
  {
   "cell_type": "code",
   "execution_count": 105,
   "metadata": {},
   "outputs": [
    {
     "name": "stderr",
     "output_type": "stream",
     "text": [
      "/usr/local/anaconda3/lib/python3.7/site-packages/IPython/core/interactiveshell.py:3020: DtypeWarning: Columns (0,4) have mixed types. Specify dtype option on import or set low_memory=False.\n",
      "  interactivity=interactivity, compiler=compiler, result=result)\n"
     ]
    }
   ],
   "source": [
    "movie_comments = pd.read_csv('/Users/melvin/Documents/course/nlp/NLP/movie_comments.csv', encoding='utf-8')"
   ]
  },
  {
   "cell_type": "code",
   "execution_count": 106,
   "metadata": {},
   "outputs": [
    {
     "data": {
      "text/html": [
       "<div>\n",
       "<style scoped>\n",
       "    .dataframe tbody tr th:only-of-type {\n",
       "        vertical-align: middle;\n",
       "    }\n",
       "\n",
       "    .dataframe tbody tr th {\n",
       "        vertical-align: top;\n",
       "    }\n",
       "\n",
       "    .dataframe thead th {\n",
       "        text-align: right;\n",
       "    }\n",
       "</style>\n",
       "<table border=\"1\" class=\"dataframe\">\n",
       "  <thead>\n",
       "    <tr style=\"text-align: right;\">\n",
       "      <th></th>\n",
       "      <th>id</th>\n",
       "      <th>link</th>\n",
       "      <th>name</th>\n",
       "      <th>comment</th>\n",
       "      <th>star</th>\n",
       "    </tr>\n",
       "  </thead>\n",
       "  <tbody>\n",
       "    <tr>\n",
       "      <th>0</th>\n",
       "      <td>1</td>\n",
       "      <td>https://movie.douban.com/subject/26363254/</td>\n",
       "      <td>战狼2</td>\n",
       "      <td>吴京意淫到了脑残的地步，看了恶心想吐</td>\n",
       "      <td>1</td>\n",
       "    </tr>\n",
       "    <tr>\n",
       "      <th>1</th>\n",
       "      <td>2</td>\n",
       "      <td>https://movie.douban.com/subject/26363254/</td>\n",
       "      <td>战狼2</td>\n",
       "      <td>首映礼看的。太恐怖了这个电影，不讲道理的，完全就是吴京在实现他这个小粉红的英雄梦。各种装备轮...</td>\n",
       "      <td>2</td>\n",
       "    </tr>\n",
       "    <tr>\n",
       "      <th>2</th>\n",
       "      <td>3</td>\n",
       "      <td>https://movie.douban.com/subject/26363254/</td>\n",
       "      <td>战狼2</td>\n",
       "      <td>吴京的炒作水平不输冯小刚，但小刚至少不会用主旋律来炒作…吴京让人看了不舒服，为了主旋律而主旋...</td>\n",
       "      <td>2</td>\n",
       "    </tr>\n",
       "    <tr>\n",
       "      <th>3</th>\n",
       "      <td>4</td>\n",
       "      <td>https://movie.douban.com/subject/26363254/</td>\n",
       "      <td>战狼2</td>\n",
       "      <td>凭良心说，好看到不像《战狼1》的续集，完虐《湄公河行动》。</td>\n",
       "      <td>4</td>\n",
       "    </tr>\n",
       "    <tr>\n",
       "      <th>4</th>\n",
       "      <td>5</td>\n",
       "      <td>https://movie.douban.com/subject/26363254/</td>\n",
       "      <td>战狼2</td>\n",
       "      <td>中二得很</td>\n",
       "      <td>1</td>\n",
       "    </tr>\n",
       "  </tbody>\n",
       "</table>\n",
       "</div>"
      ],
      "text/plain": [
       "  id                                        link name  \\\n",
       "0  1  https://movie.douban.com/subject/26363254/  战狼2   \n",
       "1  2  https://movie.douban.com/subject/26363254/  战狼2   \n",
       "2  3  https://movie.douban.com/subject/26363254/  战狼2   \n",
       "3  4  https://movie.douban.com/subject/26363254/  战狼2   \n",
       "4  5  https://movie.douban.com/subject/26363254/  战狼2   \n",
       "\n",
       "                                             comment star  \n",
       "0                                 吴京意淫到了脑残的地步，看了恶心想吐    1  \n",
       "1  首映礼看的。太恐怖了这个电影，不讲道理的，完全就是吴京在实现他这个小粉红的英雄梦。各种装备轮...    2  \n",
       "2  吴京的炒作水平不输冯小刚，但小刚至少不会用主旋律来炒作…吴京让人看了不舒服，为了主旋律而主旋...    2  \n",
       "3                      凭良心说，好看到不像《战狼1》的续集，完虐《湄公河行动》。    4  \n",
       "4                                               中二得很    1  "
      ]
     },
     "execution_count": 106,
     "metadata": {},
     "output_type": "execute_result"
    }
   ],
   "source": [
    "movie_comments.head()"
   ]
  },
  {
   "cell_type": "code",
   "execution_count": 107,
   "metadata": {},
   "outputs": [],
   "source": [
    "comments = movie_comments['comment'].tolist()"
   ]
  },
  {
   "cell_type": "code",
   "execution_count": 109,
   "metadata": {},
   "outputs": [],
   "source": [
    "comments_clean = [''.join(token(str(a))) for a in comments]"
   ]
  },
  {
   "cell_type": "code",
   "execution_count": 112,
   "metadata": {},
   "outputs": [
    {
     "data": {
      "text/plain": [
       "['吴京意淫到了脑残的地步看了恶心想吐',\n",
       " '首映礼看的太恐怖了这个电影不讲道理的完全就是吴京在实现他这个小粉红的英雄梦各种装备轮番上场视物理逻辑于不顾不得不说有钱真好随意胡闹',\n",
       " '吴京的炒作水平不输冯小刚但小刚至少不会用主旋律来炒作吴京让人看了不舒服为了主旋律而主旋律为了煽情而煽情让人觉得他是个大做作大谎言家729更新片子整体不如湄公河行动1整体不够流畅编剧有毒台词尴尬2刻意做作的主旋律煽情显得如此不合时宜而又多余',\n",
       " '凭良心说好看到不像战狼1的续集完虐湄公河行动',\n",
       " '中二得很',\n",
       " '犯我中华者虽远必诛吴京比这句话还要意淫一百倍',\n",
       " '脑子是个好东西希望编剧们都能有',\n",
       " '三星半实打实的7分第一集在爱国主旋律内部做着各种置换与较劲但第二集才真正显露吴京的野心他终于抛弃李忠志了新增外来班底让硬件实力有机会和国际接轨开篇水下长镜头和诸如铁丝网拦截RPG弹头的细节设计都让国产动作片重新封顶在理念上它甚至做到绣春刀2最想做到的那部分',\n",
       " '开篇长镜头惊险大气引人入胜结合了水平不俗的快剪下实打实的真刀真枪让人不禁热血沸腾特别弹簧床架挡炸弹空手接碎玻璃弹匣割喉等帅得飞起就算前半段铺垫节奏散漫主角光环开太大等也不怕作为一个中国人两个小时弥漫着中国强大得不可侵犯的氛围还是让那颗民族自豪心砰砰砰跳个不停',\n",
       " '15100吴京的冷峰在这部里即像成龙又像杰森斯坦森但体制外的同类型电影主角总是代表个人无能的政府需要求助于这些英雄才能解决难题体现的是个人的价值所以主旋律照抄这种模式实际上是有问题的我们以前嘲笑个人英雄主义却没想到捆绑爱国主义的全能战士更加难以下咽',\n",
       " '犯我中华者虽远必诛是有多无脑才信这句话',\n",
       " '这部戏让人看的热血沸腾对吴京路转粉最后的彩蛋让我们没有理由不期待下一部',\n",
       " '假嗨特别恶心的电影',\n",
       " '有几处情节设置过于尴尬彰显国家自豪感的部分稍显突兀',\n",
       " '就是一部爽片打戏挺燃但是故事一般达康书记不合适这个角色赵东来倒是很合适张瀚太太太违和了分分钟穿越回偶像剧',\n",
       " '赵东来达康书记我们接到在非洲卧底的冷锋报告丁义珍现在非洲我们请求抓捕李达康东来这件事先不要声张特别是别让省厅知道就你和我一起去非洲加上冷锋同志三人逮捕丁义珍这次行就叫战狼2吧',\n",
       " '下一部拍喜剧吧整个片子真感觉挺搞笑的',\n",
       " '战狼2里吴京这么能打他打得过徐晓冬么',\n",
       " '心往一处想劲往一处使就能实现我们的梦想看吧比第一部好太多了谢谢美队的动作指导',\n",
       " '这都能火是我没见识',\n",
       " '开头的水下长对决戏可算华语电影的顶尖存在驱逐舰导弹和坦克在商业片里这么狂用也是了得镜头运用和笑点插入都很好莱坞爆米花不功不过从头打到尾是真拼虽然镜头也有略乱时因为没啥期望值所以被吴京的野心吓了一跳吴刚于谦和丁海峰老三位像炖烂熟的牛筋嚼着就舒服',\n",
       " '很用心啊吴京导演小看你了确实在导演上下功夫了拉片子了知道借鉴是好的至于大家比较反感的小粉红情绪我觉得那些桥段都是主旋律必备啊是稍微有一点过但还可以接受最好的地方是吴京节奏掌握得很好知道张弛有度这点很难得',\n",
       " '犯我中华者虽远必诛这句话一直在我脑子里回响',\n",
       " '片头海里那场动作戏看完就呆不下去了太假太做作提前离场',\n",
       " '好看这部戏让人看的热血沸腾打戏挺燃的吴京演技棒呆了',\n",
       " '符合有钱了续集反而拍更差这一放之四海而皆准的规律场面越做越大然而伴随着各种动作场面和特效场面的升级这一部的叙事反而变得非常凌乱格局颇大想拍成黑鹰坠落结果撑死最多也只是官方主旋律版的敢死队吴京确实有野心但论自我角色定位能力远不如同是动作演员出身的甄子丹',\n",
       " '说喜欢这部片子的人不是装傻就是真傻要不是真的没有别的可看肯定是不会选这部的直男癌到令人发指所有剧情走向也完全是九十年代那套照搬审美这件事儿真不是一时半会儿能培养出来的',\n",
       " '整部电影延续1的风格热血场面比1来的要大打戏动作不错吴京挺适合演军人的电影之前的中国梦片段他都念的劲儿劲儿的整体来说还不错不过张翰太违和了一出来就一股雷阵雨的画风',\n",
       " '目瞪狗呆太瘠薄好看了中国人牛b就是硬道理隔壁建军大爷都没你们爱国',\n",
       " '战狼2的动作场景和战斗装备全线升级热血的打斗动作从头打到尾战狼2游走在电影审查红线的边界和政治安全的缝隙是部延续了第一部极具煽动爱国情绪的国产动作大片如此制作精良的影片还请多来一点',\n",
       " '电影用的胶卷挺差的故事过度也差地方部队还没太多展示就死去反正各种问题但就是能吸引人看下去就冲这为什么要这么鄙视敢想敢去开拓的人不允许他们再去拍直到能有更好的人拍出更棒的更出彩的电影来呢',\n",
       " '火爆的场面拍出了好莱坞大片的感觉本片必将燃爆暑期',\n",
       " '吴京厉害了身为武打演员能拍到这么高标准的大场面的枪战戏为你点赞热血男儿荷尔蒙爆发',\n",
       " '能给0星么好恶心啊',\n",
       " '血战钢锯岭中国人也会觉得好看因为它歌颂的宗教情怀是超越政权的但当你只想歌颂一个政权时很明显就低了一个层次甚至充满了现实乃至投机的考量高下立见',\n",
       " '请问吴京脑残弹簧床能挡火箭炮吗',\n",
       " '上一部是傲气雄鹰这一部是第一滴血4吴京算是国内导演对类型片感觉比较准的作为动作片钱都花在有效地方整体火爆流畅有大片气魄创作上也足够真诚人物设计也都不错连张翰都很可爱了如果吴京不像当年甄子丹那样一时膨胀在银幕上独占聚光灯肯定可以走得更远',\n",
       " '扪心自问这种电影真没法评价全片靠动作戏撑完文戏都是扯淡女主角毫无存在的必要故事不需要逻辑只要主角开挂但牛逼之处在于全片都透露着极强烈的爱国主义光环和意识形态枷锁在祖国面前一切反动派都是纸老虎所以战狼一个人开挂团灭一个连都是合情合理的动作戏还不错挺用心两星鼓励',\n",
       " '扪心自问这种电影真没法评价全片靠动作戏撑完文戏都是扯淡女主角毫无存在的必要故事不需要逻辑只要主角开挂但牛逼之处在于全片都透露着极强烈的爱国主义光环和意识形态枷锁在祖国面前一切反动派都是纸老虎所以战狼一个人开挂团灭一个连都是合情合理的动作戏还不错挺用心两星鼓励',\n",
       " '两星给打戏其他一般般没啥看点还有点尴尬',\n",
       " '太尴尬了手接炸弹哈哈哈从张翰出来之后我就想炸了他',\n",
       " '翻了一下我给第一部的评价是四星当时觉得挺燃的这部其实在完成度上更接近好莱坞的制作了每个步骤每个人物的走向都很顺滑没有任何出人意料的地方只给三星是因为看看最近现实世界的一切抱歉我在影院里燃不起来只是觉得一切都很魔幻当然开头的强拆是最有现实感的一幕了',\n",
       " '太喜欢战狼2开场6分钟长镜头的水下搏斗戏了从来没有在其它任何一部电影里看到过因为拍摄难度真的不一般同时还对演员有各种技能方面的要求看完片子回来搜了下被吴京会游泳潜水滑雪开飞机开坦克射击等各项技能还特意去特种部队当过18个月兵真的很佩服这样的电影人',\n",
       " '3星半1电影结束有掌声出现近期少见2一粒爱国主义大补丸有人吃的开心有人觉得补大了3从头打到尾从白打到黑4从片头字幕到影片细节完全展现了吴京作为一个超级直男的糙和猛主角光环媲美终结者5达康书记无亮点张翰变谐星63D7导演的掌控能力逼近Hold不住的边缘',\n",
       " '打戏非常带感燃爆了拳拳到肉看得超爽',\n",
       " '吴京确实很聪明很鸡贼在一面大旗下呈现了一出重工业娱乐电影他一直调控着说教和娱乐的比例娱乐多了尺度不被允许说教多了大众不接纳比例把握非常微妙这其中还是有一些奇侠化的内容比如用玻璃碴子当飞镖杀敌一类只不过被遮盖掉了老爹演过美剧搏击王国力荐那部美剧',\n",
       " '作为主旋律影片为啥用奇异恩典配乐画内镜头还是中国军人',\n",
       " '男生看这部电影的话应该会很喜欢因为很刺激肾上腺素如果是女生冷锋对龙小云的感情也会十分打动你真的',\n",
       " '无脑动作片模仿许多好莱坞大场面再想怎么玩怎么玩一股脑堆槽点多到炸几位主角血厚到科幻级别吴京重复演满血红血中毒极速回血爆种打通全场确实很拼但片子太过投机取巧炸穿银幕连迈克尔贝都不受待见了国片还前仆后继炸不停故事不好看堆再多大场面大爆炸假high瞎燃也没用510',\n",
       " '吴京这种女人就缺我这样的男人征服心往一处想劲往一处使就能实现吴京直男癌的中国梦',\n",
       " '美国大片就能意淫国产的就不行美国的就打不死全都跳飞机跟跳墙一样中国就不行',\n",
       " '好莱坞总是美国总是拯救世界国产片就是中国梦想拯救非洲',\n",
       " '以现在的中印局势来对比这部电影假想的内容还真是挺讽刺的哈哈哈',\n",
       " '谄媚投机到恶心',\n",
       " '作为军旅题材给四星我觉得不过分质感燃到爆炸',\n",
       " '燃大场面真的不输国外大片不尴尬吴京打戏很精彩水下搏斗看着也很有力必须安利一下张翰这角色简直就是个彩蛋啊承包所有笑点为他量身定做的哈哈哈彭于晏可演不来是真的好看',\n",
       " '战狼2的制作明显比第一部升级了不少坦克漂移无人机突袭直升机坠露水下肉搏军舰导弹发射场面和动作再加上非洲叛乱国际化的视角完全是好莱坞大片的标配吴京饰演的冷锋更加深入人心如此搏命的精神在当下华语动作电影算是少见了期待第三部',\n",
       " '好燃啊好看表白吴京和达康书记',\n",
       " '燃大场面真的不输国外大片不尴尬吴京打戏很精彩水下搏斗看着也很有力必须安利一下张翰这角色简直就是个彩蛋啊承包所有笑点为他量身定做的哈哈哈彭于晏可演不来是真的好看',\n",
       " '战狼2的制作明显比第一部升级了不少坦克漂移无人机突袭直升机坠露水下肉搏军舰导弹发射场面和动作再加上非洲叛乱国际化的视角完全是好莱坞大片的标配吴京饰演的冷锋更加深入人心如此搏命的精神在当下华语动作电影算是少见了期待第三部',\n",
       " '好燃啊好看表白吴京和达康书记',\n",
       " '典型美国大片的方式每次都能猜对剧情没劲诶我就想问王牌特工就那么点杀人的镜头还经过艺术处理都直接删了战狼2这种血腥屠杀的镜头赤裸裸的大段大段的是怎么过的政治正确就有庇衣了',\n",
       " '意料之中的精彩意料之外的惊喜属于我们的英雄展现狼性的军魂',\n",
       " '几个网红拉出来弹弹琴你们就说燃了彰显我大国气象荷尔蒙满屏这TM才叫燃这部电影告诉我们中国人也是可以拯救世界的',\n",
       " '吴迪塞尔如入无人之境7亿大陆直男在这一刻集体勃起心往一处想劲往一处使你就能离开影厅不是个屌丝了',\n",
       " '同样是主旋律片子比电影开始前的我的中国梦要屌一万倍',\n",
       " '吴京这一次完全就是用超级英雄的标准来打造角色美式英雄主义与主旋律的违和是不可逆转的缺点各种笑料也一定程度地破坏了节奏感斥巨资炮制的大场面有所体验动作场面的流畅自然也比得上好莱坞水准但满到溢出却又影响了观感有着明显的优缺点但却会是受一般观众喜爱的院线电影两星半',\n",
       " '3d扣分',\n",
       " '和第一部同样精彩看完之后我热血澎拜啊',\n",
       " '纯粹拍的很难看啊',\n",
       " '集体癔症',\n",
       " '这个系列从1开始就跟吃了壮阳药似的',\n",
       " '张翰脸比女主白太多了请问用了什么护肤品',\n",
       " '客观的说七分虽然情节逻辑有各种经不起推敲的细节但总体完成度很高虽然反派有点无脑脸谱化但配角形象还算丰满尤其张瀚的富二代形象居然不招人讨厌有笑点有泪点是部用心的片子瑕不掩瑜值得鼓励',\n",
       " '在吴京的个人英雄幻想下连主旋律都沦为附庸了我tm还能说什么主角已经牛逼到突破逻辑的地步全天下超级无敌牛逼就是你了好啦好啦我都知道',\n",
       " '1看看人家装逼装得多专业2由于全国发布高温警报主角只好去非洲避暑了3Tundu我不要去中国中国太他妈热了我会被晒黑的4张翰在本片饰演亦凡整个太平洋都是他承包的鱼塘5达康书记东来局长都是幌子实际上反派是美队对冷锋的考验下集他将加入复联一起打灭霸',\n",
       " '三星半与首部一脉相承但脱离了军旅题材的限制变成了孤胆英雄动作片与第一滴血系列是一样的故事不新鲜但场面更大动作部分在技巧火爆之间切换整体非常燃片长有些长能看出拍摄时受限颇多有的镜头一看就是硬性指标但这样的片对拓展华语类型片有好处还是多多益善',\n",
       " '已三刷不明白为什么会有人说中二和吴京意淫这种类型的电影肯定要有一个英雄人物带动情节的发展真的好看全场无尿点谁会希望有战乱一些人或群体为了自己的私人利益发动战争但这苦的可是手无寸铁之力的民众祈求一个永远也实现不了的愿望世界和平黑子跪久了都站不起来了5分力荐',\n",
       " '张翰脸比女主白太多了请问用了什么护肤品',\n",
       " '客观的说七分虽然情节逻辑有各种经不起推敲的细节但总体完成度很高虽然反派有点无脑脸谱化但配角形象还算丰满尤其张瀚的富二代形象居然不招人讨厌有笑点有泪点是部用心的片子瑕不掩瑜值得鼓励',\n",
       " '在吴京的个人英雄幻想下连主旋律都沦为附庸了我tm还能说什么主角已经牛逼到突破逻辑的地步全天下超级无敌牛逼就是你了好啦好啦我都知道',\n",
       " '1看看人家装逼装得多专业2由于全国发布高温警报主角只好去非洲避暑了3Tundu我不要去中国中国太他妈热了我会被晒黑的4张翰在本片饰演亦凡整个太平洋都是他承包的鱼塘5达康书记东来局长都是幌子实际上反派是美队对冷锋的考验下集他将加入复联一起打灭霸',\n",
       " '三星半与首部一脉相承但脱离了军旅题材的限制变成了孤胆英雄动作片与第一滴血系列是一样的故事不新鲜但场面更大动作部分在技巧火爆之间切换整体非常燃片长有些长能看出拍摄时受限颇多有的镜头一看就是硬性指标但这样的片对拓展华语类型片有好处还是多多益善',\n",
       " '已三刷不明白为什么会有人说中二和吴京意淫这种类型的电影肯定要有一个英雄人物带动情节的发展真的好看全场无尿点谁会希望有战乱一些人或群体为了自己的私人利益发动战争但这苦的可是手无寸铁之力的民众祈求一个永远也实现不了的愿望世界和平黑子跪久了都站不起来了5分力荐',\n",
       " '样板戏走向全球',\n",
       " '捧高美国队长贬低战狼双重标准不要玩的太溜好莱坞玩爱美国就是高大上国内玩爱国就是假大空真不懂你们这些没有膝盖的人',\n",
       " '二十年前当我还是个懵懂的小孩子看到这样的故事和镜头我会被感动的哭鼻子如今二十年过去了你却还拿这样的故事逻辑和镜头给我看我只能尴尬的笑',\n",
       " '战狼2可以说用军舰坦克撞开了国产电影重工业的大门让观众了解到国产电影也可以像好莱坞大片一样可以有自己的超级英雄',\n",
       " '说剧情有bug我承认但你看的燃不燃high不high动作打得过瘾不过瘾看得心潮澎湃没有激动不国产商业动作片能拍到这个水准已经值得表扬了不给鼓励还在那挑刺呵呵',\n",
       " '这一星给开场拆房子的那场戏太不符合社会主义核心价值观了',\n",
       " '电影院一个人就买了四张票不打折请全家看心疼我的小钱钱还好家长们的反应是好的把吴京猛夸了一通中国式的动作大片并不逊色好莱坞只要他们满意我也就心满意足了我珍惜一家人和和气气的团聚时刻卢靖姗真漂亮干练明朗的健康美吴京好好拍第三部继续约啊',\n",
       " '听说过夜郎自大吗我第一次知道中国人这么牛逼中国部队所向披靡连特么坦克都能给你开漂移整部电影都是吴京一个人在意淫意淫真可怕中国维和单凭一个视频能越过联合国长驱直入到别国领土进行作战你当Africa是你家后院么意淫强国我身为天朝子民相当之荣幸扬我国威震我中华',\n",
       " '我跟你们讲吴京当年在电视上大吹牛逼说自己在杀破狼里和甄子丹真打多厉害多牛逼结果花絮里明明白白地展现了甄如何设计全套动作从头到尾手把手地教吴京',\n",
       " '中國狼不咬中國人www',\n",
       " '冷锋像是一个符号他代表着千千万万守护我们的军人国强则民安生活在这个没有战争的国度我们真的算是非常幸福每一个军人都值得我们尊敬这个强大的祖国也值得我们热爱如同影片的主旨中国护照不能带你去任何一个国家但能从任何一个地方把你平安带回家',\n",
       " '非常难看也不知道导演哪儿来的自信',\n",
       " '一部政治宣传片中国也就在非洲还有点脸面了给宏大的战争场面和吴京卖力的打斗五星剧情减一星政治倾向剪一星综合三星',\n",
       " '诚意满满全程无尿点吴京非常帅剧情比战狼1好看多了',\n",
       " '23点45分开始1点48分结束我看了12次手机影厅的天花板上有8条线组合成三角形装饰18个音响在棚顶前12个并列排放后面6个33一组一共24个探照灯第12个旁边有个摄像头另外中国护照上没有那句话',\n",
       " '有一场坦克戏简直令人浮想连连啊吴京真的不是故意的嘛又是压人压成肉泥的镜头又是吴京站在坦克正前面稍有常识的人都会看出如果敌方的铁骑继续前进然而吴京这个螳臂当车的歹徒真的阻挡住了']"
      ]
     },
     "execution_count": 112,
     "metadata": {},
     "output_type": "execute_result"
    }
   ],
   "source": [
    "comments_clean[:100]"
   ]
  },
  {
   "cell_type": "code",
   "execution_count": 113,
   "metadata": {},
   "outputs": [],
   "source": [
    "for comment in comments_clean:\n",
    "    COMMENTS_TOKEN += cut(comment)"
   ]
  },
  {
   "cell_type": "code",
   "execution_count": 114,
   "metadata": {},
   "outputs": [
    {
     "data": {
      "text/plain": [
       "['吴京', '意淫', '到', '了', '脑残', '的', '地步', '看', '了', '恶心']"
      ]
     },
     "execution_count": 114,
     "metadata": {},
     "output_type": "execute_result"
    }
   ],
   "source": [
    "COMMENTS_TOKEN[:10]"
   ]
  },
  {
   "cell_type": "code",
   "execution_count": 115,
   "metadata": {},
   "outputs": [],
   "source": [
    "comment_words_count = Counter(COMMENTS_TOKEN)"
   ]
  },
  {
   "cell_type": "code",
   "execution_count": 116,
   "metadata": {},
   "outputs": [
    {
     "data": {
      "text/plain": [
       "[('的', 394929),\n",
       " ('了', 126151),\n",
       " ('是', 88908),\n",
       " ('我', 61300),\n",
       " ('都', 44573),\n",
       " ('看', 41509),\n",
       " ('很', 41398),\n",
       " ('电影', 40843),\n",
       " ('也', 39202),\n",
       " ('和', 38221),\n",
       " ('在', 37842),\n",
       " ('不', 34633),\n",
       " ('有', 34023),\n",
       " ('就', 31612),\n",
       " ('人', 28971),\n",
       " ('好', 27796),\n",
       " ('啊', 25407),\n",
       " ('还', 21497),\n",
       " ('这', 21144),\n",
       " ('你', 21111),\n",
       " ('一个', 20949),\n",
       " ('还是', 20073),\n",
       " ('但', 19023),\n",
       " ('故事', 17859),\n",
       " ('没有', 17486),\n",
       " ('就是', 17166),\n",
       " ('让', 16330),\n",
       " ('喜欢', 16052),\n",
       " ('太', 15422),\n",
       " ('剧情', 14397),\n",
       " ('又', 14085),\n",
       " ('没', 13405),\n",
       " ('说', 13353),\n",
       " ('吧', 13133),\n",
       " ('他', 13083),\n",
       " ('给', 12753),\n",
       " ('不错', 12709),\n",
       " ('到', 12695),\n",
       " ('得', 12604),\n",
       " ('上', 12402),\n",
       " ('这个', 12194),\n",
       " ('被', 12183),\n",
       " ('一部', 11987),\n",
       " ('最后', 11928),\n",
       " ('对', 11907),\n",
       " ('能', 11797),\n",
       " ('什么', 11564),\n",
       " ('片子', 11335),\n",
       " ('多', 11194),\n",
       " ('可以', 10876),\n",
       " ('与', 10796),\n",
       " ('最', 10717),\n",
       " ('不是', 10644),\n",
       " ('觉得', 10549),\n",
       " ('导演', 10138),\n",
       " ('好看', 10104),\n",
       " ('中', 10103),\n",
       " ('要', 9965),\n",
       " ('拍', 9963),\n",
       " ('自己', 9932),\n",
       " ('真的', 9820),\n",
       " ('感觉', 9507),\n",
       " ('但是', 9329),\n",
       " ('里', 9305),\n",
       " ('这部', 9093),\n",
       " ('想', 9091),\n",
       " ('那', 9052),\n",
       " ('去', 8970),\n",
       " ('有点', 8968),\n",
       " ('会', 8960),\n",
       " ('把', 8797),\n",
       " ('着', 8498),\n",
       " ('这么', 8396),\n",
       " ('个', 7993),\n",
       " ('小', 7909),\n",
       " ('真是', 7832),\n",
       " ('那么', 7798),\n",
       " ('片', 7797),\n",
       " ('这样', 7744),\n",
       " ('而', 7737),\n",
       " ('这种', 7714),\n",
       " ('不过', 7695),\n",
       " ('比', 7642),\n",
       " ('挺', 7637),\n",
       " ('更', 7544),\n",
       " ('时候', 7501),\n",
       " ('大', 7232),\n",
       " ('演技', 7104),\n",
       " ('却', 7005),\n",
       " ('我们', 6964),\n",
       " ('爱', 6946),\n",
       " ('虽然', 6907),\n",
       " ('像', 6806),\n",
       " ('其实', 6700),\n",
       " ('再', 6689),\n",
       " ('看到', 6652),\n",
       " ('演员', 6598),\n",
       " ('知道', 6518),\n",
       " ('来', 6263),\n",
       " ('真', 6137)]"
      ]
     },
     "execution_count": 116,
     "metadata": {},
     "output_type": "execute_result"
    }
   ],
   "source": [
    "comment_words_count.most_common(100)"
   ]
  },
  {
   "cell_type": "code",
   "execution_count": 117,
   "metadata": {},
   "outputs": [],
   "source": [
    "COMMENTS_TOKEN = [str(t) for t in COMMENTS_TOKEN]"
   ]
  },
  {
   "cell_type": "code",
   "execution_count": 118,
   "metadata": {},
   "outputs": [],
   "source": [
    "COMMENTS_TOKEN_2_GRAM = [''.join(COMMENTS_TOKEN[i:i+2]) for i in range(len(COMMENTS_TOKEN[:-2]))]"
   ]
  },
  {
   "cell_type": "code",
   "execution_count": 119,
   "metadata": {},
   "outputs": [],
   "source": [
    "words_count_2 = Counter(COMMENTS_TOKEN_2_GRAM)"
   ]
  },
  {
   "cell_type": "code",
   "execution_count": 120,
   "metadata": {},
   "outputs": [
    {
     "data": {
      "text/plain": [
       "[('的电影', 10316),\n",
       " ('看的', 8529),\n",
       " ('都是', 7718),\n",
       " ('让人', 6525),\n",
       " ('看了', 5619),\n",
       " ('的故事', 5531),\n",
       " ('也是', 5397),\n",
       " ('的时候', 5381),\n",
       " ('的是', 5331),\n",
       " ('的人', 5234),\n",
       " ('看完', 4626),\n",
       " ('我的', 4168),\n",
       " ('让我', 3972),\n",
       " ('的片子', 3897),\n",
       " ('这样的', 3401),\n",
       " ('这部电影', 3343),\n",
       " ('很好', 3182),\n",
       " ('电影的', 3064),\n",
       " ('的感觉', 3063),\n",
       " ('不知道', 3057),\n",
       " ('好的', 2975),\n",
       " ('了我', 2874),\n",
       " ('拍的', 2795),\n",
       " ('人的', 2756),\n",
       " ('自己的', 2740),\n",
       " ('中的', 2687),\n",
       " ('的一部', 2574),\n",
       " ('是我', 2513),\n",
       " ('是个', 2451),\n",
       " ('我觉得', 2381),\n",
       " ('还不错', 2357),\n",
       " ('喜欢的', 2251),\n",
       " ('很有', 2224),\n",
       " ('不错的', 2202),\n",
       " ('他的', 2184),\n",
       " ('这是', 2177),\n",
       " ('的剧情', 2118),\n",
       " ('的我', 2086),\n",
       " ('都很', 2085),\n",
       " ('的演技', 2056),\n",
       " ('里的', 2041),\n",
       " ('不喜欢', 1943),\n",
       " ('也很', 1936),\n",
       " ('了吧', 1918),\n",
       " ('好看的', 1895),\n",
       " ('最好的', 1884),\n",
       " ('的很', 1849),\n",
       " ('的表演', 1848),\n",
       " ('很喜欢', 1834),\n",
       " ('最后的', 1819),\n",
       " ('的好', 1801),\n",
       " ('你的', 1783),\n",
       " ('也不', 1781),\n",
       " ('我也', 1776),\n",
       " ('我就', 1735),\n",
       " ('我是', 1721),\n",
       " ('都有', 1703),\n",
       " ('都不', 1689),\n",
       " ('人都', 1668),\n",
       " ('了一个', 1664),\n",
       " ('这片子', 1638),\n",
       " ('去看', 1616),\n",
       " ('的地方', 1612),\n",
       " ('上的', 1605),\n",
       " ('很不错', 1583),\n",
       " ('演的', 1574),\n",
       " ('就像', 1571),\n",
       " ('的作品', 1570),\n",
       " ('一个人', 1542),\n",
       " ('的东西', 1533),\n",
       " ('真的是', 1515),\n",
       " ('多了', 1513),\n",
       " ('实在是', 1507),\n",
       " ('太多', 1502),\n",
       " ('才是', 1478),\n",
       " ('的角色', 1458),\n",
       " ('的生活', 1455),\n",
       " ('还可以', 1433),\n",
       " ('的都', 1409),\n",
       " ('到了', 1380),\n",
       " ('看得', 1378),\n",
       " ('又是', 1365),\n",
       " ('的小', 1363),\n",
       " ('还是很', 1336),\n",
       " ('我喜欢', 1335),\n",
       " ('牛逼', 1328),\n",
       " ('还能', 1326),\n",
       " ('是一个', 1309),\n",
       " ('都在', 1299),\n",
       " ('是一部', 1298),\n",
       " ('电影里', 1296),\n",
       " ('也就', 1283),\n",
       " ('最喜欢', 1283),\n",
       " ('一部电影', 1282),\n",
       " ('是在', 1278),\n",
       " ('我都', 1276),\n",
       " ('我看', 1273),\n",
       " ('每个人', 1259),\n",
       " ('了这', 1252),\n",
       " ('一样的', 1249)]"
      ]
     },
     "execution_count": 120,
     "metadata": {},
     "output_type": "execute_result"
    }
   ],
   "source": [
    "words_count_2.most_common(100)"
   ]
  },
  {
   "cell_type": "code",
   "execution_count": 122,
   "metadata": {},
   "outputs": [
    {
     "name": "stdout",
     "output_type": "stream",
     "text": [
      "明天晚上请你吃大餐，我们一起吃苹果 is more possible\n",
      "---- 今天晚上请你吃大餐，我们一起吃日料 with probility 3.7278480083233214e-66\n",
      "---- 明天晚上请你吃大餐，我们一起吃苹果 with probility 4.473417609987986e-66\n",
      "真是一只好看的小猫 is more possible\n",
      "---- 真事一只好看的小猫 with probility 7.443571060799641e-32\n",
      "---- 真是一只好看的小猫 with probility 1.0036591144826621e-25\n",
      "今晚我去吃火锅 is more possible\n",
      "---- 今晚我去吃火锅 with probility 1.8716118782667694e-19\n",
      "---- 今晚火锅去吃我 with probility 1.7795749998215013e-27\n",
      "养乐多绿来一杯 is more possible\n",
      "---- 洋葱奶昔来一杯 with probility 1.8567578157408427e-22\n",
      "---- 养乐多绿来一杯 with probility 3.254644117606538e-15\n"
     ]
    }
   ],
   "source": [
    "need_compared = [\n",
    "    \"今天晚上请你吃大餐，我们一起吃日料 明天晚上请你吃大餐，我们一起吃苹果\",\n",
    "    \"真事一只好看的小猫 真是一只好看的小猫\",\n",
    "    \"今晚我去吃火锅 今晚火锅去吃我\",\n",
    "    \"洋葱奶昔来一杯 养乐多绿来一杯\"\n",
    "]\n",
    "for s in need_compared:\n",
    "    s1, s2 = s.split()\n",
    "    p1, p2 = get_probablity(s1), get_probablity(s2)\n",
    "    \n",
    "    better = s1 if p1 > p2 else s2\n",
    "    \n",
    "    print('{} is more possible'.format(better))\n",
    "    print('-'*4 + ' {} with probility {}'.format(s1, p1))\n",
    "    print('-'*4 + ' {} with probility {}'.format(s2, p2))"
   ]
  },
  {
   "cell_type": "markdown",
   "metadata": {},
   "source": [
    "> "
   ]
  },
  {
   "cell_type": "markdown",
   "metadata": {},
   "source": [
    "#### 3. 获得最优质的的语言"
   ]
  },
  {
   "cell_type": "markdown",
   "metadata": {},
   "source": [
    "当我们能够生成随机的语言并且能判断之后，我们就可以生成更加合理的语言了。请定义 generate_best 函数，该函数输入一个语法 + 语言模型，能够生成**n**个句子，并能选择一个最合理的句子: \n",
    "\n"
   ]
  },
  {
   "cell_type": "markdown",
   "metadata": {},
   "source": [
    "提示，要实现这个函数，你需要Python的sorted函数"
   ]
  },
  {
   "cell_type": "code",
   "execution_count": 13,
   "metadata": {},
   "outputs": [
    {
     "data": {
      "text/plain": [
       "[1, 2, 3, 5]"
      ]
     },
     "execution_count": 13,
     "metadata": {},
     "output_type": "execute_result"
    }
   ],
   "source": [
    "sorted([1, 3, 5, 2])"
   ]
  },
  {
   "cell_type": "markdown",
   "metadata": {},
   "source": [
    "这个函数接受一个参数key，这个参数接受一个函数作为输入，例如"
   ]
  },
  {
   "cell_type": "code",
   "execution_count": 15,
   "metadata": {},
   "outputs": [
    {
     "data": {
      "text/plain": [
       "[(1, 4), (2, 5), (4, 4), (5, 0)]"
      ]
     },
     "execution_count": 15,
     "metadata": {},
     "output_type": "execute_result"
    }
   ],
   "source": [
    "sorted([(2, 5), (1, 4), (5, 0), (4, 4)], key=lambda x: x[0])"
   ]
  },
  {
   "cell_type": "markdown",
   "metadata": {},
   "source": [
    "能够让list按照第0个元素进行排序."
   ]
  },
  {
   "cell_type": "code",
   "execution_count": 16,
   "metadata": {},
   "outputs": [
    {
     "data": {
      "text/plain": [
       "[(5, 0), (1, 4), (4, 4), (2, 5)]"
      ]
     },
     "execution_count": 16,
     "metadata": {},
     "output_type": "execute_result"
    }
   ],
   "source": [
    "sorted([(2, 5), (1, 4), (5, 0), (4, 4)], key=lambda x: x[1])"
   ]
  },
  {
   "cell_type": "markdown",
   "metadata": {},
   "source": [
    "能够让list按照第1个元素进行排序."
   ]
  },
  {
   "cell_type": "code",
   "execution_count": 17,
   "metadata": {},
   "outputs": [
    {
     "data": {
      "text/plain": [
       "[(2, 5), (1, 4), (4, 4), (5, 0)]"
      ]
     },
     "execution_count": 17,
     "metadata": {},
     "output_type": "execute_result"
    }
   ],
   "source": [
    "sorted([(2, 5), (1, 4), (5, 0), (4, 4)], key=lambda x: x[1], reverse=True)"
   ]
  },
  {
   "cell_type": "markdown",
   "metadata": {},
   "source": [
    "能够让list按照第1个元素进行排序, 但是是递减的顺序。"
   ]
  },
  {
   "cell_type": "code",
   "execution_count": 121,
   "metadata": {},
   "outputs": [],
   "source": [
    "def generate_best(gram, target, count): # you code here\n",
    "    sentences = generate_n(gram, target, count)\n",
    "    with_score = map(lambda v: (v, get_probablity(v)), sentences)\n",
    "    with_sorted = sorted(with_score, key = lambda x: x[1], reverse = True)\n",
    "    return with_sorted[0][0]"
   ]
  },
  {
   "cell_type": "code",
   "execution_count": 103,
   "metadata": {},
   "outputs": [
    {
     "data": {
      "text/plain": [
       "'面试材料:毕业证'"
      ]
     },
     "execution_count": 103,
     "metadata": {},
     "output_type": "execute_result"
    }
   ],
   "source": [
    "generate_best(interview_requirement, 'interview_requirement', 10)"
   ]
  },
  {
   "cell_type": "markdown",
   "metadata": {},
   "source": [
    "好了，现在我们实现了自己的第一个AI模型，这个模型能够生成比较接近于人类的语言。"
   ]
  },
  {
   "cell_type": "markdown",
   "metadata": {},
   "source": [
    "Q: 这个模型有什么问题？ 你准备如何提升？ "
   ]
  },
  {
   "cell_type": "markdown",
   "metadata": {},
   "source": [
    "Ans: 基于这个模型的计算出的结果准确性不是很精确，应该是数据集还不够大，导致不能得出之前的计算结果"
   ]
  },
  {
   "cell_type": "markdown",
   "metadata": {},
   "source": [
    ">"
   ]
  },
  {
   "cell_type": "markdown",
   "metadata": {},
   "source": [
    "##### 以下内容为可选部分，对于绝大多数同学，能完成以上的项目已经很优秀了，下边的内容如果你还有精力可以试试，但不是必须的。"
   ]
  },
  {
   "cell_type": "markdown",
   "metadata": {},
   "source": [
    "#### 4. (Optional) 完成基于Pattern Match的语句问答\n",
    "> 我们的GitHub仓库中，有一个assignment-01-optional-pattern-match，这个难度较大，感兴趣的同学可以挑战一下。"
   ]
  },
  {
   "cell_type": "markdown",
   "metadata": {},
   "source": [
    "\n",
    "#### 5. (Optional) 完成阿兰图灵机器智能原始论文的阅读\n",
    "1. 请阅读阿兰图灵关于机器智能的原始论文：https://github.com/Computing-Intelligence/References/blob/master/AI%20%26%20Machine%20Learning/Computer%20Machinery%20and%20Intelligence.pdf \n",
    "2. 并按照GitHub仓库中的论文阅读模板，填写完毕后发送给我: mqgao@kaikeba.com 谢谢"
   ]
  },
  {
   "cell_type": "markdown",
   "metadata": {},
   "source": [
    "> "
   ]
  },
  {
   "cell_type": "markdown",
   "metadata": {},
   "source": [
    "各位同学，我们已经完成了自己的第一个AI模型，大家对人工智能可能已经有了一些感觉，人工智能的核心就是，我们如何设计一个模型、程序，在外部的输入变化的时候，我们的程序不变，依然能够解决问题。人工智能是一个很大的领域，目前大家所熟知的深度学习只是其中一小部分，之后也肯定会有更多的方法提出来，但是大家知道人工智能的目标，就知道了之后进步的方向。"
   ]
  },
  {
   "cell_type": "markdown",
   "metadata": {},
   "source": [
    "然后，希望大家对AI不要有恐惧感，这个并不难，大家加油！"
   ]
  },
  {
   "cell_type": "markdown",
   "metadata": {},
   "source": [
    ">"
   ]
  },
  {
   "cell_type": "markdown",
   "metadata": {},
   "source": [
    "![](https://timgsa.baidu.com/timg?image&quality=80&size=b9999_10000&sec=1561828422005&di=48d19c16afb6acc9180183a6116088ac&imgtype=0&src=http%3A%2F%2Fb-ssl.duitang.com%2Fuploads%2Fitem%2F201807%2F28%2F20180728150843_BECNF.thumb.224_0.jpeg)"
   ]
  }
 ],
 "metadata": {
  "kernelspec": {
   "display_name": "Python 3",
   "language": "python",
   "name": "python3"
  },
  "language_info": {
   "codemirror_mode": {
    "name": "ipython",
    "version": 3
   },
   "file_extension": ".py",
   "mimetype": "text/x-python",
   "name": "python",
   "nbconvert_exporter": "python",
   "pygments_lexer": "ipython3",
   "version": "3.7.1"
  }
 },
 "nbformat": 4,
 "nbformat_minor": 2
}
